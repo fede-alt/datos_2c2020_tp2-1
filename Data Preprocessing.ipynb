{
 "cells": [
  {
   "cell_type": "code",
   "execution_count": 1,
   "metadata": {},
   "outputs": [],
   "source": [
    "import pandas as pd\n",
    "import numpy as np\n",
    "import matplotlib.pyplot as plt"
   ]
  },
  {
   "cell_type": "code",
   "execution_count": 2,
   "metadata": {},
   "outputs": [],
   "source": [
    "date_columns = [\n",
    "                'Account_Created_Date', 'Opportunity_Created_Date',\n",
    "                'Quote_Expiry_Date', 'Last_Modified_Date',\n",
    "                'Planned_Delivery_Start_Date','Planned_Delivery_End_Date',\n",
    "                ]\n",
    "\n",
    "categorical_columns = [\n",
    "        'Region', 'Territory', 'Bureaucratic_Code',\n",
    "        'Source', 'Billing_Country', 'Account_Name',\n",
    "        'Opportunity_Name', 'Account_Owner', 'Opportunity_Owner',\n",
    "        'Account_Type', 'Opportunity_Type', 'Quote_Type',\n",
    "        'Delivery_Terms', 'Brand', 'Product_Type',\n",
    "        'Size', 'Product_Category_B', 'Currency',\n",
    "        'Last_Modified_By', 'Product_Family', 'Product_Name',\n",
    "        'ASP_Currency', 'ASP_(converted)_Currency', 'Delivery_Quarter',\n",
    "        'Total_Amount_Currency', 'Total_Taxable_Amount_Currency', 'Stage',\n",
    "        'Prod_Category_A'\n",
    "    ]\n",
    "\n",
    "# Columnnas excluidas porque: - tienen igual valor en todos sus registros\n",
    "#                             - no es valido usarlas\n",
    "#                             - ya se extrajo información relevante de ellas\n",
    "#                             - no aporta información relevante\n",
    "excluded = ['Actual_Delivery_Date', 'Last_Activity',\n",
    "        'Submitted_for_Approval','Prod_Category_A']"
   ]
  },
  {
   "cell_type": "code",
   "execution_count": 3,
   "metadata": {},
   "outputs": [],
   "source": [
    "def open_set(dataset):\n",
    "    \n",
    "    column_types = { col:'category' for col in categorical_columns }\n",
    "    \n",
    "    # read_csv\n",
    "    df = pd.read_csv(dataset, parse_dates=date_columns, dtype=column_types,\n",
    "                     index_col='ID', na_values=['Other', 'NaT', 'None'],\n",
    "                     usecols=lambda x: x not in excluded)\n",
    "\n",
    "    df['Month'] = pd.to_datetime(df['Month'], format='%Y - %m')\n",
    "    \n",
    "    # Agruping regions \n",
    "    df.loc[((df.Region == \"EMEA\")&(df.Territory.str.contains(\"America\"))), \"Region\"] = \"Americas\"\n",
    "    df.rename(columns={\"Source \":\"Source\"},inplace=True)\n",
    "    df[\"Source\"]= df[\"Source\"].astype(\"category\")\n",
    "\n",
    "    return df"
   ]
  },
  {
   "cell_type": "markdown",
   "metadata": {},
   "source": [
    "# Pre-procesamiento de los datos\n",
    "\n",
    "El objetivo de esta etapa, es recibir los datos \"crudos\" y realizar procedimientos necesarios para filtrar features de poco valor y crear otros features que revelen información de importancia, para que los modelos de machine learning que luego los utilizarán en una etapa posterior, puedan ralizar un predicción mas precisa."
   ]
  },
  {
   "cell_type": "code",
   "execution_count": 4,
   "metadata": {},
   "outputs": [],
   "source": [
    "df1 = open_set(\"rawdata/Train_TP2_Datos_2020-2C.csv\")\n",
    "df2 = open_set(\"rawdata/Test_TP2_Datos_2020-2C.csv\")"
   ]
  },
  {
   "cell_type": "code",
   "execution_count": 5,
   "metadata": {},
   "outputs": [
    {
     "name": "stdout",
     "output_type": "stream",
     "text": [
      "The train set has 16947 elements and 47 features\n",
      "The train set has 2551 elements and 46 features\n"
     ]
    }
   ],
   "source": [
    "print(f\"The train set has {df1.shape[0]} elements and {df1.shape[1]} features\")\n",
    "print(f\"The train set has {df2.shape[0]} elements and {df2.shape[1]} features\")"
   ]
  },
  {
   "cell_type": "code",
   "execution_count": 6,
   "metadata": {},
   "outputs": [
    {
     "data": {
      "text/plain": [
       "Territory                    0.294978\n",
       "Source                       0.560394\n",
       "Billing_Country              0.001593\n",
       "Sales_Contract_No            0.411459\n",
       "Account_Type                 0.006609\n",
       "Brand                        0.974686\n",
       "Product_Type                 0.970673\n",
       "Size                         0.965422\n",
       "Product_Category_B           0.970732\n",
       "Price                        0.978993\n",
       "Currency                     0.947188\n",
       "Quote_Expiry_Date            0.272910\n",
       "ASP                          0.189355\n",
       "ASP_(converted)              0.189355\n",
       "Planned_Delivery_End_Date    0.004426\n",
       "Total_Amount                 0.003481\n",
       "dtype: float64"
      ]
     },
     "execution_count": 6,
     "metadata": {},
     "output_type": "execute_result"
    }
   ],
   "source": [
    "# Hypotesis: the features that contains more than 90% of NaN values \n",
    "#            do not contribute sustancial information\n",
    "na_values_rate = df1.isna().sum()/len(df1)\n",
    "na_values_rate = na_values_rate[na_values_rate>0]\n",
    "na_values_rate"
   ]
  },
  {
   "cell_type": "code",
   "execution_count": 7,
   "metadata": {},
   "outputs": [
    {
     "name": "stdout",
     "output_type": "stream",
     "text": [
      "Columns 'Brand', 'Product_Type', 'Size', 'Product_Category_B', 'Price', 'Currency' dropped\n"
     ]
    }
   ],
   "source": [
    "# Drop the most empty features\n",
    "to_drop = na_values_rate[na_values_rate > 0.90].index.to_list()\n",
    "\n",
    "trainset = df1.drop(columns = to_drop)\n",
    "testset = df2.drop(columns= to_drop)\n",
    "\n",
    "excluded.extend(to_drop)\n",
    "\n",
    "text = \"', '\".join(to_drop)\n",
    "print(f\"Columns '{text}' dropped\")"
   ]
  },
  {
   "cell_type": "markdown",
   "metadata": {},
   "source": [
    "Para este modelo entonces no se consideraran las columnas ``'Brand'``, ``'Product_Type'``, ``'Size'``, ``'Product_Category_B'``, ``'Price'``, ``'Currency'``"
   ]
  },
  {
   "cell_type": "code",
   "execution_count": 8,
   "metadata": {},
   "outputs": [
    {
     "data": {
      "text/plain": [
       "Territory                    0.294978\n",
       "Source                       0.560394\n",
       "Billing_Country              0.001593\n",
       "Sales_Contract_No            0.411459\n",
       "Account_Type                 0.006609\n",
       "Quote_Expiry_Date            0.272910\n",
       "ASP                          0.189355\n",
       "ASP_(converted)              0.189355\n",
       "Planned_Delivery_End_Date    0.004426\n",
       "Total_Amount                 0.003481\n",
       "dtype: float64"
      ]
     },
     "execution_count": 8,
     "metadata": {},
     "output_type": "execute_result"
    }
   ],
   "source": [
    "# The remaining features with na_values\n",
    "contains_na = na_values_rate[na_values_rate <= 0.90].index.to_list()\n",
    "na_values_rate[contains_na]"
   ]
  },
  {
   "cell_type": "code",
   "execution_count": 9,
   "metadata": {},
   "outputs": [],
   "source": [
    "def my_fill_na(df,columns):\n",
    "\n",
    "    result = df.copy()\n",
    "    dtypes = result[columns].dtypes\n",
    "    cat = dtypes[dtypes == \"category\"].index.to_list()\n",
    "    not_cat = dtypes[dtypes != \"category\"].index.to_list()\n",
    "    \n",
    "    for col in cat:\n",
    "        if \"Other\" not in result[col].cat.categories:\n",
    "            result[col].cat.add_categories(\"Other\",inplace=True)\n",
    "        result[col].fillna(\"Other\",inplace= True)\n",
    "    \n",
    "    for col in not_cat:\n",
    "        result[col].fillna(result[col].mean(),inplace= True)\n",
    "\n",
    "    \n",
    "    return result"
   ]
  },
  {
   "cell_type": "code",
   "execution_count": 10,
   "metadata": {},
   "outputs": [],
   "source": [
    "trainset = my_fill_na(trainset,contains_na)\n",
    "testset = my_fill_na(testset,contains_na)"
   ]
  },
  {
   "cell_type": "code",
   "execution_count": 11,
   "metadata": {},
   "outputs": [
    {
     "name": "stdout",
     "output_type": "stream",
     "text": [
      "Restan valores nulos en trainset: False\n",
      "Restan valores nulos en testset: False\n"
     ]
    }
   ],
   "source": [
    "na_train = trainset.isna().sum() > 0\n",
    "na_test = testset.isna().sum() > 0\n",
    "\n",
    "print(f\"Restan valores nulos en trainset: {na_train.any()}\")\n",
    "print(f\"Restan valores nulos en testset: {na_test.any()}\")"
   ]
  },
  {
   "cell_type": "markdown",
   "metadata": {},
   "source": [
    "Ya filtramos las features con excesivos Nan values y rellenamos aquellas que su procentage de nan values es moderado, con valores predeterminados."
   ]
  },
  {
   "cell_type": "markdown",
   "metadata": {},
   "source": [
    "### Definición del target de los modelos"
   ]
  },
  {
   "cell_type": "code",
   "execution_count": 12,
   "metadata": {},
   "outputs": [
    {
     "data": {
      "text/html": [
       "<div>\n",
       "<style scoped>\n",
       "    .dataframe tbody tr th:only-of-type {\n",
       "        vertical-align: middle;\n",
       "    }\n",
       "\n",
       "    .dataframe tbody tr th {\n",
       "        vertical-align: top;\n",
       "    }\n",
       "\n",
       "    .dataframe thead th {\n",
       "        text-align: right;\n",
       "    }\n",
       "</style>\n",
       "<table border=\"1\" class=\"dataframe\">\n",
       "  <thead>\n",
       "    <tr style=\"text-align: right;\">\n",
       "      <th></th>\n",
       "      <th>Stage</th>\n",
       "      <th>target</th>\n",
       "    </tr>\n",
       "    <tr>\n",
       "      <th>ID</th>\n",
       "      <th></th>\n",
       "      <th></th>\n",
       "    </tr>\n",
       "  </thead>\n",
       "  <tbody>\n",
       "    <tr>\n",
       "      <th>27761</th>\n",
       "      <td>Closed Lost</td>\n",
       "      <td>0</td>\n",
       "    </tr>\n",
       "    <tr>\n",
       "      <th>27760</th>\n",
       "      <td>Closed Won</td>\n",
       "      <td>1</td>\n",
       "    </tr>\n",
       "    <tr>\n",
       "      <th>27446</th>\n",
       "      <td>Closed Won</td>\n",
       "      <td>1</td>\n",
       "    </tr>\n",
       "    <tr>\n",
       "      <th>16808</th>\n",
       "      <td>Closed Lost</td>\n",
       "      <td>0</td>\n",
       "    </tr>\n",
       "    <tr>\n",
       "      <th>16805</th>\n",
       "      <td>Closed Lost</td>\n",
       "      <td>0</td>\n",
       "    </tr>\n",
       "    <tr>\n",
       "      <th>16802</th>\n",
       "      <td>Closed Lost</td>\n",
       "      <td>0</td>\n",
       "    </tr>\n",
       "    <tr>\n",
       "      <th>16799</th>\n",
       "      <td>Closed Lost</td>\n",
       "      <td>0</td>\n",
       "    </tr>\n",
       "    <tr>\n",
       "      <th>27455</th>\n",
       "      <td>Closed Won</td>\n",
       "      <td>1</td>\n",
       "    </tr>\n",
       "    <tr>\n",
       "      <th>24353</th>\n",
       "      <td>Closed Lost</td>\n",
       "      <td>0</td>\n",
       "    </tr>\n",
       "    <tr>\n",
       "      <th>24355</th>\n",
       "      <td>Closed Lost</td>\n",
       "      <td>0</td>\n",
       "    </tr>\n",
       "  </tbody>\n",
       "</table>\n",
       "</div>"
      ],
      "text/plain": [
       "             Stage  target\n",
       "ID                        \n",
       "27761  Closed Lost       0\n",
       "27760   Closed Won       1\n",
       "27446   Closed Won       1\n",
       "16808  Closed Lost       0\n",
       "16805  Closed Lost       0\n",
       "16802  Closed Lost       0\n",
       "16799  Closed Lost       0\n",
       "27455   Closed Won       1\n",
       "24353  Closed Lost       0\n",
       "24355  Closed Lost       0"
      ]
     },
     "execution_count": 12,
     "metadata": {},
     "output_type": "execute_result"
    }
   ],
   "source": [
    "trainset[\"target\"] = (trainset[\"Stage\"] == \"Closed Won\").astype(int)\n",
    "trainset[[\"Stage\",\"target\"]].head(10)"
   ]
  },
  {
   "cell_type": "markdown",
   "metadata": {},
   "source": [
    "### Definición de valores categóricos\n",
    "\n",
    "En esta sección, lo que vamos a hacer es buscar valores categóricos de los features del set de datos de prueba que no hayan sido contemplados en el set de entrenamiento, que por lo consiguiente, el modelo de machine learning los va a desconocer.\n",
    "\n",
    "Una vez identificados, los reemplazaremos con un valor genérico para \"otros valores\""
   ]
  },
  {
   "cell_type": "code",
   "execution_count": 13,
   "metadata": {},
   "outputs": [],
   "source": [
    "excluded.extend([\"Stage\",\"Opportunity_Name\"])\n",
    "results = []\n",
    "for column in categorical_columns:\n",
    "    if column in excluded: continue\n",
    "    \n",
    "    official_values = trainset[column].cat.categories.to_list()\n",
    "    test_values = testset[column].cat.categories.to_list()\n",
    "    \n",
    "    other_values = set(test_values)\n",
    "    for value in official_values: \n",
    "        other_values.discard(value)\n",
    "    \n",
    "    if len(other_values)>0:\n",
    "        \n",
    "        if not \"Other\" in testset[column].cat.categories.to_list():\n",
    "            testset[column].cat.add_categories(\"Other\",inplace=True)\n",
    "        \n",
    "        if not \"Other\" in trainset[column].cat.categories.to_list():\n",
    "            trainset[column].cat.add_categories(\"Other\",inplace=True)\n",
    "            \n",
    "        testset[column].replace({x:\"Other\" for x in other_values},inplace=True)\n",
    "    \n",
    "        results.append((column,len(other_values)))\n"
   ]
  },
  {
   "cell_type": "code",
   "execution_count": 14,
   "metadata": {},
   "outputs": [
    {
     "data": {
      "text/html": [
       "<div>\n",
       "<style scoped>\n",
       "    .dataframe tbody tr th:only-of-type {\n",
       "        vertical-align: middle;\n",
       "    }\n",
       "\n",
       "    .dataframe tbody tr th {\n",
       "        vertical-align: top;\n",
       "    }\n",
       "\n",
       "    .dataframe thead th {\n",
       "        text-align: right;\n",
       "    }\n",
       "</style>\n",
       "<table border=\"1\" class=\"dataframe\">\n",
       "  <thead>\n",
       "    <tr style=\"text-align: right;\">\n",
       "      <th></th>\n",
       "      <th>column</th>\n",
       "      <th>discarted values</th>\n",
       "    </tr>\n",
       "  </thead>\n",
       "  <tbody>\n",
       "    <tr>\n",
       "      <th>0</th>\n",
       "      <td>Territory</td>\n",
       "      <td>3</td>\n",
       "    </tr>\n",
       "    <tr>\n",
       "      <th>1</th>\n",
       "      <td>Billing_Country</td>\n",
       "      <td>3</td>\n",
       "    </tr>\n",
       "    <tr>\n",
       "      <th>2</th>\n",
       "      <td>Account_Name</td>\n",
       "      <td>205</td>\n",
       "    </tr>\n",
       "    <tr>\n",
       "      <th>3</th>\n",
       "      <td>Opportunity_Owner</td>\n",
       "      <td>5</td>\n",
       "    </tr>\n",
       "    <tr>\n",
       "      <th>4</th>\n",
       "      <td>Last_Modified_By</td>\n",
       "      <td>8</td>\n",
       "    </tr>\n",
       "    <tr>\n",
       "      <th>5</th>\n",
       "      <td>Product_Family</td>\n",
       "      <td>20</td>\n",
       "    </tr>\n",
       "    <tr>\n",
       "      <th>6</th>\n",
       "      <td>Product_Name</td>\n",
       "      <td>50</td>\n",
       "    </tr>\n",
       "  </tbody>\n",
       "</table>\n",
       "</div>"
      ],
      "text/plain": [
       "              column  discarted values\n",
       "0          Territory                 3\n",
       "1    Billing_Country                 3\n",
       "2       Account_Name               205\n",
       "3  Opportunity_Owner                 5\n",
       "4   Last_Modified_By                 8\n",
       "5     Product_Family                20\n",
       "6       Product_Name                50"
      ]
     },
     "execution_count": 14,
     "metadata": {},
     "output_type": "execute_result"
    }
   ],
   "source": [
    "others_df = pd.DataFrame(results,columns= [\"column\", \"discarted values\"])\n",
    "others_df"
   ]
  },
  {
   "cell_type": "code",
   "execution_count": 15,
   "metadata": {},
   "outputs": [
    {
     "data": {
      "text/plain": [
       "count      7.00\n",
       "mean      42.00\n",
       "std       73.81\n",
       "min        3.00\n",
       "25%        4.00\n",
       "50%        8.00\n",
       "75%       35.00\n",
       "max      205.00\n",
       "Name: discarted values, dtype: float64"
      ]
     },
     "metadata": {},
     "output_type": "display_data"
    },
    {
     "name": "stdout",
     "output_type": "stream",
     "text": [
      "\n",
      "Total test values discarted 294, %0.3 of total test data\n"
     ]
    }
   ],
   "source": [
    "display(round(others_df[\"discarted values\"].describe(),2))\n",
    "print(f\"\\nTotal test values discarted {others_df['discarted values'].sum()}, \",end=\"\")\n",
    "print(f\"%{100*round(others_df['discarted values'].sum()/testset.size,3)} of total test data\")"
   ]
  },
  {
   "cell_type": "markdown",
   "metadata": {},
   "source": [
    "La información descartada es muy poca con respecto al volumen del set. Más adelante veremos si es posible extraer información de esto"
   ]
  },
  {
   "cell_type": "markdown",
   "metadata": {},
   "source": [
    "### Conversión de features\n",
    "\n",
    "Queremos manejar los precios en una única unidad monetaria: USD"
   ]
  },
  {
   "cell_type": "code",
   "execution_count": 16,
   "metadata": {},
   "outputs": [
    {
     "name": "stdout",
     "output_type": "stream",
     "text": [
      "Moneda de ASP == Moneda Total_Ammount :                False 9586\n",
      "Moneda de ASP == Moneda Total_Taxable_Ammount:         False 9600\n",
      "Moneda Total_Ammount == Moneda Total_Taxable_Ammount : True 16914\n"
     ]
    }
   ],
   "source": [
    "\n",
    "\n",
    "check1 = (trainset[\"Total_Amount_Currency\"] == \"USD\").value_counts()\n",
    "check2 = (trainset[\"Total_Taxable_Amount_Currency\"] == \"USD\").value_counts()\n",
    "check3 = (trainset[\"Total_Amount_Currency\"]==trainset[\"Total_Taxable_Amount_Currency\"]).value_counts()\n",
    "\n",
    "print(\"Moneda de ASP == Moneda Total_Ammount :               \",check1.index[0],check1.values[0])\n",
    "print(\"Moneda de ASP == Moneda Total_Taxable_Ammount:        \",check2.index[0],check2.values[0])\n",
    "print(\"Moneda Total_Ammount == Moneda Total_Taxable_Ammount :\",check3.index[0],check3.values[0])"
   ]
  },
  {
   "cell_type": "code",
   "execution_count": 17,
   "metadata": {},
   "outputs": [
    {
     "data": {
      "text/html": [
       "<div>\n",
       "<style scoped>\n",
       "    .dataframe tbody tr th:only-of-type {\n",
       "        vertical-align: middle;\n",
       "    }\n",
       "\n",
       "    .dataframe tbody tr th {\n",
       "        vertical-align: top;\n",
       "    }\n",
       "\n",
       "    .dataframe thead th {\n",
       "        text-align: right;\n",
       "    }\n",
       "</style>\n",
       "<table border=\"1\" class=\"dataframe\">\n",
       "  <thead>\n",
       "    <tr style=\"text-align: right;\">\n",
       "      <th></th>\n",
       "      <th>ASP</th>\n",
       "      <th>ASP_Currency</th>\n",
       "      <th>ASP_(converted)</th>\n",
       "      <th>ASP_(converted)_Currency</th>\n",
       "      <th>Total_Amount</th>\n",
       "      <th>Total_Amount_Currency</th>\n",
       "      <th>Total_Taxable_Amount</th>\n",
       "      <th>Total_Taxable_Amount_Currency</th>\n",
       "    </tr>\n",
       "    <tr>\n",
       "      <th>ID</th>\n",
       "      <th></th>\n",
       "      <th></th>\n",
       "      <th></th>\n",
       "      <th></th>\n",
       "      <th></th>\n",
       "      <th></th>\n",
       "      <th></th>\n",
       "      <th></th>\n",
       "    </tr>\n",
       "  </thead>\n",
       "  <tbody>\n",
       "    <tr>\n",
       "      <th>23825</th>\n",
       "      <td>0.450000</td>\n",
       "      <td>USD</td>\n",
       "      <td>0.450000</td>\n",
       "      <td>USD</td>\n",
       "      <td>2250281.25</td>\n",
       "      <td>USD</td>\n",
       "      <td>4500281.25</td>\n",
       "      <td>USD</td>\n",
       "    </tr>\n",
       "    <tr>\n",
       "      <th>26213</th>\n",
       "      <td>7.012128</td>\n",
       "      <td>JPY</td>\n",
       "      <td>0.432554</td>\n",
       "      <td>USD</td>\n",
       "      <td>4400.00</td>\n",
       "      <td>JPY</td>\n",
       "      <td>543000.00</td>\n",
       "      <td>JPY</td>\n",
       "    </tr>\n",
       "    <tr>\n",
       "      <th>17686</th>\n",
       "      <td>0.440000</td>\n",
       "      <td>EUR</td>\n",
       "      <td>0.497680</td>\n",
       "      <td>USD</td>\n",
       "      <td>193600.00</td>\n",
       "      <td>EUR</td>\n",
       "      <td>193600.00</td>\n",
       "      <td>EUR</td>\n",
       "    </tr>\n",
       "    <tr>\n",
       "      <th>6959</th>\n",
       "      <td>0.420000</td>\n",
       "      <td>USD</td>\n",
       "      <td>0.420000</td>\n",
       "      <td>USD</td>\n",
       "      <td>209563.20</td>\n",
       "      <td>USD</td>\n",
       "      <td>422452.80</td>\n",
       "      <td>USD</td>\n",
       "    </tr>\n",
       "    <tr>\n",
       "      <th>5116</th>\n",
       "      <td>0.420000</td>\n",
       "      <td>EUR</td>\n",
       "      <td>0.475060</td>\n",
       "      <td>USD</td>\n",
       "      <td>45675.00</td>\n",
       "      <td>EUR</td>\n",
       "      <td>89775.00</td>\n",
       "      <td>EUR</td>\n",
       "    </tr>\n",
       "    <tr>\n",
       "      <th>27762</th>\n",
       "      <td>0.530000</td>\n",
       "      <td>EUR</td>\n",
       "      <td>0.599480</td>\n",
       "      <td>USD</td>\n",
       "      <td>261820.00</td>\n",
       "      <td>EUR</td>\n",
       "      <td>261820.00</td>\n",
       "      <td>EUR</td>\n",
       "    </tr>\n",
       "    <tr>\n",
       "      <th>5145</th>\n",
       "      <td>48.000000</td>\n",
       "      <td>JPY</td>\n",
       "      <td>0.431540</td>\n",
       "      <td>USD</td>\n",
       "      <td>3410400.00</td>\n",
       "      <td>JPY</td>\n",
       "      <td>3410400.00</td>\n",
       "      <td>JPY</td>\n",
       "    </tr>\n",
       "    <tr>\n",
       "      <th>27452</th>\n",
       "      <td>0.500000</td>\n",
       "      <td>USD</td>\n",
       "      <td>0.500000</td>\n",
       "      <td>USD</td>\n",
       "      <td>47040.00</td>\n",
       "      <td>USD</td>\n",
       "      <td>292467.70</td>\n",
       "      <td>USD</td>\n",
       "    </tr>\n",
       "    <tr>\n",
       "      <th>19234</th>\n",
       "      <td>0.385000</td>\n",
       "      <td>EUR</td>\n",
       "      <td>0.435470</td>\n",
       "      <td>USD</td>\n",
       "      <td>10395.00</td>\n",
       "      <td>EUR</td>\n",
       "      <td>78445.00</td>\n",
       "      <td>EUR</td>\n",
       "    </tr>\n",
       "    <tr>\n",
       "      <th>26461</th>\n",
       "      <td>7.012128</td>\n",
       "      <td>JPY</td>\n",
       "      <td>0.432554</td>\n",
       "      <td>USD</td>\n",
       "      <td>6200.00</td>\n",
       "      <td>JPY</td>\n",
       "      <td>982650.00</td>\n",
       "      <td>JPY</td>\n",
       "    </tr>\n",
       "  </tbody>\n",
       "</table>\n",
       "</div>"
      ],
      "text/plain": [
       "             ASP ASP_Currency  ASP_(converted) ASP_(converted)_Currency  \\\n",
       "ID                                                                        \n",
       "23825   0.450000          USD         0.450000                      USD   \n",
       "26213   7.012128          JPY         0.432554                      USD   \n",
       "17686   0.440000          EUR         0.497680                      USD   \n",
       "6959    0.420000          USD         0.420000                      USD   \n",
       "5116    0.420000          EUR         0.475060                      USD   \n",
       "27762   0.530000          EUR         0.599480                      USD   \n",
       "5145   48.000000          JPY         0.431540                      USD   \n",
       "27452   0.500000          USD         0.500000                      USD   \n",
       "19234   0.385000          EUR         0.435470                      USD   \n",
       "26461   7.012128          JPY         0.432554                      USD   \n",
       "\n",
       "       Total_Amount Total_Amount_Currency  Total_Taxable_Amount  \\\n",
       "ID                                                                \n",
       "23825    2250281.25                   USD            4500281.25   \n",
       "26213       4400.00                   JPY             543000.00   \n",
       "17686     193600.00                   EUR             193600.00   \n",
       "6959      209563.20                   USD             422452.80   \n",
       "5116       45675.00                   EUR              89775.00   \n",
       "27762     261820.00                   EUR             261820.00   \n",
       "5145     3410400.00                   JPY            3410400.00   \n",
       "27452      47040.00                   USD             292467.70   \n",
       "19234      10395.00                   EUR              78445.00   \n",
       "26461       6200.00                   JPY             982650.00   \n",
       "\n",
       "      Total_Taxable_Amount_Currency  \n",
       "ID                                   \n",
       "23825                           USD  \n",
       "26213                           JPY  \n",
       "17686                           EUR  \n",
       "6959                            USD  \n",
       "5116                            EUR  \n",
       "27762                           EUR  \n",
       "5145                            JPY  \n",
       "27452                           USD  \n",
       "19234                           EUR  \n",
       "26461                           JPY  "
      ]
     },
     "execution_count": 17,
     "metadata": {},
     "output_type": "execute_result"
    }
   ],
   "source": [
    "economy_columns = [\"ASP\",\"ASP_Currency\",\"ASP_(converted)\",\"ASP_(converted)_Currency\",\"Total_Amount\",\"Total_Amount_Currency\",\"Total_Taxable_Amount\",\"Total_Taxable_Amount_Currency\"]\n",
    "trainset.loc[:,economy_columns].sample(10)"
   ]
  },
  {
   "cell_type": "markdown",
   "metadata": {},
   "source": [
    "#### Calculo del factor de conversión"
   ]
  },
  {
   "cell_type": "code",
   "execution_count": 18,
   "metadata": {},
   "outputs": [
    {
     "name": "stdout",
     "output_type": "stream",
     "text": [
      "Trainset USD_Factor describe\n",
      "\n"
     ]
    },
    {
     "data": {
      "text/plain": [
       "count    1.664700e+04\n",
       "mean              inf\n",
       "std               NaN\n",
       "min      8.865556e-03\n",
       "25%      6.168651e-02\n",
       "50%      1.000000e+00\n",
       "75%      1.131081e+00\n",
       "max               inf\n",
       "Name: USD_factor, dtype: float64"
      ]
     },
     "metadata": {},
     "output_type": "display_data"
    },
    {
     "name": "stdout",
     "output_type": "stream",
     "text": [
      "\n",
      "------------------------------\n",
      "\n",
      "Testset USD_Factor describe\n",
      "\n"
     ]
    },
    {
     "data": {
      "text/plain": [
       "count    2536.000000\n",
       "mean        0.962582\n",
       "std         0.283236\n",
       "min         0.008878\n",
       "25%         1.000000\n",
       "50%         1.000000\n",
       "75%         1.131083\n",
       "max         1.131116\n",
       "Name: USD_factor, dtype: float64"
      ]
     },
     "metadata": {},
     "output_type": "display_data"
    }
   ],
   "source": [
    "# Factor de conversión:  ASP_(converted)/ASP\n",
    "trainset[\"USD_factor\"] = trainset[\"ASP_(converted)\"]/trainset[\"ASP\"]\n",
    "testset[\"USD_factor\"] =  testset[\"ASP_(converted)\"]/testset[\"ASP\"]\n",
    "\n",
    "print(\"Trainset USD_Factor describe\\n\")\n",
    "display(trainset[\"USD_factor\"].describe()) \n",
    "\n",
    "print(\"\\n\"+(\"-\"*30))\n",
    "print(\"\\nTestset USD_Factor describe\\n\")\n",
    "display(testset[\"USD_factor\"].describe())"
   ]
  },
  {
   "cell_type": "markdown",
   "metadata": {},
   "source": [
    "Tenemos valores anómalos como infinto o NaN, esto se debe a que pueden haber varios valores nulos en las columnas referidas al ASP. Lo que puede significar datos erroneos o faltantes (nunca unca conversión puede ser x/0 o 0/0 ). Procederemos a investigar estos valores:"
   ]
  },
  {
   "cell_type": "code",
   "execution_count": 19,
   "metadata": {},
   "outputs": [
    {
     "name": "stdout",
     "output_type": "stream",
     "text": [
      "Trainset[USD_factor] NaN values:  300\n",
      "Trainset[USD_factor] inf values:  1\n",
      "------------------------------------\n",
      "Testset[USD_factor] NaN values:  15\n",
      "Testset[USD_factor] inf values:  0\n"
     ]
    }
   ],
   "source": [
    "# Lo que vemos que pasa es que en 300 registros, ASP y ASP_(converted) pueden valer 0 a la vez. Lo cual podría significar que no hay promedio de ventas. \n",
    "# En el unico registro que queda, ASP vale 0 y el ASP_(convertad) distinto de cero, por lo que la conversión da infinito.\n",
    "\n",
    "print(\"Trainset[USD_factor] NaN values: \",trainset[\"USD_factor\"].isna().sum())\n",
    "print(\"Trainset[USD_factor] inf values: \",(trainset[\"USD_factor\"]==np.inf).sum())\n",
    "print(\"-\"*36)\n",
    "print(\"Testset[USD_factor] NaN values: \",testset[\"USD_factor\"].isna().sum())\n",
    "print(\"Testset[USD_factor] inf values: \",(testset[\"USD_factor\"]==np.inf).sum())"
   ]
  },
  {
   "cell_type": "code",
   "execution_count": 20,
   "metadata": {},
   "outputs": [
    {
     "data": {
      "text/html": [
       "<div>\n",
       "<style scoped>\n",
       "    .dataframe tbody tr th:only-of-type {\n",
       "        vertical-align: middle;\n",
       "    }\n",
       "\n",
       "    .dataframe tbody tr th {\n",
       "        vertical-align: top;\n",
       "    }\n",
       "\n",
       "    .dataframe thead th {\n",
       "        text-align: right;\n",
       "    }\n",
       "</style>\n",
       "<table border=\"1\" class=\"dataframe\">\n",
       "  <thead>\n",
       "    <tr style=\"text-align: right;\">\n",
       "      <th></th>\n",
       "      <th>Opportunity_ID</th>\n",
       "      <th>ASP</th>\n",
       "      <th>ASP_Currency</th>\n",
       "      <th>ASP_(converted)</th>\n",
       "      <th>USD_factor</th>\n",
       "      <th>Total_Amount</th>\n",
       "      <th>Total_Amount_Currency</th>\n",
       "      <th>Total_Taxable_Amount</th>\n",
       "      <th>Total_Taxable_Amount_Currency</th>\n",
       "    </tr>\n",
       "    <tr>\n",
       "      <th>ID</th>\n",
       "      <th></th>\n",
       "      <th></th>\n",
       "      <th></th>\n",
       "      <th></th>\n",
       "      <th></th>\n",
       "      <th></th>\n",
       "      <th></th>\n",
       "      <th></th>\n",
       "      <th></th>\n",
       "    </tr>\n",
       "  </thead>\n",
       "  <tbody>\n",
       "    <tr>\n",
       "      <th>24319</th>\n",
       "      <td>41</td>\n",
       "      <td>0.0</td>\n",
       "      <td>JPY</td>\n",
       "      <td>0.0</td>\n",
       "      <td>NaN</td>\n",
       "      <td>20280.0</td>\n",
       "      <td>JPY</td>\n",
       "      <td>20280.0</td>\n",
       "      <td>JPY</td>\n",
       "    </tr>\n",
       "    <tr>\n",
       "      <th>19082</th>\n",
       "      <td>105</td>\n",
       "      <td>0.0</td>\n",
       "      <td>JPY</td>\n",
       "      <td>0.0</td>\n",
       "      <td>NaN</td>\n",
       "      <td>34000.0</td>\n",
       "      <td>JPY</td>\n",
       "      <td>390050.0</td>\n",
       "      <td>JPY</td>\n",
       "    </tr>\n",
       "    <tr>\n",
       "      <th>19085</th>\n",
       "      <td>105</td>\n",
       "      <td>0.0</td>\n",
       "      <td>JPY</td>\n",
       "      <td>0.0</td>\n",
       "      <td>NaN</td>\n",
       "      <td>26000.0</td>\n",
       "      <td>JPY</td>\n",
       "      <td>390050.0</td>\n",
       "      <td>JPY</td>\n",
       "    </tr>\n",
       "    <tr>\n",
       "      <th>19089</th>\n",
       "      <td>105</td>\n",
       "      <td>0.0</td>\n",
       "      <td>JPY</td>\n",
       "      <td>0.0</td>\n",
       "      <td>NaN</td>\n",
       "      <td>1200.0</td>\n",
       "      <td>JPY</td>\n",
       "      <td>390050.0</td>\n",
       "      <td>JPY</td>\n",
       "    </tr>\n",
       "    <tr>\n",
       "      <th>19092</th>\n",
       "      <td>105</td>\n",
       "      <td>0.0</td>\n",
       "      <td>JPY</td>\n",
       "      <td>0.0</td>\n",
       "      <td>NaN</td>\n",
       "      <td>6200.0</td>\n",
       "      <td>JPY</td>\n",
       "      <td>390050.0</td>\n",
       "      <td>JPY</td>\n",
       "    </tr>\n",
       "    <tr>\n",
       "      <th>...</th>\n",
       "      <td>...</td>\n",
       "      <td>...</td>\n",
       "      <td>...</td>\n",
       "      <td>...</td>\n",
       "      <td>...</td>\n",
       "      <td>...</td>\n",
       "      <td>...</td>\n",
       "      <td>...</td>\n",
       "      <td>...</td>\n",
       "    </tr>\n",
       "    <tr>\n",
       "      <th>19011</th>\n",
       "      <td>12514</td>\n",
       "      <td>0.0</td>\n",
       "      <td>EUR</td>\n",
       "      <td>0.0</td>\n",
       "      <td>NaN</td>\n",
       "      <td>0.0</td>\n",
       "      <td>EUR</td>\n",
       "      <td>0.0</td>\n",
       "      <td>EUR</td>\n",
       "    </tr>\n",
       "    <tr>\n",
       "      <th>28261</th>\n",
       "      <td>12520</td>\n",
       "      <td>0.0</td>\n",
       "      <td>EUR</td>\n",
       "      <td>0.0</td>\n",
       "      <td>NaN</td>\n",
       "      <td>0.0</td>\n",
       "      <td>EUR</td>\n",
       "      <td>0.0</td>\n",
       "      <td>EUR</td>\n",
       "    </tr>\n",
       "    <tr>\n",
       "      <th>19923</th>\n",
       "      <td>12659</td>\n",
       "      <td>0.0</td>\n",
       "      <td>EUR</td>\n",
       "      <td>0.0</td>\n",
       "      <td>NaN</td>\n",
       "      <td>0.0</td>\n",
       "      <td>EUR</td>\n",
       "      <td>0.0</td>\n",
       "      <td>EUR</td>\n",
       "    </tr>\n",
       "    <tr>\n",
       "      <th>28314</th>\n",
       "      <td>12673</td>\n",
       "      <td>0.0</td>\n",
       "      <td>USD</td>\n",
       "      <td>0.0</td>\n",
       "      <td>NaN</td>\n",
       "      <td>3380000.0</td>\n",
       "      <td>USD</td>\n",
       "      <td>3380000.0</td>\n",
       "      <td>USD</td>\n",
       "    </tr>\n",
       "    <tr>\n",
       "      <th>19044</th>\n",
       "      <td>12704</td>\n",
       "      <td>0.0</td>\n",
       "      <td>EUR</td>\n",
       "      <td>0.0</td>\n",
       "      <td>NaN</td>\n",
       "      <td>0.0</td>\n",
       "      <td>EUR</td>\n",
       "      <td>0.0</td>\n",
       "      <td>EUR</td>\n",
       "    </tr>\n",
       "  </tbody>\n",
       "</table>\n",
       "<p>301 rows × 9 columns</p>\n",
       "</div>"
      ],
      "text/plain": [
       "       Opportunity_ID  ASP ASP_Currency  ASP_(converted)  USD_factor  \\\n",
       "ID                                                                     \n",
       "24319              41  0.0          JPY              0.0         NaN   \n",
       "19082             105  0.0          JPY              0.0         NaN   \n",
       "19085             105  0.0          JPY              0.0         NaN   \n",
       "19089             105  0.0          JPY              0.0         NaN   \n",
       "19092             105  0.0          JPY              0.0         NaN   \n",
       "...               ...  ...          ...              ...         ...   \n",
       "19011           12514  0.0          EUR              0.0         NaN   \n",
       "28261           12520  0.0          EUR              0.0         NaN   \n",
       "19923           12659  0.0          EUR              0.0         NaN   \n",
       "28314           12673  0.0          USD              0.0         NaN   \n",
       "19044           12704  0.0          EUR              0.0         NaN   \n",
       "\n",
       "       Total_Amount Total_Amount_Currency  Total_Taxable_Amount  \\\n",
       "ID                                                                \n",
       "24319       20280.0                   JPY               20280.0   \n",
       "19082       34000.0                   JPY              390050.0   \n",
       "19085       26000.0                   JPY              390050.0   \n",
       "19089        1200.0                   JPY              390050.0   \n",
       "19092        6200.0                   JPY              390050.0   \n",
       "...             ...                   ...                   ...   \n",
       "19011           0.0                   EUR                   0.0   \n",
       "28261           0.0                   EUR                   0.0   \n",
       "19923           0.0                   EUR                   0.0   \n",
       "28314     3380000.0                   USD             3380000.0   \n",
       "19044           0.0                   EUR                   0.0   \n",
       "\n",
       "      Total_Taxable_Amount_Currency  \n",
       "ID                                   \n",
       "24319                           JPY  \n",
       "19082                           JPY  \n",
       "19085                           JPY  \n",
       "19089                           JPY  \n",
       "19092                           JPY  \n",
       "...                             ...  \n",
       "19011                           EUR  \n",
       "28261                           EUR  \n",
       "19923                           EUR  \n",
       "28314                           USD  \n",
       "19044                           EUR  \n",
       "\n",
       "[301 rows x 9 columns]"
      ]
     },
     "execution_count": 20,
     "metadata": {},
     "output_type": "execute_result"
    }
   ],
   "source": [
    "economy_features= [\"Opportunity_ID\",\"ASP\",\"ASP_Currency\",\"ASP_(converted)\",\"USD_factor\",\"Total_Amount\",\n",
    "                   \"Total_Amount_Currency\",\"Total_Taxable_Amount\",\"Total_Taxable_Amount_Currency\"]\n",
    "\n",
    "condition = (trainset[\"USD_factor\"]==np.inf)| ((trainset[\"ASP\"]==0) & (trainset[\"ASP_(converted)\"]==0))\n",
    "selected = trainset.loc[condition,economy_features]\n",
    "selected"
   ]
  },
  {
   "cell_type": "code",
   "execution_count": 21,
   "metadata": {},
   "outputs": [
    {
     "name": "stdout",
     "output_type": "stream",
     "text": [
      "(Trainset) Registros 'USD_factor == Nan' con currency en USD:  54\n",
      "(Testset) Registros 'USD_factor == Nan' con currency en USD:  2\n"
     ]
    }
   ],
   "source": [
    "condition = (trainset[\"USD_factor\"]==np.inf) | (trainset[\"USD_factor\"].isna()) \n",
    "print(\"(Trainset) Registros 'USD_factor == Nan' con currency en USD: \",(condition&(trainset[\"ASP_Currency\"]==\"USD\")).sum())\n",
    "\n",
    "condition = (testset[\"USD_factor\"]==np.inf) | (testset[\"USD_factor\"].isna()) \n",
    "print(\"(Testset) Registros 'USD_factor == Nan' con currency en USD: \",(condition&(testset[\"ASP_Currency\"]==\"USD\")).sum())"
   ]
  },
  {
   "cell_type": "code",
   "execution_count": 22,
   "metadata": {},
   "outputs": [
    {
     "name": "stdout",
     "output_type": "stream",
     "text": [
      "Registros donde se maneja USD en todas sus columnas económicas y la conversión no es 1\n",
      "Trainset:  525\t (3.1% del set)\n",
      "Testset:   64\t (2.5% del set)\n"
     ]
    }
   ],
   "source": [
    "# Veo casos particulares donde la conversion debería ser 1 y no lo es\n",
    "len1 = trainset[(trainset[\"ASP_Currency\"]==\"USD\")&(trainset[\"USD_factor\"] != 1)][economy_features+[\"ASP_(converted)_Currency\"]].shape[0]\n",
    "len2 = testset[(testset[\"ASP_Currency\"]==\"USD\")&(testset[\"USD_factor\"] != 1)][economy_features+[\"ASP_(converted)_Currency\"]].shape[0]\n",
    "\n",
    "print(\"Registros donde se maneja USD en todas sus columnas económicas y la conversión no es 1\")\n",
    "print(f\"Trainset:  {len1}\\t ({round(100*len1/trainset.shape[0],1)}% del set)\")\n",
    "print(f\"Testset:   {len2}\\t ({round(100*len2/testset.shape[0],1)}% del set)\")"
   ]
  },
  {
   "cell_type": "code",
   "execution_count": 23,
   "metadata": {},
   "outputs": [],
   "source": [
    "# Nos aseguramos que los casos en donde la moneda sea dolares, la conversión sea 1\n",
    "\n",
    "trainset.loc[trainset[\"ASP_Currency\"]==\"USD\",\"USD_factor\"] = 1\n",
    "testset.loc[testset[\"ASP_Currency\"]==\"USD\",\"USD_factor\"] = 1"
   ]
  },
  {
   "cell_type": "code",
   "execution_count": 24,
   "metadata": {},
   "outputs": [],
   "source": [
    "originalTrain = trainset.loc[(trainset[\"Total_Amount_Currency\"] == \"USD\")|\n",
    "                             (trainset[\"Total_Taxable_Amount_Currency\"] == \"USD\"),[\"Total_Amount\",\"Total_Taxable_Amount\"]]\n",
    "originalTest = testset.loc[(testset[\"Total_Amount_Currency\"] == \"USD\")|\n",
    "                             (testset[\"Total_Taxable_Amount_Currency\"] == \"USD\"),[\"Total_Amount\",\"Total_Taxable_Amount\"]]"
   ]
  },
  {
   "cell_type": "markdown",
   "metadata": {},
   "source": [
    "Finalmente, terminamos de calcular/estimar el factor de conversión y convertimos los precios"
   ]
  },
  {
   "cell_type": "code",
   "execution_count": 25,
   "metadata": {},
   "outputs": [],
   "source": [
    "# Vamos a realzar un Mean Encoding para calcular el factor de conversión de la moneda como un promedio histórico\n",
    "# Para finalmente realizar la conversión\n",
    "\n",
    "################ Calculating Mean Values ################\n",
    "# Train\n",
    "trainset[\"ASP_Mean\"]             = trainset.groupby(\"ASP_Currency\")[\"ASP\"].transform(\"mean\")\n",
    "trainset[\"ASP_Mean_(converted)\"] = trainset.groupby(\"ASP_Currency\")[\"ASP_(converted)\"].transform(\"mean\")\n",
    "\n",
    "# Test\n",
    "testset[\"ASP_Mean\"]              = testset.groupby(\"ASP_Currency\")[\"ASP\"].transform(\"mean\")\n",
    "testset[\"ASP_Mean_(converted)\"]  = testset.groupby(\"ASP_Currency\")[\"ASP_(converted)\"].transform(\"mean\")\n",
    "\n",
    "\n",
    "########### Mean encoding for the NAN values #############\n",
    "# Train\n",
    "condition = (trainset[\"USD_factor\"].isna()) | (trainset[\"USD_factor\"] == np.inf)\n",
    "trainset.loc[condition,\"USD_factor\"] = trainset[condition][\"ASP_Mean_(converted)\"]/\\\n",
    "                                       trainset[condition][\"ASP_Mean\"]\n",
    "\n",
    "# Test\n",
    "condition = (testset[\"USD_factor\"].isna()) | (testset[\"USD_factor\"] == np.inf)\n",
    "testset.loc[condition,\"USD_factor\"] = testset[condition][\"ASP_Mean_(converted)\"]/\\\n",
    "                                      testset[condition][\"ASP_Mean\"]"
   ]
  },
  {
   "cell_type": "code",
   "execution_count": 26,
   "metadata": {},
   "outputs": [],
   "source": [
    "##################### Conversion #####################\n",
    "\n",
    "# ------------------Train------------------------\n",
    "\n",
    "# Initcializo y luego convierto\n",
    "trainset[\"Total_Amount_USD\"]         = trainset[\"Total_Amount\"]\n",
    "trainset[\"Total_Taxable_Amount_USD\"] = trainset[\"Total_Taxable_Amount\"]\n",
    "\n",
    "# Conversión de Total_Amount\n",
    "condition = trainset[\"Total_Amount_Currency\"] != \"USD\" \n",
    "trainset.loc[condition,\"Total_Amount_USD\"]     = trainset[condition][\"Total_Amount\"]*\\\n",
    "                                                 trainset[condition][\"USD_factor\"]\n",
    "\n",
    "# Conversión de Total_Taxable_Amount\n",
    "condition = trainset[\"Total_Taxable_Amount_Currency\"] != \"USD\" \n",
    "trainset.loc[condition,\"Total_Taxable_Amount_USD\"] = trainset[condition][\"Total_Taxable_Amount\"]*\\\n",
    "                                                     trainset[condition][\"USD_factor\"]\n",
    "\n",
    "# ------------------Test------------------------\n",
    "\n",
    "# Initcializo y luego convierto\n",
    "testset[\"Total_Amount_USD\"]         = testset[\"Total_Amount\"]\n",
    "testset[\"Total_Taxable_Amount_USD\"] = testset[\"Total_Taxable_Amount\"]\n",
    "\n",
    "# Conversión de Total_Amount\n",
    "condition = testset[\"Total_Amount_Currency\"] != \"USD\" \n",
    "testset.loc[condition,\"Total_Amount_USD\"] = testset[condition][\"Total_Amount\"]*\\\n",
    "                                            testset[condition][\"USD_factor\"]\n",
    "# Conversión de Total_Taxable_Amount\n",
    "condition = testset[\"Total_Taxable_Amount_Currency\"] != \"USD\"\n",
    "testset.loc[condition,\"Total_Taxable_Amount_USD\"] = testset[condition][\"Total_Taxable_Amount\"]*\\\n",
    "                                                    testset[condition][\"USD_factor\"]\n",
    "\n",
    "excluded.extend([\"Total_Amount\",\"Total_Taxable_Amount\"])"
   ]
  },
  {
   "cell_type": "markdown",
   "metadata": {},
   "source": [
    "# Feature engineering\n",
    "\n",
    "Objetivos:\n",
    "\n",
    "   * 'Aplanar' varios registros de una misma oportunidad, en un solo registro\n",
    "   * Encodear variables categóricas a partir de información de otros features\n",
    "   * Encodear variables categóricas con binary encoding\n",
    "   * Crear interacciones nuevas entre features"
   ]
  },
  {
   "cell_type": "markdown",
   "metadata": {},
   "source": [
    "### Flatten opportunities"
   ]
  },
  {
   "cell_type": "markdown",
   "metadata": {},
   "source": [
    "En el análisis exploratorio, revelamos que las oportunidades pueden tener un solo item o varios, dejando varios registros en el set de datos. Tambien, vimos cuales son las features que pueden variar en los items de una misma oportunidad.\n",
    "\n",
    "En base a esto, vamos a hacer feature engineering para poder extraer información de estos distintos valores que pueden tomar estas features, y dejarla plasmada en una sola feature que califique a la oportunidad en cuestión."
   ]
  },
  {
   "cell_type": "code",
   "execution_count": 27,
   "metadata": {},
   "outputs": [],
   "source": [
    "# Evaluamos cada feature que registra variaciones para una misma oportunidad\n",
    "# y proponemos una manera de \"aplanar\" esa variacion en un solo valor.\n",
    "\n",
    "#  \"Product_Name\"               # Hacer bins segun mas vendido y contabilizar apariciones en los bins | promedio de aparicion y promediar los items \n",
    "#  \"Product_Family\"             # Hacer bins segun mas vendido y contabilizar apariciones en los bins | promedio de aparicion y promediar los items\n",
    "#  \"Total_Amount\"               # Promedios, desvio estandar\n",
    "#  \"Planned_Delivery_End_Date\"  # Rango maximo, Rango minimo, Rango promedio  \\___\n",
    "#  \"Planned_Delivery_Start_Date\"# Rango maximo, Rango minimo, Rango promedio  /\n",
    "#  \"ASP_(converted)\"            # Promedios, desvio estandar\n",
    "#  \"ASP\"                        # [X] descartado, pordría indicarse con la anterior\n",
    "#  \"TRF\"                        # Promedios, desvio estandar\n",
    "#  \"Delivery_Quarter\"           # [X] si varía podría ser porque cambien los planned_delivery dates..\n",
    "#  \"Delivery_Year\"              # [X] ..\n",
    "#  \"Month\"                      # [X] .. y casualmente cambie de año o de trimestre. Descartamos esta variación\n",
    "                        \n",
    "\n",
    "to_flat=   [\"Product_Name\",\n",
    "           \"Product_Family\",\n",
    "           \"Total_Amount\",\n",
    "           \"Planned_Delivery_End_Date\",\n",
    "           \"Planned_Delivery_Start_Date\",\n",
    "           \"ASP_(converted)\",\n",
    "           \"ASP\",\n",
    "           \"TRF\",\n",
    "           \"Delivery_Quarter\",     \n",
    "           \"Delivery_Year\",\n",
    "           \"Month\"]"
   ]
  },
  {
   "cell_type": "code",
   "execution_count": null,
   "metadata": {},
   "outputs": [],
   "source": []
  },
  {
   "cell_type": "code",
   "execution_count": 28,
   "metadata": {},
   "outputs": [
    {
     "data": {
      "text/html": [
       "<div>\n",
       "<style scoped>\n",
       "    .dataframe tbody tr th:only-of-type {\n",
       "        vertical-align: middle;\n",
       "    }\n",
       "\n",
       "    .dataframe tbody tr th {\n",
       "        vertical-align: top;\n",
       "    }\n",
       "\n",
       "    .dataframe thead th {\n",
       "        text-align: right;\n",
       "    }\n",
       "</style>\n",
       "<table border=\"1\" class=\"dataframe\">\n",
       "  <thead>\n",
       "    <tr style=\"text-align: right;\">\n",
       "      <th></th>\n",
       "      <th>Product_Family</th>\n",
       "      <th>Product_Name</th>\n",
       "      <th>target</th>\n",
       "    </tr>\n",
       "  </thead>\n",
       "  <tbody>\n",
       "    <tr>\n",
       "      <th>0</th>\n",
       "      <td>Product_Family_0</td>\n",
       "      <td>Product_Name_0</td>\n",
       "      <td>165</td>\n",
       "    </tr>\n",
       "    <tr>\n",
       "      <th>1</th>\n",
       "      <td>Product_Family_0</td>\n",
       "      <td>Product_Name_1</td>\n",
       "      <td>0</td>\n",
       "    </tr>\n",
       "    <tr>\n",
       "      <th>2</th>\n",
       "      <td>Product_Family_0</td>\n",
       "      <td>Product_Name_10</td>\n",
       "      <td>0</td>\n",
       "    </tr>\n",
       "    <tr>\n",
       "      <th>3</th>\n",
       "      <td>Product_Family_0</td>\n",
       "      <td>Product_Name_100</td>\n",
       "      <td>0</td>\n",
       "    </tr>\n",
       "    <tr>\n",
       "      <th>4</th>\n",
       "      <td>Product_Family_0</td>\n",
       "      <td>Product_Name_101</td>\n",
       "      <td>0</td>\n",
       "    </tr>\n",
       "    <tr>\n",
       "      <th>...</th>\n",
       "      <td>...</td>\n",
       "      <td>...</td>\n",
       "      <td>...</td>\n",
       "    </tr>\n",
       "    <tr>\n",
       "      <th>104191</th>\n",
       "      <td>Other</td>\n",
       "      <td>Product_Name_504</td>\n",
       "      <td>0</td>\n",
       "    </tr>\n",
       "    <tr>\n",
       "      <th>104192</th>\n",
       "      <td>Other</td>\n",
       "      <td>Product_Name_510</td>\n",
       "      <td>0</td>\n",
       "    </tr>\n",
       "    <tr>\n",
       "      <th>104193</th>\n",
       "      <td>Other</td>\n",
       "      <td>Product_Name_512</td>\n",
       "      <td>0</td>\n",
       "    </tr>\n",
       "    <tr>\n",
       "      <th>104194</th>\n",
       "      <td>Other</td>\n",
       "      <td>Product_Name_87</td>\n",
       "      <td>0</td>\n",
       "    </tr>\n",
       "    <tr>\n",
       "      <th>104195</th>\n",
       "      <td>Other</td>\n",
       "      <td>Other</td>\n",
       "      <td>0</td>\n",
       "    </tr>\n",
       "  </tbody>\n",
       "</table>\n",
       "<p>104196 rows × 3 columns</p>\n",
       "</div>"
      ],
      "text/plain": [
       "          Product_Family      Product_Name  target\n",
       "0       Product_Family_0    Product_Name_0     165\n",
       "1       Product_Family_0    Product_Name_1       0\n",
       "2       Product_Family_0   Product_Name_10       0\n",
       "3       Product_Family_0  Product_Name_100       0\n",
       "4       Product_Family_0  Product_Name_101       0\n",
       "...                  ...               ...     ...\n",
       "104191             Other  Product_Name_504       0\n",
       "104192             Other  Product_Name_510       0\n",
       "104193             Other  Product_Name_512       0\n",
       "104194             Other   Product_Name_87       0\n",
       "104195             Other             Other       0\n",
       "\n",
       "[104196 rows x 3 columns]"
      ]
     },
     "execution_count": 28,
     "metadata": {},
     "output_type": "execute_result"
    }
   ],
   "source": [
    "grouped = trainset.groupby([\"Product_Family\",\"Product_Name\"]).agg({\"target\":\"count\"})\n",
    "grouped = grouped.reset_index()\n",
    "grouped    "
   ]
  },
  {
   "cell_type": "code",
   "execution_count": 29,
   "metadata": {},
   "outputs": [
    {
     "name": "stdout",
     "output_type": "stream",
     "text": [
      "Cantidad de combinaciones familia-producto con por lo menos 1 registro: 456\n",
      "Cantidad de valores de Product_Name: 457\n"
     ]
    }
   ],
   "source": [
    "print(f\"Cantidad de combinaciones familia-producto con por lo menos 1 registro: {len(grouped.loc[grouped['target']>0])}\")\n",
    "print(f\"Cantidad de valores de Product_Name: {len(grouped['Product_Name'].drop_duplicates())}\")"
   ]
  },
  {
   "cell_type": "markdown",
   "metadata": {},
   "source": [
    "Esto nos confirma que cada producto pertenece a una sola familia excepto \"Otros\" que no pertenece a ninguna. Para realizar el \"Flatten\" de productos elegidos en una oportunidad, usamos su familia."
   ]
  },
  {
   "cell_type": "code",
   "execution_count": 30,
   "metadata": {},
   "outputs": [],
   "source": [
    "grouped = trainset[\"Product_Family\"].value_counts()\n",
    "families = { k:v for k,v in grouped.items()}\n",
    "\n",
    "grouped = trainset[\"Product_Name\"].value_counts()\n",
    "products = { k:v for k,v in grouped.items()}"
   ]
  },
  {
   "cell_type": "code",
   "execution_count": 31,
   "metadata": {},
   "outputs": [],
   "source": [
    "# Flatten opportunity_ID\n",
    "\n",
    "# \n",
    "trainset[\"Family_Group\"] = trainset[\"Product_Family\"].agg(lambda x: families[x])\n",
    "trainset[\"Product_Group\"] = trainset[\"Product_Name\"].agg(lambda x: products[x])\n",
    "trainset[\"Planned_range\"] =  trainset[\"Planned_Delivery_End_Date\"] - trainset[\"Planned_Delivery_Start_Date\"]\n",
    "\n",
    "testset[\"Family_Group\"] = testset[\"Product_Family\"].agg(lambda x: families[x])\n",
    "testset[\"Product_Group\"] = testset[\"Product_Name\"].agg(lambda x: products[x])\n",
    "testset[\"Planned_range\"] =  testset[\"Planned_Delivery_End_Date\"] - testset[\"Planned_Delivery_Start_Date\"]\n"
   ]
  },
  {
   "cell_type": "code",
   "execution_count": 32,
   "metadata": {},
   "outputs": [
    {
     "name": "stdout",
     "output_type": "stream",
     "text": [
      "<class 'pandas.core.frame.DataFrame'>\n",
      "Int64Index: 16947 entries, 27761 to 28318\n",
      "Data columns (total 59 columns):\n",
      " #   Column                              Non-Null Count  Dtype          \n",
      "---  ------                              --------------  -----          \n",
      " 0   Region                              16947 non-null  category       \n",
      " 1   Territory                           16947 non-null  category       \n",
      " 2   Pricing, Delivery_Terms_Quote_Appr  16947 non-null  int64          \n",
      " 3   Pricing, Delivery_Terms_Approved    16947 non-null  int64          \n",
      " 4   Bureaucratic_Code_0_Approval        16947 non-null  int64          \n",
      " 5   Bureaucratic_Code_0_Approved        16947 non-null  int64          \n",
      " 6   Bureaucratic_Code                   16947 non-null  category       \n",
      " 7   Account_Created_Date                16947 non-null  datetime64[ns] \n",
      " 8   Source                              16947 non-null  category       \n",
      " 9   Billing_Country                     16947 non-null  category       \n",
      " 10  Account_Name                        16947 non-null  category       \n",
      " 11  Opportunity_Name                    16947 non-null  category       \n",
      " 12  Opportunity_ID                      16947 non-null  int64          \n",
      " 13  Sales_Contract_No                   16947 non-null  float64        \n",
      " 14  Account_Owner                       16947 non-null  category       \n",
      " 15  Opportunity_Owner                   16947 non-null  category       \n",
      " 16  Account_Type                        16947 non-null  category       \n",
      " 17  Opportunity_Type                    16947 non-null  category       \n",
      " 18  Quote_Type                          16947 non-null  category       \n",
      " 19  Delivery_Terms                      16947 non-null  category       \n",
      " 20  Opportunity_Created_Date            16947 non-null  datetime64[ns] \n",
      " 21  Quote_Expiry_Date                   16947 non-null  datetime64[ns] \n",
      " 22  Last_Modified_Date                  16947 non-null  datetime64[ns] \n",
      " 23  Last_Modified_By                    16947 non-null  category       \n",
      " 24  Product_Family                      16947 non-null  category       \n",
      " 25  Product_Name                        16947 non-null  category       \n",
      " 26  ASP_Currency                        16947 non-null  category       \n",
      " 27  ASP                                 16947 non-null  float64        \n",
      " 28  ASP_(converted)_Currency            16947 non-null  category       \n",
      " 29  ASP_(converted)                     16947 non-null  float64        \n",
      " 30  Planned_Delivery_Start_Date         16947 non-null  datetime64[ns] \n",
      " 31  Planned_Delivery_End_Date           16947 non-null  datetime64[ns] \n",
      " 32  Month                               16947 non-null  datetime64[ns] \n",
      " 33  Delivery_Quarter                    16947 non-null  category       \n",
      " 34  Delivery_Year                       16947 non-null  int64          \n",
      " 35  TRF                                 16947 non-null  int64          \n",
      " 36  Total_Amount_Currency               16947 non-null  category       \n",
      " 37  Total_Amount                        16947 non-null  float64        \n",
      " 38  Total_Taxable_Amount_Currency       16947 non-null  category       \n",
      " 39  Total_Taxable_Amount                16947 non-null  float64        \n",
      " 40  Stage                               16947 non-null  category       \n",
      " 41  target                              16947 non-null  int64          \n",
      " 42  USD_factor                          16947 non-null  float64        \n",
      " 43  ASP_Mean                            16947 non-null  float64        \n",
      " 44  ASP_Mean_(converted)                16947 non-null  float64        \n",
      " 45  Total_Amount_USD                    16947 non-null  float64        \n",
      " 46  Total_Taxable_Amount_USD            16947 non-null  float64        \n",
      " 47  Family_Group                        16947 non-null  int64          \n",
      " 48  Product_Group                       16947 non-null  int64          \n",
      " 49  Planned_range                       16947 non-null  timedelta64[ns]\n",
      " 50  Family_group_mean                   16947 non-null  float64        \n",
      " 51  Product_group_mean                  16947 non-null  float64        \n",
      " 52  Items                               16947 non-null  int64          \n",
      " 53  Total_Amount_mean                   16947 non-null  float64        \n",
      " 54  ASP_(converted)_mean                16947 non-null  float64        \n",
      " 55  TRF_min                             16947 non-null  int64          \n",
      " 56  TRF_max                             16947 non-null  int64          \n",
      " 57  Planned_min_range                   16947 non-null  int64          \n",
      " 58  Planned_max_range                   16947 non-null  int64          \n",
      "dtypes: category(22), datetime64[ns](7), float64(14), int64(15), timedelta64[ns](1)\n",
      "memory usage: 5.9 MB\n",
      "<class 'pandas.core.frame.DataFrame'>\n",
      "Int64Index: 2551 entries, 6140 to 11263\n",
      "Data columns (total 57 columns):\n",
      " #   Column                              Non-Null Count  Dtype          \n",
      "---  ------                              --------------  -----          \n",
      " 0   Region                              2551 non-null   category       \n",
      " 1   Territory                           2551 non-null   object         \n",
      " 2   Pricing, Delivery_Terms_Quote_Appr  2551 non-null   int64          \n",
      " 3   Pricing, Delivery_Terms_Approved    2551 non-null   int64          \n",
      " 4   Bureaucratic_Code_0_Approval        2551 non-null   int64          \n",
      " 5   Bureaucratic_Code_0_Approved        2551 non-null   int64          \n",
      " 6   Bureaucratic_Code                   2551 non-null   category       \n",
      " 7   Account_Created_Date                2551 non-null   datetime64[ns] \n",
      " 8   Source                              2551 non-null   category       \n",
      " 9   Billing_Country                     2551 non-null   object         \n",
      " 10  Account_Name                        2551 non-null   object         \n",
      " 11  Opportunity_Name                    2551 non-null   category       \n",
      " 12  Opportunity_ID                      2551 non-null   int64          \n",
      " 13  Sales_Contract_No                   2551 non-null   float64        \n",
      " 14  Account_Owner                       2551 non-null   category       \n",
      " 15  Opportunity_Owner                   2551 non-null   object         \n",
      " 16  Account_Type                        2551 non-null   category       \n",
      " 17  Opportunity_Type                    2551 non-null   category       \n",
      " 18  Quote_Type                          2551 non-null   category       \n",
      " 19  Delivery_Terms                      2551 non-null   category       \n",
      " 20  Opportunity_Created_Date            2551 non-null   datetime64[ns] \n",
      " 21  Quote_Expiry_Date                   2551 non-null   datetime64[ns] \n",
      " 22  Last_Modified_Date                  2551 non-null   datetime64[ns] \n",
      " 23  Last_Modified_By                    2551 non-null   object         \n",
      " 24  Product_Family                      2551 non-null   object         \n",
      " 25  Product_Name                        2551 non-null   object         \n",
      " 26  ASP_Currency                        2551 non-null   category       \n",
      " 27  ASP                                 2551 non-null   float64        \n",
      " 28  ASP_(converted)_Currency            2551 non-null   category       \n",
      " 29  ASP_(converted)                     2551 non-null   float64        \n",
      " 30  Planned_Delivery_Start_Date         2551 non-null   datetime64[ns] \n",
      " 31  Planned_Delivery_End_Date           2551 non-null   datetime64[ns] \n",
      " 32  Month                               2551 non-null   datetime64[ns] \n",
      " 33  Delivery_Quarter                    2551 non-null   category       \n",
      " 34  Delivery_Year                       2551 non-null   int64          \n",
      " 35  TRF                                 2551 non-null   int64          \n",
      " 36  Total_Amount_Currency               2551 non-null   category       \n",
      " 37  Total_Amount                        2551 non-null   float64        \n",
      " 38  Total_Taxable_Amount_Currency       2551 non-null   category       \n",
      " 39  Total_Taxable_Amount                2551 non-null   float64        \n",
      " 40  USD_factor                          2551 non-null   float64        \n",
      " 41  ASP_Mean                            2551 non-null   float64        \n",
      " 42  ASP_Mean_(converted)                2551 non-null   float64        \n",
      " 43  Total_Amount_USD                    2551 non-null   float64        \n",
      " 44  Total_Taxable_Amount_USD            2551 non-null   float64        \n",
      " 45  Family_Group                        2551 non-null   int64          \n",
      " 46  Product_Group                       2551 non-null   int64          \n",
      " 47  Planned_range                       2551 non-null   timedelta64[ns]\n",
      " 48  Family_group_mean                   2551 non-null   float64        \n",
      " 49  Product_group_mean                  2551 non-null   float64        \n",
      " 50  Items                               2551 non-null   int64          \n",
      " 51  Total_Amount_mean                   2551 non-null   float64        \n",
      " 52  ASP_(converted)_mean                2551 non-null   float64        \n",
      " 53  TRF_min                             2551 non-null   int64          \n",
      " 54  TRF_max                             2551 non-null   int64          \n",
      " 55  Planned_min_range                   2551 non-null   int64          \n",
      " 56  Planned_max_range                   2551 non-null   int64          \n",
      "dtypes: category(14), datetime64[ns](7), float64(14), int64(14), object(7), timedelta64[ns](1)\n",
      "memory usage: 970.7+ KB\n"
     ]
    }
   ],
   "source": [
    "trainset[\"Family_group_mean\"]   = trainset.groupby(\"Opportunity_ID\")[\"Family_Group\"].transform(\"mean\")\n",
    "trainset[\"Product_group_mean\"]  = trainset.groupby(\"Opportunity_ID\")[\"Product_Group\"].transform(\"mean\")\n",
    "trainset[\"Items\"]               = trainset.groupby(\"Opportunity_ID\")[\"target\"].transform(\"count\")\n",
    "trainset[\"Total_Amount_mean\"]   = trainset.groupby(\"Opportunity_ID\")[\"Total_Amount_USD\"].transform(\"mean\")  #Promedio dolarizado\n",
    "trainset[\"ASP_(converted)_mean\"]= trainset.groupby(\"Opportunity_ID\")[\"ASP_(converted)\"].transform(\"mean\")\n",
    "trainset[\"TRF_min\"]             = trainset.groupby(\"Opportunity_ID\")[\"TRF\"].transform(\"min\")\n",
    "trainset[\"TRF_max\"]             = trainset.groupby(\"Opportunity_ID\")[\"TRF\"].transform(\"max\")\n",
    "trainset[\"Planned_min_range\"]   = trainset.groupby(\"Opportunity_ID\")[\"Planned_range\"].transform(\"min\")\n",
    "trainset[\"Planned_max_range\"]   = trainset.groupby(\"Opportunity_ID\")[\"Planned_range\"].transform(\"max\")\n",
    "trainset[\"Planned_min_range\"]   = trainset[\"Planned_min_range\"].dt.days\n",
    "trainset[\"Planned_max_range\"]   = trainset[\"Planned_max_range\"].dt.days\n",
    "trainset.info()\n",
    "\n",
    "testset[\"Family_group_mean\"]    = testset.groupby(\"Opportunity_ID\")[\"Family_Group\"].transform(\"mean\")\n",
    "testset[\"Product_group_mean\"]   = testset.groupby(\"Opportunity_ID\")[\"Product_Group\"].transform(\"mean\")\n",
    "testset[\"Items\"]                = testset.groupby(\"Opportunity_ID\")[\"Opportunity_Name\"].transform(\"count\")\n",
    "testset[\"Total_Amount_mean\"]    = testset.groupby(\"Opportunity_ID\")[\"Total_Amount_USD\"].transform(\"mean\")\n",
    "testset[\"ASP_(converted)_mean\"] = testset.groupby(\"Opportunity_ID\")[\"ASP_(converted)\"].transform(\"mean\")\n",
    "testset[\"TRF_min\"]              = testset.groupby(\"Opportunity_ID\")[\"TRF\"].transform(\"min\")\n",
    "testset[\"TRF_max\"]              = testset.groupby(\"Opportunity_ID\")[\"TRF\"].transform(\"max\")\n",
    "testset[\"Planned_min_range\"]    = testset.groupby(\"Opportunity_ID\")[\"Planned_range\"].transform(\"min\")\n",
    "testset[\"Planned_max_range\"]    = testset.groupby(\"Opportunity_ID\")[\"Planned_range\"].transform(\"max\")\n",
    "testset[\"Planned_min_range\"]    = testset[\"Planned_min_range\"].dt.days\n",
    "testset[\"Planned_max_range\"]    = testset[\"Planned_max_range\"].dt.days\n",
    "testset.info()\n",
    "\n",
    "excluded.extend(to_flat)\n",
    "excluded.extend([\"Family_Group\",\"Product_Group\",\"Planned_range\"])"
   ]
  },
  {
   "cell_type": "markdown",
   "metadata": {},
   "source": [
    "### Mean encoding\n",
    "\n",
    "Proponemos encodear la columna \"Territorio\" como el promedio de los TRF solicitados en esa región. Nos basamos en el negocio mismo, el cual ofrece equipos de refrigeración, que se suponen que serán más solicitados en cantidad y en potencia (TRF) en regiones donde hace más calor. Es por esto que creemos que el promedio de los TRF, en un territorio dado, califica conceptualmente bien a ese territorio.\n",
    "\n"
   ]
  },
  {
   "cell_type": "code",
   "execution_count": 33,
   "metadata": {},
   "outputs": [
    {
     "name": "stdout",
     "output_type": "stream",
     "text": [
      "Columnas de Binary-Encoding ahorradas:  7\n",
      "Columnas usadas con mean encoding: 2\n"
     ]
    }
   ],
   "source": [
    "import math\n",
    "\n",
    "n= len(trainset[\"Territory\"].value_counts().index.to_list())\n",
    "print(\"Columnas de Binary-Encoding ahorradas: \",int(math.log2(n))+1)\n",
    "print(\"Columnas usadas con mean encoding: 2\")"
   ]
  },
  {
   "cell_type": "code",
   "execution_count": 34,
   "metadata": {},
   "outputs": [],
   "source": [
    "trainset[\"Territory_TRF_mean\"]  = trainset.groupby(\"Territory\")[\"TRF\"].transform(\"mean\")\n",
    "trainset[\"Territory_TRF_count\"]  = trainset.groupby(\"Territory\")[\"TRF\"].transform(\"count\")\n",
    "trainset[\"Territory_TRF_max\"]  = trainset.groupby(\"Territory\")[\"TRF\"].transform(\"max\")\n",
    "\n",
    "testset[\"Territory_TRF_mean\"]  = testset.groupby(\"Territory\")[\"TRF\"].transform(\"mean\")\n",
    "testset[\"Territory_TRF_count\"]  = testset.groupby(\"Territory\")[\"TRF\"].transform(\"count\")\n",
    "testset[\"Territory_TRF_max\"]  = testset.groupby(\"Territory\")[\"TRF\"].transform(\"max\")\n",
    "\n",
    "excluded.extend([\"Territory\"])"
   ]
  },
  {
   "cell_type": "code",
   "execution_count": 35,
   "metadata": {},
   "outputs": [
    {
     "data": {
      "text/html": [
       "<div>\n",
       "<style scoped>\n",
       "    .dataframe tbody tr th:only-of-type {\n",
       "        vertical-align: middle;\n",
       "    }\n",
       "\n",
       "    .dataframe tbody tr th {\n",
       "        vertical-align: top;\n",
       "    }\n",
       "\n",
       "    .dataframe thead th {\n",
       "        text-align: right;\n",
       "    }\n",
       "</style>\n",
       "<table border=\"1\" class=\"dataframe\">\n",
       "  <thead>\n",
       "    <tr style=\"text-align: right;\">\n",
       "      <th></th>\n",
       "      <th>Territory</th>\n",
       "      <th>TRF</th>\n",
       "    </tr>\n",
       "    <tr>\n",
       "      <th>ID</th>\n",
       "      <th></th>\n",
       "      <th></th>\n",
       "    </tr>\n",
       "  </thead>\n",
       "  <tbody>\n",
       "    <tr>\n",
       "      <th>6140</th>\n",
       "      <td>Germany</td>\n",
       "      <td>0</td>\n",
       "    </tr>\n",
       "    <tr>\n",
       "      <th>6146</th>\n",
       "      <td>Germany</td>\n",
       "      <td>0</td>\n",
       "    </tr>\n",
       "    <tr>\n",
       "      <th>6151</th>\n",
       "      <td>Germany</td>\n",
       "      <td>0</td>\n",
       "    </tr>\n",
       "    <tr>\n",
       "      <th>6118</th>\n",
       "      <td>Germany</td>\n",
       "      <td>1</td>\n",
       "    </tr>\n",
       "    <tr>\n",
       "      <th>6124</th>\n",
       "      <td>Germany</td>\n",
       "      <td>0</td>\n",
       "    </tr>\n",
       "  </tbody>\n",
       "</table>\n",
       "</div>"
      ],
      "text/plain": [
       "     Territory  TRF\n",
       "ID                 \n",
       "6140   Germany    0\n",
       "6146   Germany    0\n",
       "6151   Germany    0\n",
       "6118   Germany    1\n",
       "6124   Germany    0"
      ]
     },
     "execution_count": 35,
     "metadata": {},
     "output_type": "execute_result"
    }
   ],
   "source": [
    "testset[[\"Territory\",\"TRF\"]].head(5)"
   ]
  },
  {
   "cell_type": "markdown",
   "metadata": {},
   "source": [
    "### New features from others\n",
    "\n",
    "Crearemos columnas referidas al intervalo en dias que hay entre dos fechas relevalntes"
   ]
  },
  {
   "cell_type": "code",
   "execution_count": 36,
   "metadata": {},
   "outputs": [
    {
     "data": {
      "text/plain": [
       "['Account_Created_Date',\n",
       " 'Opportunity_Created_Date',\n",
       " 'Quote_Expiry_Date',\n",
       " 'Last_Modified_Date',\n",
       " 'Planned_Delivery_Start_Date',\n",
       " 'Planned_Delivery_End_Date']"
      ]
     },
     "execution_count": 36,
     "metadata": {},
     "output_type": "execute_result"
    }
   ],
   "source": [
    "date_columns"
   ]
  },
  {
   "cell_type": "markdown",
   "metadata": {},
   "source": [
    "* `Opportunity_Created_Date` y `Quote_Expiry_Date`\n"
   ]
  },
  {
   "cell_type": "code",
   "execution_count": 37,
   "metadata": {},
   "outputs": [],
   "source": [
    "trainset[\"QuoteExpiry-OppCreated\"] = (trainset[\"Quote_Expiry_Date\"]-trainset[\"Opportunity_Created_Date\"]).dt.days\n",
    "testset[\"QuoteExpiry-OppCreated\"]  = (testset[\"Quote_Expiry_Date\"] -testset[\"Opportunity_Created_Date\"]).dt.days"
   ]
  },
  {
   "cell_type": "markdown",
   "metadata": {},
   "source": [
    "* `Opportunity_Created_Date` y `Account_Created_Date`"
   ]
  },
  {
   "cell_type": "code",
   "execution_count": 38,
   "metadata": {},
   "outputs": [],
   "source": [
    "trainset[\"OppCreated-AccCreated\"] = (trainset[\"Opportunity_Created_Date\"]-trainset[\"Account_Created_Date\"]).dt.days\n",
    "testset[\"OppCreated-AccCreated\"]  = (testset[\"Opportunity_Created_Date\"] -testset[\"Account_Created_Date\"]).dt.days"
   ]
  },
  {
   "cell_type": "markdown",
   "metadata": {},
   "source": [
    "* `Opportunity_Created_Date` y `Last_Modified_Date`"
   ]
  },
  {
   "cell_type": "code",
   "execution_count": 39,
   "metadata": {},
   "outputs": [],
   "source": [
    "trainset[\"OppCreated-LastMod\"] = (trainset[\"Opportunity_Created_Date\"]-trainset[\"Last_Modified_Date\"]).dt.days\n",
    "testset[\"OppCreated-LastMod\"]  = (testset[\"Opportunity_Created_Date\"] -testset[\"Last_Modified_Date\"]).dt.days"
   ]
  },
  {
   "cell_type": "markdown",
   "metadata": {},
   "source": [
    "* `Opportunity_Created_Date` y `Planned_Delivery_Start_Date`\n"
   ]
  },
  {
   "cell_type": "code",
   "execution_count": 40,
   "metadata": {},
   "outputs": [],
   "source": [
    "trainset[\"PlanStart-OppCreated\"] = (trainset[\"Planned_Delivery_Start_Date\"]-trainset[\"Opportunity_Created_Date\"]).dt.days\n",
    "testset[\"PlanStart-OppCreated\"]  = (testset[\"Planned_Delivery_Start_Date\"] -testset[\"Opportunity_Created_Date\"]).dt.days"
   ]
  },
  {
   "cell_type": "markdown",
   "metadata": {},
   "source": [
    "### One-hot encoding \n",
    "Realizaremos un dataset básico para poder correr el modelo por primera vez y observar los resultados.\n",
    "Luego realizaremos mejoras e ingeniería de features para ver como se comporta el modelo."
   ]
  },
  {
   "cell_type": "code",
   "execution_count": 41,
   "metadata": {},
   "outputs": [],
   "source": [
    "from sklearn.preprocessing import OneHotEncoder "
   ]
  },
  {
   "cell_type": "code",
   "execution_count": 42,
   "metadata": {},
   "outputs": [
    {
     "name": "stdout",
     "output_type": "stream",
     "text": [
      "El set de entrenamiento tiene 1118502 elementos\n",
      "El set de test tiene 163264 elementos\n"
     ]
    }
   ],
   "source": [
    "print(f\"El set de entrenamiento tiene {trainset.size} elementos\")\n",
    "print(f\"El set de test tiene {testset.size} elementos\")"
   ]
  },
  {
   "cell_type": "code",
   "execution_count": 43,
   "metadata": {},
   "outputs": [
    {
     "name": "stdout",
     "output_type": "stream",
     "text": [
      "Features categóricos a encodear\n"
     ]
    },
    {
     "data": {
      "text/plain": [
       "['Delivery_Terms',\n",
       " 'Account_Name',\n",
       " 'Account_Type',\n",
       " 'Total_Amount_Currency',\n",
       " 'Account_Owner',\n",
       " 'Opportunity_Type',\n",
       " 'Quote_Type',\n",
       " 'ASP_Currency',\n",
       " 'Bureaucratic_Code',\n",
       " 'Source',\n",
       " 'Billing_Country',\n",
       " 'Opportunity_Owner',\n",
       " 'Last_Modified_By',\n",
       " 'Region']"
      ]
     },
     "execution_count": 43,
     "metadata": {},
     "output_type": "execute_result"
    }
   ],
   "source": [
    "excluded.extend([\"ASP_(converted)_Currency\",\"Total_Taxable_Amount_Currency\",'target'])\n",
    "\n",
    "toEncode = set([col if col not in excluded else \"\" for col in categorical_columns])\n",
    "toEncode.discard(\"\")\n",
    "toEncode = list(toEncode)\n",
    "\n",
    "print(\"Features categóricos a encodear\")\n",
    "toEncode"
   ]
  },
  {
   "cell_type": "code",
   "execution_count": 44,
   "metadata": {},
   "outputs": [
    {
     "name": "stdout",
     "output_type": "stream",
     "text": [
      "Shape: (16947, 1949)\n",
      "Size: 33029703\n",
      "<class 'pandas.core.frame.DataFrame'>\n",
      "RangeIndex: 16947 entries, 0 to 16946\n",
      "Columns: 1949 entries, 0 to 1948\n",
      "dtypes: float64(1949)\n",
      "memory usage: 252.0 MB\n"
     ]
    }
   ],
   "source": [
    "enc = OneHotEncoder(drop='if_binary')\n",
    "enc.fit(trainset[toEncode])\n",
    "ohed = pd.DataFrame(enc.transform(trainset[toEncode]).toarray())\n",
    "print(f\"Shape: {ohed.shape}\")\n",
    "print(f\"Size: {ohed.size}\")\n",
    "ohed.info()"
   ]
  },
  {
   "cell_type": "markdown",
   "metadata": {},
   "source": [
    "Decidimos abandonar esta propuesta debido a la poca escalabilidad que tiene este método. Debido a las numerosas columnas categóricas con numerosos valores posibles cada una, necesitamos un total de ``2.723`` columnas para `16.947` entradas, lo cual nos deja un total de `46.146.681` valores en nuestra tabla."
   ]
  },
  {
   "cell_type": "markdown",
   "metadata": {},
   "source": [
    "### Binary encoding \n",
    "\n",
    "Este método nos permite encodear las features categóricas reduciendo considerablemente el dataset. Si suponemos que los 16.947 valores categóricos posibles se distribuyen uniformemente en las 7 columnas, entonces necesitaremos ``⌊log_2(16.947/7)⌋ + 1  = 9`` columnas nuevas por cada columna categórica original del dataset. En total ``9*7 = 63`` una propuesta cuestionable pero mucho mejor que la anterior. "
   ]
  },
  {
   "cell_type": "code",
   "execution_count": 45,
   "metadata": {},
   "outputs": [],
   "source": [
    "import math\n",
    "class BinaryEncoding():\n",
    "    \n",
    "    def __init__(self):\n",
    "        self.__encodings = {}\n",
    "        \n",
    "    def __make_encoding(self,name,categories):\n",
    "\n",
    "        encoding = {}\n",
    "        n_cols = int(math.log(len(categories),2))+1\n",
    "        cols_names = [ name+\"_\"+str(x) for x in range(n_cols) ]\n",
    "\n",
    "        for i in range(len(categories)):\n",
    "            encoding[categories[i]] = list(f'{bin(i)[2:]}'.zfill(n_cols))\n",
    "\n",
    "        return (encoding,cols_names)\n",
    "    \n",
    "    def encode_Series(self, serie, name,verbose=False):\n",
    "        \n",
    "        \n",
    "        if not name in self.__encodings:\n",
    "\n",
    "            categories = serie.cat.categories.to_list()\n",
    "            self.__encodings[name] =  self.__make_encoding(name,categories)\n",
    "        \n",
    "        encoding,cols_names = self.__encodings[name]\n",
    "        data = []\n",
    "        indexs = []\n",
    "        \n",
    "        for index, value in serie.items():\n",
    "\n",
    "            data.append(encoding[value])\n",
    "            indexs.append(index)\n",
    "\n",
    "        df_result = pd.DataFrame(data,columns=cols_names,index=indexs)\n",
    "        return df_result,cols_names\n",
    "    \n",
    "    def getEncoding(self):\n",
    "        return self.__encodings\n",
    "    \n",
    "    def encode_DataFrame(self, df, toEncode, verbose = False):\n",
    "\n",
    "        full_encoded,columns = self.encode_Series(df[toEncode[0]],toEncode[0],verbose)\n",
    "       \n",
    "        for col in toEncode[1:]:\n",
    "            \n",
    "            encoding,col_names = self.encode_Series(df[col],col,verbose)\n",
    "            full_encoded[col_names] = encoding\n",
    "\n",
    "        if verbose: self.evaluate_encoding(df[toEncode],full_encoded)\n",
    "\n",
    "        return full_encoded\n",
    "    \n",
    "    def evaluate_encoding(self,original,encoded):\n",
    "\n",
    "        # Recuento de cada una de las combinaciones de \n",
    "        # la lista de features categóricos sin encodear\n",
    "        count1 = original.value_counts().to_frame()[0].values\n",
    "\n",
    "        # Recuento de cada una de las combinaciones de \n",
    "        # la lista de features categóricos ENCODEADOS\n",
    "        count2 = encoded.value_counts().to_frame()[0].values\n",
    "\n",
    "        # Comparación\n",
    "        print(\"El encoding fue realizado correctamente: \", np.equal(count1,count2).all())\n"
   ]
  },
  {
   "cell_type": "code",
   "execution_count": null,
   "metadata": {},
   "outputs": [],
   "source": []
  },
  {
   "cell_type": "code",
   "execution_count": 46,
   "metadata": {},
   "outputs": [
    {
     "name": "stdout",
     "output_type": "stream",
     "text": [
      "El encoding fue realizado correctamente:  True\n",
      "El encoding fue realizado correctamente:  True\n"
     ]
    }
   ],
   "source": [
    "encoder = BinaryEncoding()\n",
    "trainEncoded = encoder.encode_DataFrame(trainset,toEncode,verbose=True)\n",
    "testEncoded = encoder.encode_DataFrame(testset,toEncode,verbose=True)"
   ]
  },
  {
   "cell_type": "code",
   "execution_count": 47,
   "metadata": {},
   "outputs": [
    {
     "name": "stdout",
     "output_type": "stream",
     "text": [
      "Train-encoded shape: (16947, 66)\n",
      "Train-encoded size: 1118502\n",
      "--------------------------------\n",
      "Test-encoded shape: (2551, 66)\n",
      "Test-encoded size: 168366\n"
     ]
    }
   ],
   "source": [
    "print(f\"Train-encoded shape: {trainEncoded.shape}\")\n",
    "print(f\"Train-encoded size: {trainEncoded.size}\")\n",
    "print(\"--------------------------------\")\n",
    "print(f\"Test-encoded shape: {testEncoded.shape}\")\n",
    "print(f\"Test-encoded size: {testEncoded.size}\")"
   ]
  },
  {
   "cell_type": "markdown",
   "metadata": {},
   "source": [
    "Pudimos encodear las columnas categóricas reduciendo notablemente el espacio. El cálculo de columnas utilizadas previo valía con la suposición de que todas las features tenían la misma cantidad de valores. Pero aún no cumpliendose, la diferencia de columnas es poca con respecto al resultado obtenido con One Hot Encoding"
   ]
  },
  {
   "cell_type": "code",
   "execution_count": null,
   "metadata": {},
   "outputs": [],
   "source": []
  },
  {
   "cell_type": "markdown",
   "metadata": {},
   "source": [
    "Terminamos este procesamiento de datos, para ver como un modelo de RandomForest se comporta frente a esto."
   ]
  },
  {
   "cell_type": "code",
   "execution_count": 48,
   "metadata": {},
   "outputs": [
    {
     "name": "stdout",
     "output_type": "stream",
     "text": [
      "Excluidas:\n",
      "\n"
     ]
    },
    {
     "data": {
      "text/plain": [
       "['Actual_Delivery_Date',\n",
       " 'Last_Activity',\n",
       " 'Submitted_for_Approval',\n",
       " 'Prod_Category_A',\n",
       " 'Brand',\n",
       " 'Product_Type',\n",
       " 'Size',\n",
       " 'Product_Category_B',\n",
       " 'Price',\n",
       " 'Currency',\n",
       " 'Stage',\n",
       " 'Opportunity_Name',\n",
       " 'Total_Amount',\n",
       " 'Total_Taxable_Amount',\n",
       " 'Product_Name',\n",
       " 'Product_Family',\n",
       " 'Total_Amount',\n",
       " 'Planned_Delivery_End_Date',\n",
       " 'Planned_Delivery_Start_Date',\n",
       " 'ASP_(converted)',\n",
       " 'ASP',\n",
       " 'TRF',\n",
       " 'Delivery_Quarter',\n",
       " 'Delivery_Year',\n",
       " 'Month',\n",
       " 'Family_Group',\n",
       " 'Product_Group',\n",
       " 'Planned_range',\n",
       " 'Territory',\n",
       " 'ASP_(converted)_Currency',\n",
       " 'Total_Taxable_Amount_Currency',\n",
       " 'target']"
      ]
     },
     "metadata": {},
     "output_type": "display_data"
    },
    {
     "name": "stdout",
     "output_type": "stream",
     "text": [
      "\n",
      "Encodeadas:\n",
      "\n"
     ]
    },
    {
     "data": {
      "text/plain": [
       "['Delivery_Terms',\n",
       " 'Account_Name',\n",
       " 'Account_Type',\n",
       " 'Total_Amount_Currency',\n",
       " 'Account_Owner',\n",
       " 'Opportunity_Type',\n",
       " 'Quote_Type',\n",
       " 'ASP_Currency',\n",
       " 'Bureaucratic_Code',\n",
       " 'Source',\n",
       " 'Billing_Country',\n",
       " 'Opportunity_Owner',\n",
       " 'Last_Modified_By',\n",
       " 'Region']"
      ]
     },
     "metadata": {},
     "output_type": "display_data"
    }
   ],
   "source": [
    "print(\"Excluidas:\\n\")\n",
    "display(excluded)\n",
    "\n",
    "print(\"\\nEncodeadas:\\n\")\n",
    "display(toEncode)"
   ]
  },
  {
   "cell_type": "code",
   "execution_count": 49,
   "metadata": {},
   "outputs": [
    {
     "name": "stdout",
     "output_type": "stream",
     "text": [
      "Selected 25 features no categóricos\n"
     ]
    },
    {
     "data": {
      "text/plain": [
       "['Pricing, Delivery_Terms_Quote_Appr',\n",
       " 'Pricing, Delivery_Terms_Approved',\n",
       " 'Bureaucratic_Code_0_Approval',\n",
       " 'Bureaucratic_Code_0_Approved',\n",
       " 'Opportunity_ID',\n",
       " 'Sales_Contract_No',\n",
       " 'USD_factor',\n",
       " 'Total_Amount_USD',\n",
       " 'Total_Taxable_Amount_USD',\n",
       " 'Family_group_mean',\n",
       " 'Product_group_mean',\n",
       " 'Items',\n",
       " 'Total_Amount_mean',\n",
       " 'ASP_(converted)_mean',\n",
       " 'TRF_min',\n",
       " 'TRF_max',\n",
       " 'Planned_min_range',\n",
       " 'Planned_max_range',\n",
       " 'Territory_TRF_mean',\n",
       " 'Territory_TRF_count',\n",
       " 'Territory_TRF_max',\n",
       " 'QuoteExpiry-OppCreated',\n",
       " 'OppCreated-AccCreated',\n",
       " 'OppCreated-LastMod',\n",
       " 'PlanStart-OppCreated']"
      ]
     },
     "execution_count": 49,
     "metadata": {},
     "output_type": "execute_result"
    }
   ],
   "source": [
    "excluded.extend(date_columns+['ASP_Mean','ASP_Mean_(converted)'])\n",
    "final_cols = list()\n",
    "categorical_columns.append(\"target\")\n",
    "for col in trainset.columns.to_list():\n",
    "    if not col in excluded+categorical_columns:\n",
    "        final_cols.append(col)\n",
    "print(f\"Selected {len(final_cols)} features no categóricos\")\n",
    "final_cols"
   ]
  },
  {
   "cell_type": "code",
   "execution_count": 50,
   "metadata": {},
   "outputs": [
    {
     "data": {
      "text/plain": [
       "(9841, 92)"
      ]
     },
     "execution_count": 50,
     "metadata": {},
     "output_type": "execute_result"
    }
   ],
   "source": [
    "finalTrain = trainset.loc[:,final_cols+[\"target\"]]\n",
    "finalTrain[trainEncoded.columns.to_list()] = trainEncoded\n",
    "finalTrain.drop_duplicates(\"Opportunity_ID\",inplace=True)\n",
    "finalTrain.shape"
   ]
  },
  {
   "cell_type": "code",
   "execution_count": 51,
   "metadata": {},
   "outputs": [
    {
     "data": {
      "text/plain": [
       "(1567, 91)"
      ]
     },
     "execution_count": 51,
     "metadata": {},
     "output_type": "execute_result"
    }
   ],
   "source": [
    "finalTest = testset.loc[:,final_cols]\n",
    "finalTest[testEncoded.columns.to_list()] = testEncoded\n",
    "finalTest.drop_duplicates(\"Opportunity_ID\",inplace=True)\n",
    "finalTest.shape"
   ]
  },
  {
   "cell_type": "code",
   "execution_count": 52,
   "metadata": {},
   "outputs": [
    {
     "name": "stdout",
     "output_type": "stream",
     "text": [
      "<class 'pandas.core.frame.DataFrame'>\n",
      "Int64Index: 9841 entries, 27761 to 28318\n",
      "Data columns (total 92 columns):\n",
      " #   Column                              Non-Null Count  Dtype  \n",
      "---  ------                              --------------  -----  \n",
      " 0   Pricing, Delivery_Terms_Quote_Appr  9841 non-null   int64  \n",
      " 1   Pricing, Delivery_Terms_Approved    9841 non-null   int64  \n",
      " 2   Bureaucratic_Code_0_Approval        9841 non-null   int64  \n",
      " 3   Bureaucratic_Code_0_Approved        9841 non-null   int64  \n",
      " 4   Opportunity_ID                      9841 non-null   int64  \n",
      " 5   Sales_Contract_No                   9841 non-null   float64\n",
      " 6   USD_factor                          9841 non-null   float64\n",
      " 7   Total_Amount_USD                    9841 non-null   float64\n",
      " 8   Total_Taxable_Amount_USD            9841 non-null   float64\n",
      " 9   Family_group_mean                   9841 non-null   float64\n",
      " 10  Product_group_mean                  9841 non-null   float64\n",
      " 11  Items                               9841 non-null   int64  \n",
      " 12  Total_Amount_mean                   9841 non-null   float64\n",
      " 13  ASP_(converted)_mean                9841 non-null   float64\n",
      " 14  TRF_min                             9841 non-null   int64  \n",
      " 15  TRF_max                             9841 non-null   int64  \n",
      " 16  Planned_min_range                   9841 non-null   int64  \n",
      " 17  Planned_max_range                   9841 non-null   int64  \n",
      " 18  Territory_TRF_mean                  9841 non-null   float64\n",
      " 19  Territory_TRF_count                 9841 non-null   int64  \n",
      " 20  Territory_TRF_max                   9841 non-null   int64  \n",
      " 21  QuoteExpiry-OppCreated              9841 non-null   int64  \n",
      " 22  OppCreated-AccCreated               9841 non-null   int64  \n",
      " 23  OppCreated-LastMod                  9841 non-null   int64  \n",
      " 24  PlanStart-OppCreated                9841 non-null   int64  \n",
      " 25  target                              9841 non-null   int64  \n",
      " 26  Delivery_Terms_0                    9841 non-null   object \n",
      " 27  Delivery_Terms_1                    9841 non-null   object \n",
      " 28  Delivery_Terms_2                    9841 non-null   object \n",
      " 29  Delivery_Terms_3                    9841 non-null   object \n",
      " 30  Account_Name_0                      9841 non-null   object \n",
      " 31  Account_Name_1                      9841 non-null   object \n",
      " 32  Account_Name_2                      9841 non-null   object \n",
      " 33  Account_Name_3                      9841 non-null   object \n",
      " 34  Account_Name_4                      9841 non-null   object \n",
      " 35  Account_Name_5                      9841 non-null   object \n",
      " 36  Account_Name_6                      9841 non-null   object \n",
      " 37  Account_Name_7                      9841 non-null   object \n",
      " 38  Account_Name_8                      9841 non-null   object \n",
      " 39  Account_Name_9                      9841 non-null   object \n",
      " 40  Account_Name_10                     9841 non-null   object \n",
      " 41  Account_Type_0                      9841 non-null   object \n",
      " 42  Account_Type_1                      9841 non-null   object \n",
      " 43  Account_Type_2                      9841 non-null   object \n",
      " 44  Total_Amount_Currency_0             9841 non-null   object \n",
      " 45  Total_Amount_Currency_1             9841 non-null   object \n",
      " 46  Total_Amount_Currency_2             9841 non-null   object \n",
      " 47  Account_Owner_0                     9841 non-null   object \n",
      " 48  Account_Owner_1                     9841 non-null   object \n",
      " 49  Account_Owner_2                     9841 non-null   object \n",
      " 50  Account_Owner_3                     9841 non-null   object \n",
      " 51  Account_Owner_4                     9841 non-null   object \n",
      " 52  Account_Owner_5                     9841 non-null   object \n",
      " 53  Opportunity_Type_0                  9841 non-null   object \n",
      " 54  Opportunity_Type_1                  9841 non-null   object \n",
      " 55  Opportunity_Type_2                  9841 non-null   object \n",
      " 56  Opportunity_Type_3                  9841 non-null   object \n",
      " 57  Opportunity_Type_4                  9841 non-null   object \n",
      " 58  Quote_Type_0                        9841 non-null   object \n",
      " 59  Quote_Type_1                        9841 non-null   object \n",
      " 60  ASP_Currency_0                      9841 non-null   object \n",
      " 61  ASP_Currency_1                      9841 non-null   object \n",
      " 62  ASP_Currency_2                      9841 non-null   object \n",
      " 63  Bureaucratic_Code_0                 9841 non-null   object \n",
      " 64  Bureaucratic_Code_1                 9841 non-null   object \n",
      " 65  Bureaucratic_Code_2                 9841 non-null   object \n",
      " 66  Source_0                            9841 non-null   object \n",
      " 67  Source_1                            9841 non-null   object \n",
      " 68  Source_2                            9841 non-null   object \n",
      " 69  Source_3                            9841 non-null   object \n",
      " 70  Billing_Country_0                   9841 non-null   object \n",
      " 71  Billing_Country_1                   9841 non-null   object \n",
      " 72  Billing_Country_2                   9841 non-null   object \n",
      " 73  Billing_Country_3                   9841 non-null   object \n",
      " 74  Billing_Country_4                   9841 non-null   object \n",
      " 75  Billing_Country_5                   9841 non-null   object \n",
      " 76  Billing_Country_6                   9841 non-null   object \n",
      " 77  Opportunity_Owner_0                 9841 non-null   object \n",
      " 78  Opportunity_Owner_1                 9841 non-null   object \n",
      " 79  Opportunity_Owner_2                 9841 non-null   object \n",
      " 80  Opportunity_Owner_3                 9841 non-null   object \n",
      " 81  Opportunity_Owner_4                 9841 non-null   object \n",
      " 82  Opportunity_Owner_5                 9841 non-null   object \n",
      " 83  Last_Modified_By_0                  9841 non-null   object \n",
      " 84  Last_Modified_By_1                  9841 non-null   object \n",
      " 85  Last_Modified_By_2                  9841 non-null   object \n",
      " 86  Last_Modified_By_3                  9841 non-null   object \n",
      " 87  Last_Modified_By_4                  9841 non-null   object \n",
      " 88  Last_Modified_By_5                  9841 non-null   object \n",
      " 89  Region_0                            9841 non-null   object \n",
      " 90  Region_1                            9841 non-null   object \n",
      " 91  Region_2                            9841 non-null   object \n",
      "dtypes: float64(9), int64(17), object(66)\n",
      "memory usage: 7.0+ MB\n"
     ]
    }
   ],
   "source": [
    "finalTrain.info()"
   ]
  },
  {
   "cell_type": "code",
   "execution_count": 53,
   "metadata": {},
   "outputs": [],
   "source": [
    "# Se eliminaron las columnas vacías o con valores iguales\n",
    "# Se eliminaron features con mas del 90% de registros NaN\n",
    "# Se rellenaron nan_values con promedios para features numéricos y con \"Others\" para categóricos\n",
    "# Se eliminaron valores categóricos del set de test que no estan en el set de entrenamiento\n",
    "# Se convirtieron valores monetarios en distintas monedas a valores dolarizados\n",
    "# Se unificaron los items en un mismo regirstro con igual Opportunity_ID.\n",
    "# Se realizo Mean Encoding para el territory segun su TRF\n",
    "# Se realizó binary encoding para todos las features categóricas\n",
    "# Se crearon features relacionadas a rangos en días entre dos fechas\n",
    "# Se agregó la columna \"target\" la cual tiene 1/0 según es \"Closed Won\" o no\n",
    "# Se eliminó la columna \"Stage\"\n",
    "\n",
    "\n",
    "# feature engineering\n",
    "\n",
    "path = \"datasets/\"\n",
    "name = \"featureEngineering\"\n",
    "#finalTrain.to_csv(path+name+\"-train.csv\", index = False)\n",
    "#finalTest.to_csv(path+name+\"-test.csv\", index = False)"
   ]
  },
  {
   "cell_type": "code",
   "execution_count": null,
   "metadata": {},
   "outputs": [],
   "source": [
    "\n"
   ]
  }
 ],
 "metadata": {
  "kernelspec": {
   "display_name": "Python 3",
   "language": "python",
   "name": "python3"
  },
  "language_info": {
   "codemirror_mode": {
    "name": "ipython",
    "version": 3
   },
   "file_extension": ".py",
   "mimetype": "text/x-python",
   "name": "python",
   "nbconvert_exporter": "python",
   "pygments_lexer": "ipython3",
   "version": "3.7.9"
  }
 },
 "nbformat": 4,
 "nbformat_minor": 4
}
