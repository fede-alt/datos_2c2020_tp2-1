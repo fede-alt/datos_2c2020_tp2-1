{
 "cells": [
  {
   "cell_type": "code",
   "execution_count": null,
   "metadata": {
    "id": "MMc9k6m_uJsN"
   },
   "outputs": [],
   "source": [
    "import numpy as np\n",
    "import tensorflow as tf\n",
    "import matplotlib.pyplot as plt\n",
    "import random\n",
    "import pandas as pd\n",
    "import seaborn as sns"
   ]
  },
  {
   "cell_type": "code",
   "execution_count": 109,
   "metadata": {
    "executionInfo": {
     "elapsed": 849,
     "status": "ok",
     "timestamp": 1612308208711,
     "user": {
      "displayName": "Tomas Fanciotti",
      "photoUrl": "https://lh3.googleusercontent.com/a-/AOh14GgFsYXKyb0ZZgISWHduA_TIwDeRapr5luqhSrvXH_Q=s64",
      "userId": "01644558546552400828"
     },
     "user_tz": 180
    },
    "id": "033ESHdBueRy"
   },
   "outputs": [],
   "source": [
    "dataset = []\n",
    "volumen = 100\n",
    "separator = np.array([-2,3,-4])\n",
    "noise = 5\n",
    "\n",
    "for i in range(volumen):\n",
    "  new_vec = np.random.rand(2)*10\n",
    "\n",
    "  if separator.dot(np.append(new_vec,1)) > 0:\n",
    "    new_label= 1\n",
    "  else:\n",
    "    new_label = 0\n",
    "  \n",
    "  if noise:\n",
    "    noise_vec = np.random.rand(2) - np.array([0.5,0.5])\n",
    "    norm = np.linalg.norm(new_vec)\n",
    "    noise_vec = noise_vec*noise/norm\n",
    "    new_vec += noise_vec\n",
    "\n",
    "  dataset.append(np.append(new_vec,new_label))\n"
   ]
  },
  {
   "cell_type": "code",
   "execution_count": 111,
   "metadata": {
    "colab": {
     "base_uri": "https://localhost:8080/",
     "height": 419
    },
    "executionInfo": {
     "elapsed": 904,
     "status": "ok",
     "timestamp": 1612308226287,
     "user": {
      "displayName": "Tomas Fanciotti",
      "photoUrl": "https://lh3.googleusercontent.com/a-/AOh14GgFsYXKyb0ZZgISWHduA_TIwDeRapr5luqhSrvXH_Q=s64",
      "userId": "01644558546552400828"
     },
     "user_tz": 180
    },
    "id": "dAWkMwowymln",
    "outputId": "ef8f7332-e5e1-4cd5-9c63-b5e34d6cd60f"
   },
   "outputs": [
    {
     "data": {
      "text/html": [
       "<div>\n",
       "<style scoped>\n",
       "    .dataframe tbody tr th:only-of-type {\n",
       "        vertical-align: middle;\n",
       "    }\n",
       "\n",
       "    .dataframe tbody tr th {\n",
       "        vertical-align: top;\n",
       "    }\n",
       "\n",
       "    .dataframe thead th {\n",
       "        text-align: right;\n",
       "    }\n",
       "</style>\n",
       "<table border=\"1\" class=\"dataframe\">\n",
       "  <thead>\n",
       "    <tr style=\"text-align: right;\">\n",
       "      <th></th>\n",
       "      <th>x</th>\n",
       "      <th>y</th>\n",
       "      <th>target</th>\n",
       "    </tr>\n",
       "  </thead>\n",
       "  <tbody>\n",
       "    <tr>\n",
       "      <th>0</th>\n",
       "      <td>3.485228</td>\n",
       "      <td>1.732756</td>\n",
       "      <td>0.0</td>\n",
       "    </tr>\n",
       "    <tr>\n",
       "      <th>1</th>\n",
       "      <td>-0.018314</td>\n",
       "      <td>2.709511</td>\n",
       "      <td>1.0</td>\n",
       "    </tr>\n",
       "    <tr>\n",
       "      <th>2</th>\n",
       "      <td>-0.582693</td>\n",
       "      <td>3.902425</td>\n",
       "      <td>1.0</td>\n",
       "    </tr>\n",
       "    <tr>\n",
       "      <th>3</th>\n",
       "      <td>5.724784</td>\n",
       "      <td>4.662014</td>\n",
       "      <td>0.0</td>\n",
       "    </tr>\n",
       "    <tr>\n",
       "      <th>4</th>\n",
       "      <td>1.060584</td>\n",
       "      <td>7.125074</td>\n",
       "      <td>1.0</td>\n",
       "    </tr>\n",
       "    <tr>\n",
       "      <th>...</th>\n",
       "      <td>...</td>\n",
       "      <td>...</td>\n",
       "      <td>...</td>\n",
       "    </tr>\n",
       "    <tr>\n",
       "      <th>95</th>\n",
       "      <td>3.617818</td>\n",
       "      <td>0.325884</td>\n",
       "      <td>0.0</td>\n",
       "    </tr>\n",
       "    <tr>\n",
       "      <th>96</th>\n",
       "      <td>9.040046</td>\n",
       "      <td>7.773802</td>\n",
       "      <td>1.0</td>\n",
       "    </tr>\n",
       "    <tr>\n",
       "      <th>97</th>\n",
       "      <td>9.052227</td>\n",
       "      <td>0.868447</td>\n",
       "      <td>0.0</td>\n",
       "    </tr>\n",
       "    <tr>\n",
       "      <th>98</th>\n",
       "      <td>-0.246287</td>\n",
       "      <td>6.152411</td>\n",
       "      <td>1.0</td>\n",
       "    </tr>\n",
       "    <tr>\n",
       "      <th>99</th>\n",
       "      <td>5.181148</td>\n",
       "      <td>4.586115</td>\n",
       "      <td>0.0</td>\n",
       "    </tr>\n",
       "  </tbody>\n",
       "</table>\n",
       "<p>100 rows × 3 columns</p>\n",
       "</div>"
      ],
      "text/plain": [
       "           x         y  target\n",
       "0   3.485228  1.732756     0.0\n",
       "1  -0.018314  2.709511     1.0\n",
       "2  -0.582693  3.902425     1.0\n",
       "3   5.724784  4.662014     0.0\n",
       "4   1.060584  7.125074     1.0\n",
       "..       ...       ...     ...\n",
       "95  3.617818  0.325884     0.0\n",
       "96  9.040046  7.773802     1.0\n",
       "97  9.052227  0.868447     0.0\n",
       "98 -0.246287  6.152411     1.0\n",
       "99  5.181148  4.586115     0.0\n",
       "\n",
       "[100 rows x 3 columns]"
      ]
     },
     "execution_count": 111,
     "metadata": {
      "tags": []
     },
     "output_type": "execute_result"
    }
   ],
   "source": [
    "df = pd.DataFrame(dataset)\n",
    "df = df.rename(columns={0:\"x\",1:\"y\",2:\"target\"})\n",
    "df"
   ]
  },
  {
   "cell_type": "code",
   "execution_count": null,
   "metadata": {
    "colab": {
     "base_uri": "https://localhost:8080/",
     "height": 296
    },
    "executionInfo": {
     "elapsed": 1378,
     "status": "ok",
     "timestamp": 1612307984490,
     "user": {
      "displayName": "Tomas Fanciotti",
      "photoUrl": "https://lh3.googleusercontent.com/a-/AOh14GgFsYXKyb0ZZgISWHduA_TIwDeRapr5luqhSrvXH_Q=s64",
      "userId": "01644558546552400828"
     },
     "user_tz": 180
    },
    "id": "b8RQ_3ZM0yQU",
    "outputId": "2372d837-102b-4692-c58c-678541aa68fe"
   },
   "outputs": [
    {
     "data": {
      "text/plain": [
       "<matplotlib.legend.Legend at 0x7ff361941a90>"
      ]
     },
     "execution_count": 108,
     "metadata": {
      "tags": []
     },
     "output_type": "execute_result"
    },
    {
     "data": {
      "image/png": "[encoded data removed]",
      "text/plain": [
       "<Figure size 432x288 with 1 Axes>"
      ]
     },
     "metadata": {
      "needs_background": "light",
      "tags": []
     },
     "output_type": "display_data"
    }
   ],
   "source": [
    "sns.scatterplot(x=df[\"x\"],y=df[\"y\"],hue=df[\"target\"])\n",
    "plt.legend(bbox_to_anchor=(1.05, 1), loc=2, borderaxespad=0.)"
   ]
  },
  {
   "cell_type": "code",
   "execution_count": 134,
   "metadata": {
    "executionInfo": {
     "elapsed": 996,
     "status": "ok",
     "timestamp": 1612315243707,
     "user": {
      "displayName": "Tomas Fanciotti",
      "photoUrl": "https://lh3.googleusercontent.com/a-/AOh14GgFsYXKyb0ZZgISWHduA_TIwDeRapr5luqhSrvXH_Q=s64",
      "userId": "01644558546552400828"
     },
     "user_tz": 180
    },
    "id": "MXYNEMgp3zDB"
   },
   "outputs": [],
   "source": [
    "class Perceptron():\n",
    "\n",
    "  def __init__(cls,dimention):\n",
    "    cls.dim = dimention\n",
    "    cls.weights = np.random.rand(dimention+1)\n",
    "    cls.gamma = 0.1\n",
    "  \n",
    "  def train(cls,x_train,y_train):\n",
    "    \n",
    "    iterations = 0\n",
    "    fails = 0\n",
    "\n",
    "    for features,label in zip(x_train,y_train):\n",
    "\n",
    "      features = np.append(features,1)\n",
    "      delta = label - cls.__activation_(features)\n",
    "      delta = delta*features*cls.gamma\n",
    "      cls.weights += delta\n",
    "\n",
    "      if not delta:\n",
    "        fails +=1\n",
    "      iterations += 1\n",
    "\n",
    "  def __activation_(cls,x_vec):\n",
    "    return 1 if cls.weights.dot(x_vec) > 0 else 0\n",
    "  \n",
    "  def predict(cls,x_vec):\n",
    "    return cls.__activation_(np.append(x_vec,1))"
   ]
  },
  {
   "cell_type": "code",
   "execution_count": 127,
   "metadata": {
    "colab": {
     "base_uri": "https://localhost:8080/"
    },
    "executionInfo": {
     "elapsed": 1036,
     "status": "ok",
     "timestamp": 1612315038545,
     "user": {
      "displayName": "Tomas Fanciotti",
      "photoUrl": "https://lh3.googleusercontent.com/a-/AOh14GgFsYXKyb0ZZgISWHduA_TIwDeRapr5luqhSrvXH_Q=s64",
      "userId": "01644558546552400828"
     },
     "user_tz": 180
    },
    "id": "8Dcq66x47pJ7",
    "outputId": "a33e7687-0b6c-419f-8956-338b931003d4"
   },
   "outputs": [
    {
     "data": {
      "text/plain": [
       "array([3.48522822, 1.73275623])"
      ]
     },
     "execution_count": 127,
     "metadata": {
      "tags": []
     },
     "output_type": "execute_result"
    }
   ],
   "source": [
    "x_train,y_train = [],[]\n",
    "for data in dataset:\n",
    "  x_train.append(np.array([data[0],data[1]]))\n",
    "  y_train.append(data[2])\n",
    "\n",
    "x_train[0]\n"
   ]
  },
  {
   "cell_type": "code",
   "execution_count": 137,
   "metadata": {
    "colab": {
     "base_uri": "https://localhost:8080/"
    },
    "executionInfo": {
     "elapsed": 980,
     "status": "ok",
     "timestamp": 1612315280986,
     "user": {
      "displayName": "Tomas Fanciotti",
      "photoUrl": "https://lh3.googleusercontent.com/a-/AOh14GgFsYXKyb0ZZgISWHduA_TIwDeRapr5luqhSrvXH_Q=s64",
      "userId": "01644558546552400828"
     },
     "user_tz": 180
    },
    "id": "QaXhO-dadlyX",
    "outputId": "9368d9d7-7b5b-40b7-fd23-7ec2fbf57a08"
   },
   "outputs": [
    {
     "data": {
      "text/plain": [
       "0"
      ]
     },
     "execution_count": 137,
     "metadata": {
      "tags": []
     },
     "output_type": "execute_result"
    }
   ],
   "source": [
    "my_perceptron = Perceptron(2)\n",
    "my_perceptron.train(x_train,y_train)"
   ]
  },
  {
   "cell_type": "code",
   "execution_count": 148,
   "metadata": {
    "executionInfo": {
     "elapsed": 913,
     "status": "ok",
     "timestamp": 1612316222150,
     "user": {
      "displayName": "Tomas Fanciotti",
      "photoUrl": "https://lh3.googleusercontent.com/a-/AOh14GgFsYXKyb0ZZgISWHduA_TIwDeRapr5luqhSrvXH_Q=s64",
      "userId": "01644558546552400828"
     },
     "user_tz": 180
    },
    "id": "oYM2vNiMetvq"
   },
   "outputs": [],
   "source": [
    "# Testing the perceptron\n",
    "\n",
    "volumen_test = 1000\n",
    "separator = np.array([-2,3,-4]) #we already know it cause we made the train set\n",
    "\n",
    "test_set = []\n",
    "\n",
    "for i in range(volumen_test):\n",
    "  x_test = np.random.rand(2)*10\n",
    "  prediction = my_perceptron.predict(x_test)\n",
    "\n",
    "  if separator.dot(np.append(x_test,1)) > 0:\n",
    "    label = 1\n",
    "  else:\n",
    "    label = 0\n",
    "\n",
    "  x_test = np.append(x_test,[label,prediction])\n",
    "  test_set.append(x_test) \n",
    "\n",
    "  \n",
    "  "
   ]
  },
  {
   "cell_type": "code",
   "execution_count": 164,
   "metadata": {
    "colab": {
     "base_uri": "https://localhost:8080/",
     "height": 419
    },
    "executionInfo": {
     "elapsed": 879,
     "status": "ok",
     "timestamp": 1612316732952,
     "user": {
      "displayName": "Tomas Fanciotti",
      "photoUrl": "https://lh3.googleusercontent.com/a-/AOh14GgFsYXKyb0ZZgISWHduA_TIwDeRapr5luqhSrvXH_Q=s64",
      "userId": "01644558546552400828"
     },
     "user_tz": 180
    },
    "id": "uLSmAYnRhkVV",
    "outputId": "2d7ba42d-380d-4ead-f7b2-b8e8c4a34588"
   },
   "outputs": [
    {
     "data": {
      "text/html": [
       "<div>\n",
       "<style scoped>\n",
       "    .dataframe tbody tr th:only-of-type {\n",
       "        vertical-align: middle;\n",
       "    }\n",
       "\n",
       "    .dataframe tbody tr th {\n",
       "        vertical-align: top;\n",
       "    }\n",
       "\n",
       "    .dataframe thead th {\n",
       "        text-align: right;\n",
       "    }\n",
       "</style>\n",
       "<table border=\"1\" class=\"dataframe\">\n",
       "  <thead>\n",
       "    <tr style=\"text-align: right;\">\n",
       "      <th></th>\n",
       "      <th>x</th>\n",
       "      <th>y</th>\n",
       "      <th>label</th>\n",
       "      <th>predicted</th>\n",
       "    </tr>\n",
       "  </thead>\n",
       "  <tbody>\n",
       "    <tr>\n",
       "      <th>0</th>\n",
       "      <td>6.404933</td>\n",
       "      <td>2.900076</td>\n",
       "      <td>0.0</td>\n",
       "      <td>0.0</td>\n",
       "    </tr>\n",
       "    <tr>\n",
       "      <th>1</th>\n",
       "      <td>9.781966</td>\n",
       "      <td>2.361044</td>\n",
       "      <td>0.0</td>\n",
       "      <td>0.0</td>\n",
       "    </tr>\n",
       "    <tr>\n",
       "      <th>2</th>\n",
       "      <td>9.983948</td>\n",
       "      <td>0.495283</td>\n",
       "      <td>0.0</td>\n",
       "      <td>0.0</td>\n",
       "    </tr>\n",
       "    <tr>\n",
       "      <th>3</th>\n",
       "      <td>5.342412</td>\n",
       "      <td>8.758603</td>\n",
       "      <td>1.0</td>\n",
       "      <td>1.0</td>\n",
       "    </tr>\n",
       "    <tr>\n",
       "      <th>4</th>\n",
       "      <td>6.490413</td>\n",
       "      <td>6.403839</td>\n",
       "      <td>1.0</td>\n",
       "      <td>1.0</td>\n",
       "    </tr>\n",
       "    <tr>\n",
       "      <th>...</th>\n",
       "      <td>...</td>\n",
       "      <td>...</td>\n",
       "      <td>...</td>\n",
       "      <td>...</td>\n",
       "    </tr>\n",
       "    <tr>\n",
       "      <th>995</th>\n",
       "      <td>2.044267</td>\n",
       "      <td>6.399785</td>\n",
       "      <td>1.0</td>\n",
       "      <td>1.0</td>\n",
       "    </tr>\n",
       "    <tr>\n",
       "      <th>996</th>\n",
       "      <td>0.258103</td>\n",
       "      <td>1.483697</td>\n",
       "      <td>0.0</td>\n",
       "      <td>1.0</td>\n",
       "    </tr>\n",
       "    <tr>\n",
       "      <th>997</th>\n",
       "      <td>8.362586</td>\n",
       "      <td>0.562258</td>\n",
       "      <td>0.0</td>\n",
       "      <td>0.0</td>\n",
       "    </tr>\n",
       "    <tr>\n",
       "      <th>998</th>\n",
       "      <td>4.666926</td>\n",
       "      <td>3.361989</td>\n",
       "      <td>0.0</td>\n",
       "      <td>0.0</td>\n",
       "    </tr>\n",
       "    <tr>\n",
       "      <th>999</th>\n",
       "      <td>1.368560</td>\n",
       "      <td>8.034130</td>\n",
       "      <td>1.0</td>\n",
       "      <td>1.0</td>\n",
       "    </tr>\n",
       "  </tbody>\n",
       "</table>\n",
       "<p>1000 rows × 4 columns</p>\n",
       "</div>"
      ],
      "text/plain": [
       "            x         y  label  predicted\n",
       "0    6.404933  2.900076    0.0        0.0\n",
       "1    9.781966  2.361044    0.0        0.0\n",
       "2    9.983948  0.495283    0.0        0.0\n",
       "3    5.342412  8.758603    1.0        1.0\n",
       "4    6.490413  6.403839    1.0        1.0\n",
       "..        ...       ...    ...        ...\n",
       "995  2.044267  6.399785    1.0        1.0\n",
       "996  0.258103  1.483697    0.0        1.0\n",
       "997  8.362586  0.562258    0.0        0.0\n",
       "998  4.666926  3.361989    0.0        0.0\n",
       "999  1.368560  8.034130    1.0        1.0\n",
       "\n",
       "[1000 rows x 4 columns]"
      ]
     },
     "execution_count": 164,
     "metadata": {
      "tags": []
     },
     "output_type": "execute_result"
    }
   ],
   "source": [
    "results = pd.DataFrame(test_set)\n",
    "results = results.rename(columns={0:\"x\",1:\"y\",2:\"label\",3:\"predicted\"})\n",
    "results"
   ]
  },
  {
   "cell_type": "code",
   "execution_count": 165,
   "metadata": {
    "executionInfo": {
     "elapsed": 904,
     "status": "ok",
     "timestamp": 1612316764133,
     "user": {
      "displayName": "Tomas Fanciotti",
      "photoUrl": "https://lh3.googleusercontent.com/a-/AOh14GgFsYXKyb0ZZgISWHduA_TIwDeRapr5luqhSrvXH_Q=s64",
      "userId": "01644558546552400828"
     },
     "user_tz": 180
    },
    "id": "S6bYMCTjkOoX"
   },
   "outputs": [],
   "source": [
    "results[\"ok\"] =  results[\"label\"] == results[\"predicted\"]"
   ]
  },
  {
   "cell_type": "code",
   "execution_count": 169,
   "metadata": {
    "colab": {
     "base_uri": "https://localhost:8080/",
     "height": 419
    },
    "executionInfo": {
     "elapsed": 1056,
     "status": "ok",
     "timestamp": 1612316870173,
     "user": {
      "displayName": "Tomas Fanciotti",
      "photoUrl": "https://lh3.googleusercontent.com/a-/AOh14GgFsYXKyb0ZZgISWHduA_TIwDeRapr5luqhSrvXH_Q=s64",
      "userId": "01644558546552400828"
     },
     "user_tz": 180
    },
    "id": "lHqFZ3iskuTg",
    "outputId": "62b72fba-f636-4083-c477-061b8bf976c5"
   },
   "outputs": [
    {
     "data": {
      "text/html": [
       "<div>\n",
       "<style scoped>\n",
       "    .dataframe tbody tr th:only-of-type {\n",
       "        vertical-align: middle;\n",
       "    }\n",
       "\n",
       "    .dataframe tbody tr th {\n",
       "        vertical-align: top;\n",
       "    }\n",
       "\n",
       "    .dataframe thead th {\n",
       "        text-align: right;\n",
       "    }\n",
       "</style>\n",
       "<table border=\"1\" class=\"dataframe\">\n",
       "  <thead>\n",
       "    <tr style=\"text-align: right;\">\n",
       "      <th></th>\n",
       "      <th>x</th>\n",
       "      <th>y</th>\n",
       "      <th>label</th>\n",
       "      <th>predicted</th>\n",
       "      <th>ok</th>\n",
       "    </tr>\n",
       "  </thead>\n",
       "  <tbody>\n",
       "    <tr>\n",
       "      <th>0</th>\n",
       "      <td>6.404933</td>\n",
       "      <td>2.900076</td>\n",
       "      <td>0.0</td>\n",
       "      <td>0.0</td>\n",
       "      <td>True</td>\n",
       "    </tr>\n",
       "    <tr>\n",
       "      <th>1</th>\n",
       "      <td>9.781966</td>\n",
       "      <td>2.361044</td>\n",
       "      <td>0.0</td>\n",
       "      <td>0.0</td>\n",
       "      <td>True</td>\n",
       "    </tr>\n",
       "    <tr>\n",
       "      <th>2</th>\n",
       "      <td>9.983948</td>\n",
       "      <td>0.495283</td>\n",
       "      <td>0.0</td>\n",
       "      <td>0.0</td>\n",
       "      <td>True</td>\n",
       "    </tr>\n",
       "    <tr>\n",
       "      <th>3</th>\n",
       "      <td>5.342412</td>\n",
       "      <td>8.758603</td>\n",
       "      <td>1.0</td>\n",
       "      <td>1.0</td>\n",
       "      <td>True</td>\n",
       "    </tr>\n",
       "    <tr>\n",
       "      <th>4</th>\n",
       "      <td>6.490413</td>\n",
       "      <td>6.403839</td>\n",
       "      <td>1.0</td>\n",
       "      <td>1.0</td>\n",
       "      <td>True</td>\n",
       "    </tr>\n",
       "    <tr>\n",
       "      <th>...</th>\n",
       "      <td>...</td>\n",
       "      <td>...</td>\n",
       "      <td>...</td>\n",
       "      <td>...</td>\n",
       "      <td>...</td>\n",
       "    </tr>\n",
       "    <tr>\n",
       "      <th>995</th>\n",
       "      <td>2.044267</td>\n",
       "      <td>6.399785</td>\n",
       "      <td>1.0</td>\n",
       "      <td>1.0</td>\n",
       "      <td>True</td>\n",
       "    </tr>\n",
       "    <tr>\n",
       "      <th>996</th>\n",
       "      <td>0.258103</td>\n",
       "      <td>1.483697</td>\n",
       "      <td>0.0</td>\n",
       "      <td>1.0</td>\n",
       "      <td>False</td>\n",
       "    </tr>\n",
       "    <tr>\n",
       "      <th>997</th>\n",
       "      <td>8.362586</td>\n",
       "      <td>0.562258</td>\n",
       "      <td>0.0</td>\n",
       "      <td>0.0</td>\n",
       "      <td>True</td>\n",
       "    </tr>\n",
       "    <tr>\n",
       "      <th>998</th>\n",
       "      <td>4.666926</td>\n",
       "      <td>3.361989</td>\n",
       "      <td>0.0</td>\n",
       "      <td>0.0</td>\n",
       "      <td>True</td>\n",
       "    </tr>\n",
       "    <tr>\n",
       "      <th>999</th>\n",
       "      <td>1.368560</td>\n",
       "      <td>8.034130</td>\n",
       "      <td>1.0</td>\n",
       "      <td>1.0</td>\n",
       "      <td>True</td>\n",
       "    </tr>\n",
       "  </tbody>\n",
       "</table>\n",
       "<p>1000 rows × 5 columns</p>\n",
       "</div>"
      ],
      "text/plain": [
       "            x         y  label  predicted     ok\n",
       "0    6.404933  2.900076    0.0        0.0   True\n",
       "1    9.781966  2.361044    0.0        0.0   True\n",
       "2    9.983948  0.495283    0.0        0.0   True\n",
       "3    5.342412  8.758603    1.0        1.0   True\n",
       "4    6.490413  6.403839    1.0        1.0   True\n",
       "..        ...       ...    ...        ...    ...\n",
       "995  2.044267  6.399785    1.0        1.0   True\n",
       "996  0.258103  1.483697    0.0        1.0  False\n",
       "997  8.362586  0.562258    0.0        0.0   True\n",
       "998  4.666926  3.361989    0.0        0.0   True\n",
       "999  1.368560  8.034130    1.0        1.0   True\n",
       "\n",
       "[1000 rows x 5 columns]"
      ]
     },
     "execution_count": 169,
     "metadata": {
      "tags": []
     },
     "output_type": "execute_result"
    }
   ],
   "source": [
    "results"
   ]
  },
  {
   "cell_type": "code",
   "execution_count": 175,
   "metadata": {
    "colab": {
     "base_uri": "https://localhost:8080/",
     "height": 279
    },
    "executionInfo": {
     "elapsed": 2871,
     "status": "ok",
     "timestamp": 1612317147736,
     "user": {
      "displayName": "Tomas Fanciotti",
      "photoUrl": "https://lh3.googleusercontent.com/a-/AOh14GgFsYXKyb0ZZgISWHduA_TIwDeRapr5luqhSrvXH_Q=s64",
      "userId": "01644558546552400828"
     },
     "user_tz": 180
    },
    "id": "aIMdonlBid6E",
    "outputId": "ef0ef98a-3791-465b-fe69-6580150aa76e"
   },
   "outputs": [
    {
     "data": {
      "image/png": "[encoded data removed]",
      "text/plain": [
       "<Figure size 432x288 with 1 Axes>"
      ]
     },
     "metadata": {
      "needs_background": "light",
      "tags": []
     },
     "output_type": "display_data"
    }
   ],
   "source": [
    "sns.scatterplot(data=results, x=\"x\",y=\"y\",hue=\"predicted\",style = \"ok\",style_order=[True,False])\n",
    "plt.legend(bbox_to_anchor=(1.05, 1), loc=2, borderaxespad=0.)\n",
    "plt.show()\n",
    "\n",
    "\n",
    "\n"
   ]
  },
  {
   "cell_type": "code",
   "execution_count": 163,
   "metadata": {
    "colab": {
     "base_uri": "https://localhost:8080/",
     "height": 419
    },
    "executionInfo": {
     "elapsed": 1124,
     "status": "ok",
     "timestamp": 1612316518095,
     "user": {
      "displayName": "Tomas Fanciotti",
      "photoUrl": "https://lh3.googleusercontent.com/a-/AOh14GgFsYXKyb0ZZgISWHduA_TIwDeRapr5luqhSrvXH_Q=s64",
      "userId": "01644558546552400828"
     },
     "user_tz": 180
    },
    "id": "IxZCBlGijHtp",
    "outputId": "e4af6aea-5a43-42e7-bcc8-3e5b757950e3"
   },
   "outputs": [
    {
     "data": {
      "text/html": [
       "<div>\n",
       "<style scoped>\n",
       "    .dataframe tbody tr th:only-of-type {\n",
       "        vertical-align: middle;\n",
       "    }\n",
       "\n",
       "    .dataframe tbody tr th {\n",
       "        vertical-align: top;\n",
       "    }\n",
       "\n",
       "    .dataframe thead th {\n",
       "        text-align: right;\n",
       "    }\n",
       "</style>\n",
       "<table border=\"1\" class=\"dataframe\">\n",
       "  <thead>\n",
       "    <tr style=\"text-align: right;\">\n",
       "      <th></th>\n",
       "      <th>x</th>\n",
       "      <th>y</th>\n",
       "      <th>label</th>\n",
       "      <th>predicted</th>\n",
       "    </tr>\n",
       "  </thead>\n",
       "  <tbody>\n",
       "    <tr>\n",
       "      <th>0</th>\n",
       "      <td>6.404933</td>\n",
       "      <td>2.900076</td>\n",
       "      <td>0.0</td>\n",
       "      <td>0.0</td>\n",
       "    </tr>\n",
       "    <tr>\n",
       "      <th>1</th>\n",
       "      <td>9.781966</td>\n",
       "      <td>2.361044</td>\n",
       "      <td>0.0</td>\n",
       "      <td>0.0</td>\n",
       "    </tr>\n",
       "    <tr>\n",
       "      <th>2</th>\n",
       "      <td>9.983948</td>\n",
       "      <td>0.495283</td>\n",
       "      <td>0.0</td>\n",
       "      <td>0.0</td>\n",
       "    </tr>\n",
       "    <tr>\n",
       "      <th>3</th>\n",
       "      <td>5.342412</td>\n",
       "      <td>8.758603</td>\n",
       "      <td>1.0</td>\n",
       "      <td>1.0</td>\n",
       "    </tr>\n",
       "    <tr>\n",
       "      <th>4</th>\n",
       "      <td>6.490413</td>\n",
       "      <td>6.403839</td>\n",
       "      <td>1.0</td>\n",
       "      <td>1.0</td>\n",
       "    </tr>\n",
       "    <tr>\n",
       "      <th>...</th>\n",
       "      <td>...</td>\n",
       "      <td>...</td>\n",
       "      <td>...</td>\n",
       "      <td>...</td>\n",
       "    </tr>\n",
       "    <tr>\n",
       "      <th>994</th>\n",
       "      <td>6.356450</td>\n",
       "      <td>1.035544</td>\n",
       "      <td>0.0</td>\n",
       "      <td>0.0</td>\n",
       "    </tr>\n",
       "    <tr>\n",
       "      <th>995</th>\n",
       "      <td>2.044267</td>\n",
       "      <td>6.399785</td>\n",
       "      <td>1.0</td>\n",
       "      <td>1.0</td>\n",
       "    </tr>\n",
       "    <tr>\n",
       "      <th>997</th>\n",
       "      <td>8.362586</td>\n",
       "      <td>0.562258</td>\n",
       "      <td>0.0</td>\n",
       "      <td>0.0</td>\n",
       "    </tr>\n",
       "    <tr>\n",
       "      <th>998</th>\n",
       "      <td>4.666926</td>\n",
       "      <td>3.361989</td>\n",
       "      <td>0.0</td>\n",
       "      <td>0.0</td>\n",
       "    </tr>\n",
       "    <tr>\n",
       "      <th>999</th>\n",
       "      <td>1.368560</td>\n",
       "      <td>8.034130</td>\n",
       "      <td>1.0</td>\n",
       "      <td>1.0</td>\n",
       "    </tr>\n",
       "  </tbody>\n",
       "</table>\n",
       "<p>945 rows × 4 columns</p>\n",
       "</div>"
      ],
      "text/plain": [
       "            x         y  label  predicted\n",
       "0    6.404933  2.900076    0.0        0.0\n",
       "1    9.781966  2.361044    0.0        0.0\n",
       "2    9.983948  0.495283    0.0        0.0\n",
       "3    5.342412  8.758603    1.0        1.0\n",
       "4    6.490413  6.403839    1.0        1.0\n",
       "..        ...       ...    ...        ...\n",
       "994  6.356450  1.035544    0.0        0.0\n",
       "995  2.044267  6.399785    1.0        1.0\n",
       "997  8.362586  0.562258    0.0        0.0\n",
       "998  4.666926  3.361989    0.0        0.0\n",
       "999  1.368560  8.034130    1.0        1.0\n",
       "\n",
       "[945 rows x 4 columns]"
      ]
     },
     "execution_count": 163,
     "metadata": {
      "tags": []
     },
     "output_type": "execute_result"
    }
   ],
   "source": [
    "results[\"ok\"]  "
   ]
  }
 ],
 "metadata": {
  "colab": {
   "authorship_tag": "ABX9TyMIUI6YbXS/kFxlA1u/6525",
   "name": "Perceptron test.ipynb",
   "provenance": []
  },
  "kernelspec": {
   "display_name": "Python 3",
   "language": "python",
   "name": "python3"
  },
  "language_info": {
   "codemirror_mode": {
    "name": "ipython",
    "version": 3
   },
   "file_extension": ".py",
   "mimetype": "text/x-python",
   "name": "python",
   "nbconvert_exporter": "python",
   "pygments_lexer": "ipython3",
   "version": "3.7.7"
  }
 },
 "nbformat": 4,
 "nbformat_minor": 4
}
