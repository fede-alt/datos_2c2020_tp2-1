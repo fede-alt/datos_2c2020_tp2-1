{
 "cells": [
  {
   "cell_type": "code",
   "execution_count": 1,
   "metadata": {
    "executionInfo": {
     "elapsed": 3297,
     "status": "ok",
     "timestamp": 1612779193975,
     "user": {
      "displayName": "Tomas Fanciotti",
      "photoUrl": "https://lh3.googleusercontent.com/a-/AOh14GgFsYXKyb0ZZgISWHduA_TIwDeRapr5luqhSrvXH_Q=s64",
      "userId": "01644558546552400828"
     },
     "user_tz": 180
    },
    "id": "BjjVN7aj-lPz"
   },
   "outputs": [],
   "source": [
    "import xgboost as xgb\n",
    "from sklearn.ensemble import RandomForestClassifier\n",
    "from sklearn.metrics import mean_squared_error\n",
    "import pandas as pd\n",
    "import numpy as np\n",
    "%matplotlib inline\n",
    "import matplotlib.pyplot as plt\n",
    "import sklearn\n",
    "from sklearn import datasets\n",
    "from sklearn import tree"
   ]
  },
  {
   "cell_type": "code",
   "execution_count": null,
   "metadata": {
    "colab": {
     "base_uri": "https://localhost:8080/",
     "height": 419
    },
    "executionInfo": {
     "elapsed": 780,
     "status": "ok",
     "timestamp": 1612758360653,
     "user": {
      "displayName": "Tomas Fanciotti",
      "photoUrl": "https://lh3.googleusercontent.com/a-/AOh14GgFsYXKyb0ZZgISWHduA_TIwDeRapr5luqhSrvXH_Q=s64",
      "userId": "01644558546552400828"
     },
     "user_tz": 180
    },
    "id": "9RypkCjwAEn_",
    "outputId": "7e8c93b7-adb1-43ea-84ea-c9cbf1a19e3c"
   },
   "outputs": [
    {
     "data": {
      "text/html": [
       "<div>\n",
       "<style scoped>\n",
       "    .dataframe tbody tr th:only-of-type {\n",
       "        vertical-align: middle;\n",
       "    }\n",
       "\n",
       "    .dataframe tbody tr th {\n",
       "        vertical-align: top;\n",
       "    }\n",
       "\n",
       "    .dataframe thead th {\n",
       "        text-align: right;\n",
       "    }\n",
       "</style>\n",
       "<table border=\"1\" class=\"dataframe\">\n",
       "  <thead>\n",
       "    <tr style=\"text-align: right;\">\n",
       "      <th></th>\n",
       "      <th>sepal length (cm)</th>\n",
       "      <th>sepal width (cm)</th>\n",
       "      <th>petal length (cm)</th>\n",
       "      <th>petal width (cm)</th>\n",
       "      <th>type</th>\n",
       "    </tr>\n",
       "  </thead>\n",
       "  <tbody>\n",
       "    <tr>\n",
       "      <th>0</th>\n",
       "      <td>5.1</td>\n",
       "      <td>3.5</td>\n",
       "      <td>1.4</td>\n",
       "      <td>0.2</td>\n",
       "      <td>0</td>\n",
       "    </tr>\n",
       "    <tr>\n",
       "      <th>1</th>\n",
       "      <td>4.9</td>\n",
       "      <td>3.0</td>\n",
       "      <td>1.4</td>\n",
       "      <td>0.2</td>\n",
       "      <td>0</td>\n",
       "    </tr>\n",
       "    <tr>\n",
       "      <th>2</th>\n",
       "      <td>4.7</td>\n",
       "      <td>3.2</td>\n",
       "      <td>1.3</td>\n",
       "      <td>0.2</td>\n",
       "      <td>0</td>\n",
       "    </tr>\n",
       "    <tr>\n",
       "      <th>3</th>\n",
       "      <td>4.6</td>\n",
       "      <td>3.1</td>\n",
       "      <td>1.5</td>\n",
       "      <td>0.2</td>\n",
       "      <td>0</td>\n",
       "    </tr>\n",
       "    <tr>\n",
       "      <th>4</th>\n",
       "      <td>5.0</td>\n",
       "      <td>3.6</td>\n",
       "      <td>1.4</td>\n",
       "      <td>0.2</td>\n",
       "      <td>0</td>\n",
       "    </tr>\n",
       "    <tr>\n",
       "      <th>...</th>\n",
       "      <td>...</td>\n",
       "      <td>...</td>\n",
       "      <td>...</td>\n",
       "      <td>...</td>\n",
       "      <td>...</td>\n",
       "    </tr>\n",
       "    <tr>\n",
       "      <th>145</th>\n",
       "      <td>6.7</td>\n",
       "      <td>3.0</td>\n",
       "      <td>5.2</td>\n",
       "      <td>2.3</td>\n",
       "      <td>2</td>\n",
       "    </tr>\n",
       "    <tr>\n",
       "      <th>146</th>\n",
       "      <td>6.3</td>\n",
       "      <td>2.5</td>\n",
       "      <td>5.0</td>\n",
       "      <td>1.9</td>\n",
       "      <td>2</td>\n",
       "    </tr>\n",
       "    <tr>\n",
       "      <th>147</th>\n",
       "      <td>6.5</td>\n",
       "      <td>3.0</td>\n",
       "      <td>5.2</td>\n",
       "      <td>2.0</td>\n",
       "      <td>2</td>\n",
       "    </tr>\n",
       "    <tr>\n",
       "      <th>148</th>\n",
       "      <td>6.2</td>\n",
       "      <td>3.4</td>\n",
       "      <td>5.4</td>\n",
       "      <td>2.3</td>\n",
       "      <td>2</td>\n",
       "    </tr>\n",
       "    <tr>\n",
       "      <th>149</th>\n",
       "      <td>5.9</td>\n",
       "      <td>3.0</td>\n",
       "      <td>5.1</td>\n",
       "      <td>1.8</td>\n",
       "      <td>2</td>\n",
       "    </tr>\n",
       "  </tbody>\n",
       "</table>\n",
       "<p>150 rows × 5 columns</p>\n",
       "</div>"
      ],
      "text/plain": [
       "     sepal length (cm)  sepal width (cm)  ...  petal width (cm)  type\n",
       "0                  5.1               3.5  ...               0.2     0\n",
       "1                  4.9               3.0  ...               0.2     0\n",
       "2                  4.7               3.2  ...               0.2     0\n",
       "3                  4.6               3.1  ...               0.2     0\n",
       "4                  5.0               3.6  ...               0.2     0\n",
       "..                 ...               ...  ...               ...   ...\n",
       "145                6.7               3.0  ...               2.3     2\n",
       "146                6.3               2.5  ...               1.9     2\n",
       "147                6.5               3.0  ...               2.0     2\n",
       "148                6.2               3.4  ...               2.3     2\n",
       "149                5.9               3.0  ...               1.8     2\n",
       "\n",
       "[150 rows x 5 columns]"
      ]
     },
     "execution_count": 2,
     "metadata": {
      "tags": []
     },
     "output_type": "execute_result"
    }
   ],
   "source": [
    "dataset = datasets.load_iris()\n",
    "df = pd.DataFrame(dataset.data,columns=dataset.feature_names)\n",
    "df[\"type\"] = dataset.target\n",
    "df"
   ]
  },
  {
   "cell_type": "code",
   "execution_count": null,
   "metadata": {
    "colab": {
     "base_uri": "https://localhost:8080/"
    },
    "executionInfo": {
     "elapsed": 629,
     "status": "ok",
     "timestamp": 1612739847577,
     "user": {
      "displayName": "Tomas Fanciotti",
      "photoUrl": "https://lh3.googleusercontent.com/a-/AOh14GgFsYXKyb0ZZgISWHduA_TIwDeRapr5luqhSrvXH_Q=s64",
      "userId": "01644558546552400828"
     },
     "user_tz": 180
    },
    "id": "2q5GlfRRsusP",
    "outputId": "38a248d9-05cd-43ef-c279-4258142f6453"
   },
   "outputs": [
    {
     "name": "stdout",
     "output_type": "stream",
     "text": [
      "<class 'pandas.core.frame.DataFrame'>\n",
      "RangeIndex: 150 entries, 0 to 149\n",
      "Data columns (total 5 columns):\n",
      " #   Column             Non-Null Count  Dtype  \n",
      "---  ------             --------------  -----  \n",
      " 0   sepal length (cm)  150 non-null    float64\n",
      " 1   sepal width (cm)   150 non-null    float64\n",
      " 2   petal length (cm)  150 non-null    float64\n",
      " 3   petal width (cm)   150 non-null    float64\n",
      " 4   type               150 non-null    int64  \n",
      "dtypes: float64(4), int64(1)\n",
      "memory usage: 6.0 KB\n"
     ]
    }
   ],
   "source": [
    "df.info()"
   ]
  },
  {
   "cell_type": "code",
   "execution_count": null,
   "metadata": {
    "colab": {
     "base_uri": "https://localhost:8080/",
     "height": 297
    },
    "executionInfo": {
     "elapsed": 912,
     "status": "ok",
     "timestamp": 1612739849838,
     "user": {
      "displayName": "Tomas Fanciotti",
      "photoUrl": "https://lh3.googleusercontent.com/a-/AOh14GgFsYXKyb0ZZgISWHduA_TIwDeRapr5luqhSrvXH_Q=s64",
      "userId": "01644558546552400828"
     },
     "user_tz": 180
    },
    "id": "wwqJoGTcs868",
    "outputId": "cd94212f-70ba-4f2e-815b-9cf5a1c4af51"
   },
   "outputs": [
    {
     "data": {
      "text/html": [
       "<div>\n",
       "<style scoped>\n",
       "    .dataframe tbody tr th:only-of-type {\n",
       "        vertical-align: middle;\n",
       "    }\n",
       "\n",
       "    .dataframe tbody tr th {\n",
       "        vertical-align: top;\n",
       "    }\n",
       "\n",
       "    .dataframe thead th {\n",
       "        text-align: right;\n",
       "    }\n",
       "</style>\n",
       "<table border=\"1\" class=\"dataframe\">\n",
       "  <thead>\n",
       "    <tr style=\"text-align: right;\">\n",
       "      <th></th>\n",
       "      <th>sepal length (cm)</th>\n",
       "      <th>sepal width (cm)</th>\n",
       "      <th>petal length (cm)</th>\n",
       "      <th>petal width (cm)</th>\n",
       "      <th>type</th>\n",
       "    </tr>\n",
       "  </thead>\n",
       "  <tbody>\n",
       "    <tr>\n",
       "      <th>count</th>\n",
       "      <td>150.000000</td>\n",
       "      <td>150.000000</td>\n",
       "      <td>150.000000</td>\n",
       "      <td>150.000000</td>\n",
       "      <td>150.000000</td>\n",
       "    </tr>\n",
       "    <tr>\n",
       "      <th>mean</th>\n",
       "      <td>5.843333</td>\n",
       "      <td>3.057333</td>\n",
       "      <td>3.758000</td>\n",
       "      <td>1.199333</td>\n",
       "      <td>1.000000</td>\n",
       "    </tr>\n",
       "    <tr>\n",
       "      <th>std</th>\n",
       "      <td>0.828066</td>\n",
       "      <td>0.435866</td>\n",
       "      <td>1.765298</td>\n",
       "      <td>0.762238</td>\n",
       "      <td>0.819232</td>\n",
       "    </tr>\n",
       "    <tr>\n",
       "      <th>min</th>\n",
       "      <td>4.300000</td>\n",
       "      <td>2.000000</td>\n",
       "      <td>1.000000</td>\n",
       "      <td>0.100000</td>\n",
       "      <td>0.000000</td>\n",
       "    </tr>\n",
       "    <tr>\n",
       "      <th>25%</th>\n",
       "      <td>5.100000</td>\n",
       "      <td>2.800000</td>\n",
       "      <td>1.600000</td>\n",
       "      <td>0.300000</td>\n",
       "      <td>0.000000</td>\n",
       "    </tr>\n",
       "    <tr>\n",
       "      <th>50%</th>\n",
       "      <td>5.800000</td>\n",
       "      <td>3.000000</td>\n",
       "      <td>4.350000</td>\n",
       "      <td>1.300000</td>\n",
       "      <td>1.000000</td>\n",
       "    </tr>\n",
       "    <tr>\n",
       "      <th>75%</th>\n",
       "      <td>6.400000</td>\n",
       "      <td>3.300000</td>\n",
       "      <td>5.100000</td>\n",
       "      <td>1.800000</td>\n",
       "      <td>2.000000</td>\n",
       "    </tr>\n",
       "    <tr>\n",
       "      <th>max</th>\n",
       "      <td>7.900000</td>\n",
       "      <td>4.400000</td>\n",
       "      <td>6.900000</td>\n",
       "      <td>2.500000</td>\n",
       "      <td>2.000000</td>\n",
       "    </tr>\n",
       "  </tbody>\n",
       "</table>\n",
       "</div>"
      ],
      "text/plain": [
       "       sepal length (cm)  sepal width (cm)  ...  petal width (cm)        type\n",
       "count         150.000000        150.000000  ...        150.000000  150.000000\n",
       "mean            5.843333          3.057333  ...          1.199333    1.000000\n",
       "std             0.828066          0.435866  ...          0.762238    0.819232\n",
       "min             4.300000          2.000000  ...          0.100000    0.000000\n",
       "25%             5.100000          2.800000  ...          0.300000    0.000000\n",
       "50%             5.800000          3.000000  ...          1.300000    1.000000\n",
       "75%             6.400000          3.300000  ...          1.800000    2.000000\n",
       "max             7.900000          4.400000  ...          2.500000    2.000000\n",
       "\n",
       "[8 rows x 5 columns]"
      ]
     },
     "execution_count": 16,
     "metadata": {
      "tags": []
     },
     "output_type": "execute_result"
    }
   ],
   "source": [
    "df.describe()"
   ]
  },
  {
   "cell_type": "code",
   "execution_count": null,
   "metadata": {
    "colab": {
     "base_uri": "https://localhost:8080/"
    },
    "executionInfo": {
     "elapsed": 1115,
     "status": "ok",
     "timestamp": 1612739861514,
     "user": {
      "displayName": "Tomas Fanciotti",
      "photoUrl": "https://lh3.googleusercontent.com/a-/AOh14GgFsYXKyb0ZZgISWHduA_TIwDeRapr5luqhSrvXH_Q=s64",
      "userId": "01644558546552400828"
     },
     "user_tz": 180
    },
    "id": "M8zB6mCxtEg7",
    "outputId": "31703ce3-4a58-428b-e090-90964bb896ab"
   },
   "outputs": [
    {
     "data": {
      "text/plain": [
       "2    50\n",
       "1    50\n",
       "0    50\n",
       "Name: type, dtype: int64"
      ]
     },
     "execution_count": 18,
     "metadata": {
      "tags": []
     },
     "output_type": "execute_result"
    }
   ],
   "source": [
    "df.type.value_counts()"
   ]
  },
  {
   "cell_type": "code",
   "execution_count": null,
   "metadata": {
    "colab": {
     "base_uri": "https://localhost:8080/"
    },
    "executionInfo": {
     "elapsed": 798,
     "status": "ok",
     "timestamp": 1612756852050,
     "user": {
      "displayName": "Tomas Fanciotti",
      "photoUrl": "https://lh3.googleusercontent.com/a-/AOh14GgFsYXKyb0ZZgISWHduA_TIwDeRapr5luqhSrvXH_Q=s64",
      "userId": "01644558546552400828"
     },
     "user_tz": 180
    },
    "id": "KXsVb5xJxb7f",
    "outputId": "dc3b85ee-6ae0-4ed0-f7ba-e038c1e46bbd"
   },
   "outputs": [
    {
     "name": "stdout",
     "output_type": "stream",
     "text": [
      "X_train shape: (121, 4) , y_train shape (121,).\n",
      "X_test shape: (120, 4) , y_test shape (120,).\n"
     ]
    }
   ],
   "source": [
    "# Split sets\n",
    "\n",
    "size = len(df)\n",
    "train_rate = 0.8\n",
    "features = [\"sepal length (cm)\",\"sepal width (cm)\",\\\n",
    "            \"petal length (cm)\",\"petal width (cm)\"]\n",
    "label = \"type\"\n",
    "\n",
    "X_train, y_train = df.loc[:size*train_rate,features],\\\n",
    "                   df.loc[:size*train_rate,label],\n",
    "\n",
    "X_test, y_test =  df.loc[size*(1-train_rate):,features],\\\n",
    "                  df.loc[size*(1-train_rate):,label],\n",
    "\n",
    "print(f\"X_train shape: {X_train.shape} , y_train shape {y_train.shape}.\")\n",
    "print(f\"X_test shape: {X_test.shape} , y_test shape {y_test.shape}.\")\n"
   ]
  },
  {
   "cell_type": "markdown",
   "metadata": {
    "id": "m8NsSQGr-rGC"
   },
   "source": [
    "# Random Forest\n"
   ]
  },
  {
   "cell_type": "markdown",
   "metadata": {
    "id": "IDV4Mx86thl7"
   },
   "source": [
    "### Hyperparámetros"
   ]
  },
  {
   "cell_type": "code",
   "execution_count": null,
   "metadata": {
    "id": "aSxBM8wZuE23"
   },
   "outputs": [],
   "source": []
  },
  {
   "cell_type": "code",
   "execution_count": null,
   "metadata": {
    "id": "H8XUuavQ-uZq"
   },
   "outputs": [],
   "source": []
  },
  {
   "cell_type": "markdown",
   "metadata": {
    "id": "h3IyWvpQvW-x"
   },
   "source": [
    "### Default Model"
   ]
  },
  {
   "cell_type": "code",
   "execution_count": null,
   "metadata": {
    "colab": {
     "base_uri": "https://localhost:8080/"
    },
    "executionInfo": {
     "elapsed": 762,
     "status": "ok",
     "timestamp": 1612756967846,
     "user": {
      "displayName": "Tomas Fanciotti",
      "photoUrl": "https://lh3.googleusercontent.com/a-/AOh14GgFsYXKyb0ZZgISWHduA_TIwDeRapr5luqhSrvXH_Q=s64",
      "userId": "01644558546552400828"
     },
     "user_tz": 180
    },
    "id": "xZ8x3U6tvdTH",
    "outputId": "3fb12538-0d92-41e1-e278-4480459f4384"
   },
   "outputs": [
    {
     "name": "stdout",
     "output_type": "stream",
     "text": [
      "RMSE: 0.241523\n"
     ]
    }
   ],
   "source": [
    "rf_model = RandomForestClassifier(random_state=1)\n",
    "rf_model.fit(X_train,y_train)\n",
    "preds = rf_model.predict(X_test)\n",
    "rmse = np.sqrt(mean_squared_error(y_test, preds))\n",
    "print(\"RMSE: %f\" % (rmse))"
   ]
  },
  {
   "cell_type": "markdown",
   "metadata": {
    "id": "W2D3HaCH1-At"
   },
   "source": [
    "### Feature importance"
   ]
  },
  {
   "cell_type": "code",
   "execution_count": null,
   "metadata": {
    "colab": {
     "base_uri": "https://localhost:8080/"
    },
    "executionInfo": {
     "elapsed": 1926,
     "status": "ok",
     "timestamp": 1612743271317,
     "user": {
      "displayName": "Tomas Fanciotti",
      "photoUrl": "https://lh3.googleusercontent.com/a-/AOh14GgFsYXKyb0ZZgISWHduA_TIwDeRapr5luqhSrvXH_Q=s64",
      "userId": "01644558546552400828"
     },
     "user_tz": 180
    },
    "id": "yaZM2oEI2A8S",
    "outputId": "b014dd3f-3299-4281-93db-bf310e6d7c4d"
   },
   "outputs": [
    {
     "data": {
      "text/plain": [
       "array([0.00563619, 0.00424192, 0.48402562, 0.50609627])"
      ]
     },
     "execution_count": 72,
     "metadata": {
      "tags": []
     },
     "output_type": "execute_result"
    }
   ],
   "source": [
    "# Gini importance\n",
    "rf_model.feature_importances_"
   ]
  },
  {
   "cell_type": "code",
   "execution_count": null,
   "metadata": {
    "colab": {
     "base_uri": "https://localhost:8080/",
     "height": 325
    },
    "executionInfo": {
     "elapsed": 2022,
     "status": "ok",
     "timestamp": 1612743273160,
     "user": {
      "displayName": "Tomas Fanciotti",
      "photoUrl": "https://lh3.googleusercontent.com/a-/AOh14GgFsYXKyb0ZZgISWHduA_TIwDeRapr5luqhSrvXH_Q=s64",
      "userId": "01644558546552400828"
     },
     "user_tz": 180
    },
    "id": "1fBN-MjWvbeZ",
    "outputId": "018f69c7-d7e2-4083-b13b-73a41db08f73"
   },
   "outputs": [
    {
     "data": {
      "image/png": "[encoded data removed]",
      "text/plain": [
       "<Figure size 432x288 with 1 Axes>"
      ]
     },
     "metadata": {
      "needs_background": "light",
      "tags": []
     },
     "output_type": "display_data"
    }
   ],
   "source": [
    "plt.bar(X_train.columns, rf_model.feature_importances_)\n",
    "plt.xlabel('Features')\n",
    "plt.xticks(rotation=20)\n",
    "plt.ylabel('Importancia')\n",
    "plt.title('Importancia Features con RF')\n",
    "plt.show()\n"
   ]
  },
  {
   "cell_type": "code",
   "execution_count": null,
   "metadata": {
    "colab": {
     "base_uri": "https://localhost:8080/",
     "height": 701
    },
    "executionInfo": {
     "elapsed": 1824,
     "status": "ok",
     "timestamp": 1612743277101,
     "user": {
      "displayName": "Tomas Fanciotti",
      "photoUrl": "https://lh3.googleusercontent.com/a-/AOh14GgFsYXKyb0ZZgISWHduA_TIwDeRapr5luqhSrvXH_Q=s64",
      "userId": "01644558546552400828"
     },
     "user_tz": 180
    },
    "id": "sXGXX_Ey572M",
    "outputId": "c2b89329-163b-4497-b2d4-da9c72d0b48a"
   },
   "outputs": [
    {
     "data": {
      "image/png": "[encoded data removed]",
      "text/plain": [
       "<Figure size 800x800 with 1 Axes>"
      ]
     },
     "metadata": {
      "needs_background": "light",
      "tags": []
     },
     "output_type": "display_data"
    }
   ],
   "source": [
    "fig, axes = plt.subplots(nrows = 1,ncols = 1,figsize = (2,2), dpi=400)\n",
    "tree.plot_tree(rf_model.estimators_[0],\n",
    "               feature_names = X_train.columns,\n",
    "               filled = True);\n"
   ]
  },
  {
   "cell_type": "code",
   "execution_count": null,
   "metadata": {
    "id": "DprfR8YC7qHP"
   },
   "outputs": [],
   "source": [
    "##"
   ]
  },
  {
   "cell_type": "markdown",
   "metadata": {
    "id": "1iKKKZ3U_ph8"
   },
   "source": [
    "### Predeterminated model"
   ]
  },
  {
   "cell_type": "code",
   "execution_count": null,
   "metadata": {
    "id": "Ji1Uh0QC8Cw9"
   },
   "outputs": [],
   "source": [
    "num_of_trees = 20\n",
    "max_depth = 5\n",
    "max_features = 2\n",
    "min_to_split = 15\n",
    "min_to_leaf = 75"
   ]
  },
  {
   "cell_type": "code",
   "execution_count": null,
   "metadata": {
    "colab": {
     "base_uri": "https://localhost:8080/"
    },
    "executionInfo": {
     "elapsed": 798,
     "status": "ok",
     "timestamp": 1612757853451,
     "user": {
      "displayName": "Tomas Fanciotti",
      "photoUrl": "https://lh3.googleusercontent.com/a-/AOh14GgFsYXKyb0ZZgISWHduA_TIwDeRapr5luqhSrvXH_Q=s64",
      "userId": "01644558546552400828"
     },
     "user_tz": 180
    },
    "id": "E1UHOAWA_i_d",
    "outputId": "719d4f51-cbda-452f-f368-595ede1e74b9"
   },
   "outputs": [
    {
     "name": "stdout",
     "output_type": "stream",
     "text": [
      "Error:  0.9666666666666667\n"
     ]
    }
   ],
   "source": [
    "num_of_trees = 5\n",
    "max_depth = 3\n",
    "max_features = 3\n",
    "min_to_split = 15\n",
    "min_to_leaf = 1\n",
    "\n",
    "\n",
    "rf_my_model = RandomForestClassifier(n_estimators=num_of_trees,\\\n",
    "                                     max_depth = max_depth,\\\n",
    "                                     max_features = max_features,\\\n",
    "                                     min_samples_split = min_to_split,\\\n",
    "                                     min_samples_leaf = min_to_leaf,\\\n",
    "                                     random_state=1)\n",
    "rf_my_model.fit(X_train,y_train)\n",
    "preds = rf_my_model.predict(X_test)\n",
    "rms = rf_my_model.score(X_test,y_test)\n",
    "print(\"Error: \",rms)"
   ]
  },
  {
   "cell_type": "code",
   "execution_count": null,
   "metadata": {
    "colab": {
     "base_uri": "https://localhost:8080/"
    },
    "executionInfo": {
     "elapsed": 771,
     "status": "ok",
     "timestamp": 1612757256439,
     "user": {
      "displayName": "Tomas Fanciotti",
      "photoUrl": "https://lh3.googleusercontent.com/a-/AOh14GgFsYXKyb0ZZgISWHduA_TIwDeRapr5luqhSrvXH_Q=s64",
      "userId": "01644558546552400828"
     },
     "user_tz": 180
    },
    "id": "e3909jgc_4Fh",
    "outputId": "01d623df-c8fb-48b4-c1a5-d74380845b80"
   },
   "outputs": [
    {
     "data": {
      "text/plain": [
       "0.9416666666666667"
      ]
     },
     "execution_count": 276,
     "metadata": {
      "tags": []
     },
     "output_type": "execute_result"
    }
   ],
   "source": [
    "(preds == y_test).mean()"
   ]
  },
  {
   "cell_type": "markdown",
   "metadata": {
    "id": "x63hhIGgeLNq"
   },
   "source": [
    "##Hyperparameters tunning "
   ]
  },
  {
   "cell_type": "code",
   "execution_count": null,
   "metadata": {
    "id": "WLOV2DgdeTNo"
   },
   "outputs": [],
   "source": [
    "from random import randint\n",
    "\n",
    "class RandomForestRandomSearch():\n",
    "\n",
    "  def __init__(cls,X,y):\n",
    "    cls.model = None\n",
    "    cls.X,cls.y = X,y\n",
    "    cls.results = []\n",
    "\n",
    "    # Hyperparams\n",
    "    cls.n_estimators = []\n",
    "    cls.max_depth = []\n",
    "    cls.max_features = []\n",
    "    cls.min_samples_split = []\n",
    "    cls.min_samples_leaf = []\n",
    "    cls.seed = []\n",
    "\n",
    "    cls.hyp_list = { \"n_estimators\" : cls.n_estimators,\n",
    "                      \"max_depth\": cls.max_depth,\n",
    "                      \"max_features\": cls.max_features,\n",
    "                      \"min_samples_split\": cls.min_samples_split,\n",
    "                      \"min_samples_leaf\": cls.min_samples_leaf,\n",
    "                      \"random_state\": cls.seed\n",
    "    }\n",
    "\n",
    "  def set_data(cls, X, y):\n",
    "    cls.X,cls.y = X,y\n",
    "  \n",
    "  def set_n_estimators(cls, estimators):\n",
    "    cls.n_estimators.extend(estimators)\n",
    "\n",
    "  def set_max_depth(cls, depth):\n",
    "    cls.max_depth.extend(depth)\n",
    "\n",
    "  def set_max_features(cls, features):\n",
    "    cls.max_features.extend(features)\n",
    "\n",
    "  def set_min_samples_split(cls, samples):\n",
    "    cls.min_samples_split.extend(samples)\n",
    "\n",
    "  def set_min_samples_leaf(cls, samples):\n",
    "    cls.min_samples_leaf.extend(samples)\n",
    "\n",
    "  def set_seed(cls, seed):\n",
    "    cls.seed.extend(seed)\n",
    "\n",
    "  def run(cls,volumen=10000):\n",
    "\n",
    "    random_params = { }\n",
    "\n",
    "    separator = int(len(cls.X)*0.8)\n",
    "    X_train, y_train = cls.X.loc[:separator],\\\n",
    "                       cls.y.loc[:separator],\n",
    "\n",
    "    X_test, y_test =  cls.X.loc[separator:],\\\n",
    "                      cls.y.loc[separator:],\n",
    "\n",
    "    for i in range(volumen):\n",
    "\n",
    "      for name,list in cls.hyp_list.items():\n",
    "        rand_idx = randint(0,len(list)-1)\n",
    "        random_params[name] = list[rand_idx]\n",
    "      \n",
    "      cls.__build_model(random_params)\n",
    "      cls.__train_model(X_train,y_train)\n",
    "      score = cls.__test_model(X_test,y_test)\n",
    "\n",
    "      cls.__log(random_params,round(score,3))\n",
    "\n",
    "      if i% int(volumen/10) is 0: print(f\" {round(i*100/volumen)}% completo..\")\n",
    "\n",
    "\n",
    "  def __build_model(cls,hp):\n",
    "\n",
    "    del cls.model \n",
    "    cls.model = RandomForestClassifier(n_estimators=hp[\"n_estimators\"],\\\n",
    "                                    max_depth = hp[\"max_depth\"],\\\n",
    "                                    max_features = hp[\"max_features\"],\\\n",
    "                                    min_samples_split = hp[\"min_samples_split\"],\\\n",
    "                                    min_samples_leaf = hp[\"min_samples_leaf\"],\\\n",
    "                                    random_state=hp[\"random_state\"]\n",
    "                                )\n",
    "    \n",
    "\n",
    "  def __train_model(cls,X,y):\n",
    "    cls.model.fit(X,y)\n",
    "  \n",
    "\n",
    "  def __test_model(cls,X,y):\n",
    "    score = cls.model.score(X,y)\n",
    "    return score\n",
    "\n",
    "\n",
    "  def __log(cls,hp,score):\n",
    "\n",
    "    reg = []\n",
    "    for key in hp:\n",
    "      reg.append(hp[key])\n",
    "    reg.append(score)\n",
    "\n",
    "    cls.results.append(reg)\n",
    "\n",
    "\n",
    "  def get_results(cls):\n",
    "\n",
    "    columns = [ key.upper() for key in cls.hyp_list]\n",
    "    columns.append(\"SCORE\")\n",
    "    return cls.results,columns\n"
   ]
  },
  {
   "cell_type": "markdown",
   "metadata": {
    "id": "SXAEOPR9Ht1H"
   },
   "source": [
    "#### Primer tunning"
   ]
  },
  {
   "cell_type": "code",
   "execution_count": null,
   "metadata": {
    "id": "yRZoP-91jGNX"
   },
   "outputs": [],
   "source": [
    "features = [\"sepal length (cm)\",\"sepal width (cm)\",\\\n",
    "            \"petal length (cm)\",\"petal width (cm)\"]\n",
    "label = \"type\"\n",
    "\n",
    "tunner = RandomForestRandomSearch(df.loc[:,features],\\\n",
    "                                  df.loc[:,label])"
   ]
  },
  {
   "cell_type": "code",
   "execution_count": null,
   "metadata": {
    "id": "_dINXDVSp2JF"
   },
   "outputs": [],
   "source": [
    "tunner.set_n_estimators([2,4,6,8,10,14,15])\n",
    "tunner.set_max_depth([2,4,5,10,15,20])\n",
    "tunner.set_max_features([2,4])\n",
    "tunner.set_min_samples_split([8,15,25,50,60])\n",
    "tunner.set_min_samples_leaf([4,8,15,20,25])\n",
    "tunner.set_seed([1])"
   ]
  },
  {
   "cell_type": "code",
   "execution_count": null,
   "metadata": {
    "colab": {
     "base_uri": "https://localhost:8080/"
    },
    "executionInfo": {
     "elapsed": 140227,
     "status": "ok",
     "timestamp": 1612761226152,
     "user": {
      "displayName": "Tomas Fanciotti",
      "photoUrl": "https://lh3.googleusercontent.com/a-/AOh14GgFsYXKyb0ZZgISWHduA_TIwDeRapr5luqhSrvXH_Q=s64",
      "userId": "01644558546552400828"
     },
     "user_tz": 180
    },
    "id": "KCBhJhsjqh9C",
    "outputId": "0d8e7d9a-ce9a-42d3-c8f2-ea159ae53816"
   },
   "outputs": [
    {
     "name": "stdout",
     "output_type": "stream",
     "text": [
      " 0% completo..\n",
      " 10% completo..\n",
      " 20% completo..\n",
      " 30% completo..\n",
      " 40% completo..\n",
      " 50% completo..\n",
      " 60% completo..\n",
      " 70% completo..\n",
      " 80% completo..\n",
      " 90% completo..\n"
     ]
    }
   ],
   "source": [
    "tunner.run(30000)"
   ]
  },
  {
   "cell_type": "code",
   "execution_count": null,
   "metadata": {
    "colab": {
     "base_uri": "https://localhost:8080/",
     "height": 204
    },
    "executionInfo": {
     "elapsed": 1543,
     "status": "ok",
     "timestamp": 1612761333254,
     "user": {
      "displayName": "Tomas Fanciotti",
      "photoUrl": "https://lh3.googleusercontent.com/a-/AOh14GgFsYXKyb0ZZgISWHduA_TIwDeRapr5luqhSrvXH_Q=s64",
      "userId": "01644558546552400828"
     },
     "user_tz": 180
    },
    "id": "zUJWRmsJsf7V",
    "outputId": "4973160a-24d8-486c-e6e8-102086e78924"
   },
   "outputs": [
    {
     "data": {
      "text/html": [
       "<div>\n",
       "<style scoped>\n",
       "    .dataframe tbody tr th:only-of-type {\n",
       "        vertical-align: middle;\n",
       "    }\n",
       "\n",
       "    .dataframe tbody tr th {\n",
       "        vertical-align: top;\n",
       "    }\n",
       "\n",
       "    .dataframe thead th {\n",
       "        text-align: right;\n",
       "    }\n",
       "</style>\n",
       "<table border=\"1\" class=\"dataframe\">\n",
       "  <thead>\n",
       "    <tr style=\"text-align: right;\">\n",
       "      <th></th>\n",
       "      <th>N_ESTIMATORS</th>\n",
       "      <th>MAX_DEPTH</th>\n",
       "      <th>MAX_FEATURES</th>\n",
       "      <th>MIN_SAMPLES_SPLIT</th>\n",
       "      <th>MIN_SAMPLES_LEAF</th>\n",
       "      <th>RANDOM_STATE</th>\n",
       "      <th>SCORE</th>\n",
       "    </tr>\n",
       "  </thead>\n",
       "  <tbody>\n",
       "    <tr>\n",
       "      <th>0</th>\n",
       "      <td>15</td>\n",
       "      <td>10</td>\n",
       "      <td>4</td>\n",
       "      <td>8</td>\n",
       "      <td>25</td>\n",
       "      <td>1</td>\n",
       "      <td>0.0</td>\n",
       "    </tr>\n",
       "    <tr>\n",
       "      <th>1</th>\n",
       "      <td>4</td>\n",
       "      <td>5</td>\n",
       "      <td>2</td>\n",
       "      <td>50</td>\n",
       "      <td>4</td>\n",
       "      <td>1</td>\n",
       "      <td>0.0</td>\n",
       "    </tr>\n",
       "    <tr>\n",
       "      <th>2</th>\n",
       "      <td>10</td>\n",
       "      <td>15</td>\n",
       "      <td>2</td>\n",
       "      <td>25</td>\n",
       "      <td>4</td>\n",
       "      <td>1</td>\n",
       "      <td>1.0</td>\n",
       "    </tr>\n",
       "    <tr>\n",
       "      <th>3</th>\n",
       "      <td>2</td>\n",
       "      <td>15</td>\n",
       "      <td>4</td>\n",
       "      <td>25</td>\n",
       "      <td>25</td>\n",
       "      <td>1</td>\n",
       "      <td>0.0</td>\n",
       "    </tr>\n",
       "    <tr>\n",
       "      <th>4</th>\n",
       "      <td>2</td>\n",
       "      <td>20</td>\n",
       "      <td>4</td>\n",
       "      <td>50</td>\n",
       "      <td>25</td>\n",
       "      <td>1</td>\n",
       "      <td>0.0</td>\n",
       "    </tr>\n",
       "  </tbody>\n",
       "</table>\n",
       "</div>"
      ],
      "text/plain": [
       "   N_ESTIMATORS  MAX_DEPTH  MAX_FEATURES  ...  MIN_SAMPLES_LEAF  RANDOM_STATE  SCORE\n",
       "0            15         10             4  ...                25             1    0.0\n",
       "1             4          5             2  ...                 4             1    0.0\n",
       "2            10         15             2  ...                 4             1    1.0\n",
       "3             2         15             4  ...                25             1    0.0\n",
       "4             2         20             4  ...                25             1    0.0\n",
       "\n",
       "[5 rows x 7 columns]"
      ]
     },
     "execution_count": 80,
     "metadata": {
      "tags": []
     },
     "output_type": "execute_result"
    }
   ],
   "source": [
    "data,columns = tunner.get_results()\n",
    "df_results = pd.DataFrame(data,columns=columns)\n",
    "df_results.head(5)"
   ]
  },
  {
   "cell_type": "code",
   "execution_count": null,
   "metadata": {
    "colab": {
     "base_uri": "https://localhost:8080/"
    },
    "executionInfo": {
     "elapsed": 761,
     "status": "ok",
     "timestamp": 1612761354971,
     "user": {
      "displayName": "Tomas Fanciotti",
      "photoUrl": "https://lh3.googleusercontent.com/a-/AOh14GgFsYXKyb0ZZgISWHduA_TIwDeRapr5luqhSrvXH_Q=s64",
      "userId": "01644558546552400828"
     },
     "user_tz": 180
    },
    "id": "OxLzF5mBEPdo",
    "outputId": "5af91136-75ad-440a-9b53-9a05a38cba5c"
   },
   "outputs": [
    {
     "data": {
      "text/plain": [
       "0.000    4788\n",
       "0.900    1580\n",
       "0.833    1090\n",
       "0.967     677\n",
       "0.733     533\n",
       "0.767     488\n",
       "0.800     377\n",
       "1.000     273\n",
       "0.933     113\n",
       "0.867      81\n",
       "Name: SCORE, dtype: int64"
      ]
     },
     "execution_count": 81,
     "metadata": {
      "tags": []
     },
     "output_type": "execute_result"
    }
   ],
   "source": [
    "df_results.SCORE.value_counts()"
   ]
  },
  {
   "cell_type": "code",
   "execution_count": null,
   "metadata": {
    "colab": {
     "base_uri": "https://localhost:8080/",
     "height": 204
    },
    "executionInfo": {
     "elapsed": 790,
     "status": "ok",
     "timestamp": 1612761242983,
     "user": {
      "displayName": "Tomas Fanciotti",
      "photoUrl": "https://lh3.googleusercontent.com/a-/AOh14GgFsYXKyb0ZZgISWHduA_TIwDeRapr5luqhSrvXH_Q=s64",
      "userId": "01644558546552400828"
     },
     "user_tz": 180
    },
    "id": "bmmQy98wxRI7",
    "outputId": "d7c0c3eb-d75f-4def-9cd7-51a545454ce0"
   },
   "outputs": [
    {
     "data": {
      "text/html": [
       "<div>\n",
       "<style scoped>\n",
       "    .dataframe tbody tr th:only-of-type {\n",
       "        vertical-align: middle;\n",
       "    }\n",
       "\n",
       "    .dataframe tbody tr th {\n",
       "        vertical-align: top;\n",
       "    }\n",
       "\n",
       "    .dataframe thead th {\n",
       "        text-align: right;\n",
       "    }\n",
       "</style>\n",
       "<table border=\"1\" class=\"dataframe\">\n",
       "  <thead>\n",
       "    <tr style=\"text-align: right;\">\n",
       "      <th></th>\n",
       "      <th>N_ESTIMATORS</th>\n",
       "      <th>MAX_DEPTH</th>\n",
       "      <th>MAX_FEATURES</th>\n",
       "      <th>MIN_SAMPLES_SPLIT</th>\n",
       "      <th>MIN_SAMPLES_LEAF</th>\n",
       "      <th>RANDOM_STATE</th>\n",
       "      <th>SCORE</th>\n",
       "    </tr>\n",
       "  </thead>\n",
       "  <tbody>\n",
       "    <tr>\n",
       "      <th>2</th>\n",
       "      <td>10</td>\n",
       "      <td>15</td>\n",
       "      <td>2</td>\n",
       "      <td>25</td>\n",
       "      <td>4</td>\n",
       "      <td>1</td>\n",
       "      <td>1.0</td>\n",
       "    </tr>\n",
       "    <tr>\n",
       "      <th>40</th>\n",
       "      <td>6</td>\n",
       "      <td>2</td>\n",
       "      <td>4</td>\n",
       "      <td>25</td>\n",
       "      <td>4</td>\n",
       "      <td>1</td>\n",
       "      <td>1.0</td>\n",
       "    </tr>\n",
       "    <tr>\n",
       "      <th>95</th>\n",
       "      <td>6</td>\n",
       "      <td>10</td>\n",
       "      <td>2</td>\n",
       "      <td>25</td>\n",
       "      <td>4</td>\n",
       "      <td>1</td>\n",
       "      <td>1.0</td>\n",
       "    </tr>\n",
       "    <tr>\n",
       "      <th>128</th>\n",
       "      <td>10</td>\n",
       "      <td>4</td>\n",
       "      <td>4</td>\n",
       "      <td>25</td>\n",
       "      <td>15</td>\n",
       "      <td>1</td>\n",
       "      <td>1.0</td>\n",
       "    </tr>\n",
       "    <tr>\n",
       "      <th>134</th>\n",
       "      <td>10</td>\n",
       "      <td>5</td>\n",
       "      <td>2</td>\n",
       "      <td>25</td>\n",
       "      <td>4</td>\n",
       "      <td>1</td>\n",
       "      <td>1.0</td>\n",
       "    </tr>\n",
       "  </tbody>\n",
       "</table>\n",
       "</div>"
      ],
      "text/plain": [
       "     N_ESTIMATORS  MAX_DEPTH  ...  RANDOM_STATE  SCORE\n",
       "2              10         15  ...             1    1.0\n",
       "40              6          2  ...             1    1.0\n",
       "95              6         10  ...             1    1.0\n",
       "128            10          4  ...             1    1.0\n",
       "134            10          5  ...             1    1.0\n",
       "\n",
       "[5 rows x 7 columns]"
      ]
     },
     "execution_count": 79,
     "metadata": {
      "tags": []
     },
     "output_type": "execute_result"
    }
   ],
   "source": [
    "max_score = df_results[\"SCORE\"].max()\n",
    "optimized_data = df_results[df_results[\"SCORE\"] == max_score]\n",
    "optimized_data.head(5)"
   ]
  },
  {
   "cell_type": "code",
   "execution_count": null,
   "metadata": {
    "colab": {
     "base_uri": "https://localhost:8080/",
     "height": 1000
    },
    "executionInfo": {
     "elapsed": 991,
     "status": "ok",
     "timestamp": 1612761864626,
     "user": {
      "displayName": "Tomas Fanciotti",
      "photoUrl": "https://lh3.googleusercontent.com/a-/AOh14GgFsYXKyb0ZZgISWHduA_TIwDeRapr5luqhSrvXH_Q=s64",
      "userId": "01644558546552400828"
     },
     "user_tz": 180
    },
    "id": "UpqZcFru7pF_",
    "outputId": "897b2944-97b3-4a1d-f2c6-5534470f6963"
   },
   "outputs": [
    {
     "data": {
      "text/html": [
       "<div>\n",
       "<style scoped>\n",
       "    .dataframe tbody tr th:only-of-type {\n",
       "        vertical-align: middle;\n",
       "    }\n",
       "\n",
       "    .dataframe tbody tr th {\n",
       "        vertical-align: top;\n",
       "    }\n",
       "\n",
       "    .dataframe thead th {\n",
       "        text-align: right;\n",
       "    }\n",
       "</style>\n",
       "<table border=\"1\" class=\"dataframe\">\n",
       "  <thead>\n",
       "    <tr style=\"text-align: right;\">\n",
       "      <th></th>\n",
       "      <th>N_ESTIMATORS</th>\n",
       "      <th>MAX_DEPTH</th>\n",
       "      <th>MAX_FEATURES</th>\n",
       "      <th>MIN_SAMPLES_SPLIT</th>\n",
       "      <th>MIN_SAMPLES_LEAF</th>\n",
       "      <th>RANDOM_STATE</th>\n",
       "      <th>SCORE</th>\n",
       "      <th>COUNTS</th>\n",
       "    </tr>\n",
       "  </thead>\n",
       "  <tbody>\n",
       "    <tr>\n",
       "      <th>0</th>\n",
       "      <td>10</td>\n",
       "      <td>4</td>\n",
       "      <td>4</td>\n",
       "      <td>15</td>\n",
       "      <td>15</td>\n",
       "      <td>1</td>\n",
       "      <td>1.0</td>\n",
       "      <td>11</td>\n",
       "    </tr>\n",
       "    <tr>\n",
       "      <th>1</th>\n",
       "      <td>10</td>\n",
       "      <td>4</td>\n",
       "      <td>4</td>\n",
       "      <td>25</td>\n",
       "      <td>15</td>\n",
       "      <td>1</td>\n",
       "      <td>1.0</td>\n",
       "      <td>11</td>\n",
       "    </tr>\n",
       "    <tr>\n",
       "      <th>2</th>\n",
       "      <td>2</td>\n",
       "      <td>2</td>\n",
       "      <td>4</td>\n",
       "      <td>50</td>\n",
       "      <td>20</td>\n",
       "      <td>1</td>\n",
       "      <td>1.0</td>\n",
       "      <td>10</td>\n",
       "    </tr>\n",
       "    <tr>\n",
       "      <th>3</th>\n",
       "      <td>2</td>\n",
       "      <td>15</td>\n",
       "      <td>4</td>\n",
       "      <td>50</td>\n",
       "      <td>20</td>\n",
       "      <td>1</td>\n",
       "      <td>1.0</td>\n",
       "      <td>9</td>\n",
       "    </tr>\n",
       "    <tr>\n",
       "      <th>4</th>\n",
       "      <td>6</td>\n",
       "      <td>15</td>\n",
       "      <td>2</td>\n",
       "      <td>25</td>\n",
       "      <td>4</td>\n",
       "      <td>1</td>\n",
       "      <td>1.0</td>\n",
       "      <td>9</td>\n",
       "    </tr>\n",
       "    <tr>\n",
       "      <th>5</th>\n",
       "      <td>6</td>\n",
       "      <td>20</td>\n",
       "      <td>2</td>\n",
       "      <td>15</td>\n",
       "      <td>4</td>\n",
       "      <td>1</td>\n",
       "      <td>1.0</td>\n",
       "      <td>8</td>\n",
       "    </tr>\n",
       "    <tr>\n",
       "      <th>6</th>\n",
       "      <td>10</td>\n",
       "      <td>5</td>\n",
       "      <td>2</td>\n",
       "      <td>25</td>\n",
       "      <td>4</td>\n",
       "      <td>1</td>\n",
       "      <td>1.0</td>\n",
       "      <td>8</td>\n",
       "    </tr>\n",
       "    <tr>\n",
       "      <th>7</th>\n",
       "      <td>10</td>\n",
       "      <td>10</td>\n",
       "      <td>4</td>\n",
       "      <td>25</td>\n",
       "      <td>15</td>\n",
       "      <td>1</td>\n",
       "      <td>1.0</td>\n",
       "      <td>7</td>\n",
       "    </tr>\n",
       "    <tr>\n",
       "      <th>8</th>\n",
       "      <td>6</td>\n",
       "      <td>2</td>\n",
       "      <td>4</td>\n",
       "      <td>25</td>\n",
       "      <td>4</td>\n",
       "      <td>1</td>\n",
       "      <td>1.0</td>\n",
       "      <td>7</td>\n",
       "    </tr>\n",
       "    <tr>\n",
       "      <th>9</th>\n",
       "      <td>6</td>\n",
       "      <td>4</td>\n",
       "      <td>2</td>\n",
       "      <td>25</td>\n",
       "      <td>4</td>\n",
       "      <td>1</td>\n",
       "      <td>1.0</td>\n",
       "      <td>7</td>\n",
       "    </tr>\n",
       "    <tr>\n",
       "      <th>10</th>\n",
       "      <td>14</td>\n",
       "      <td>20</td>\n",
       "      <td>2</td>\n",
       "      <td>25</td>\n",
       "      <td>4</td>\n",
       "      <td>1</td>\n",
       "      <td>1.0</td>\n",
       "      <td>7</td>\n",
       "    </tr>\n",
       "    <tr>\n",
       "      <th>11</th>\n",
       "      <td>10</td>\n",
       "      <td>15</td>\n",
       "      <td>4</td>\n",
       "      <td>25</td>\n",
       "      <td>15</td>\n",
       "      <td>1</td>\n",
       "      <td>1.0</td>\n",
       "      <td>7</td>\n",
       "    </tr>\n",
       "    <tr>\n",
       "      <th>12</th>\n",
       "      <td>2</td>\n",
       "      <td>4</td>\n",
       "      <td>4</td>\n",
       "      <td>50</td>\n",
       "      <td>20</td>\n",
       "      <td>1</td>\n",
       "      <td>1.0</td>\n",
       "      <td>6</td>\n",
       "    </tr>\n",
       "    <tr>\n",
       "      <th>13</th>\n",
       "      <td>10</td>\n",
       "      <td>15</td>\n",
       "      <td>2</td>\n",
       "      <td>15</td>\n",
       "      <td>4</td>\n",
       "      <td>1</td>\n",
       "      <td>1.0</td>\n",
       "      <td>6</td>\n",
       "    </tr>\n",
       "    <tr>\n",
       "      <th>14</th>\n",
       "      <td>10</td>\n",
       "      <td>10</td>\n",
       "      <td>4</td>\n",
       "      <td>15</td>\n",
       "      <td>15</td>\n",
       "      <td>1</td>\n",
       "      <td>1.0</td>\n",
       "      <td>6</td>\n",
       "    </tr>\n",
       "    <tr>\n",
       "      <th>15</th>\n",
       "      <td>2</td>\n",
       "      <td>20</td>\n",
       "      <td>4</td>\n",
       "      <td>50</td>\n",
       "      <td>20</td>\n",
       "      <td>1</td>\n",
       "      <td>1.0</td>\n",
       "      <td>6</td>\n",
       "    </tr>\n",
       "    <tr>\n",
       "      <th>16</th>\n",
       "      <td>14</td>\n",
       "      <td>5</td>\n",
       "      <td>2</td>\n",
       "      <td>25</td>\n",
       "      <td>4</td>\n",
       "      <td>1</td>\n",
       "      <td>1.0</td>\n",
       "      <td>6</td>\n",
       "    </tr>\n",
       "    <tr>\n",
       "      <th>17</th>\n",
       "      <td>6</td>\n",
       "      <td>10</td>\n",
       "      <td>2</td>\n",
       "      <td>15</td>\n",
       "      <td>4</td>\n",
       "      <td>1</td>\n",
       "      <td>1.0</td>\n",
       "      <td>6</td>\n",
       "    </tr>\n",
       "    <tr>\n",
       "      <th>18</th>\n",
       "      <td>10</td>\n",
       "      <td>15</td>\n",
       "      <td>4</td>\n",
       "      <td>8</td>\n",
       "      <td>15</td>\n",
       "      <td>1</td>\n",
       "      <td>1.0</td>\n",
       "      <td>6</td>\n",
       "    </tr>\n",
       "    <tr>\n",
       "      <th>19</th>\n",
       "      <td>10</td>\n",
       "      <td>4</td>\n",
       "      <td>2</td>\n",
       "      <td>25</td>\n",
       "      <td>4</td>\n",
       "      <td>1</td>\n",
       "      <td>1.0</td>\n",
       "      <td>6</td>\n",
       "    </tr>\n",
       "    <tr>\n",
       "      <th>20</th>\n",
       "      <td>10</td>\n",
       "      <td>2</td>\n",
       "      <td>4</td>\n",
       "      <td>8</td>\n",
       "      <td>15</td>\n",
       "      <td>1</td>\n",
       "      <td>1.0</td>\n",
       "      <td>5</td>\n",
       "    </tr>\n",
       "    <tr>\n",
       "      <th>21</th>\n",
       "      <td>10</td>\n",
       "      <td>5</td>\n",
       "      <td>2</td>\n",
       "      <td>15</td>\n",
       "      <td>4</td>\n",
       "      <td>1</td>\n",
       "      <td>1.0</td>\n",
       "      <td>5</td>\n",
       "    </tr>\n",
       "    <tr>\n",
       "      <th>22</th>\n",
       "      <td>10</td>\n",
       "      <td>4</td>\n",
       "      <td>2</td>\n",
       "      <td>15</td>\n",
       "      <td>4</td>\n",
       "      <td>1</td>\n",
       "      <td>1.0</td>\n",
       "      <td>5</td>\n",
       "    </tr>\n",
       "    <tr>\n",
       "      <th>23</th>\n",
       "      <td>10</td>\n",
       "      <td>4</td>\n",
       "      <td>4</td>\n",
       "      <td>8</td>\n",
       "      <td>15</td>\n",
       "      <td>1</td>\n",
       "      <td>1.0</td>\n",
       "      <td>5</td>\n",
       "    </tr>\n",
       "    <tr>\n",
       "      <th>24</th>\n",
       "      <td>10</td>\n",
       "      <td>20</td>\n",
       "      <td>2</td>\n",
       "      <td>15</td>\n",
       "      <td>4</td>\n",
       "      <td>1</td>\n",
       "      <td>1.0</td>\n",
       "      <td>5</td>\n",
       "    </tr>\n",
       "    <tr>\n",
       "      <th>25</th>\n",
       "      <td>10</td>\n",
       "      <td>5</td>\n",
       "      <td>4</td>\n",
       "      <td>15</td>\n",
       "      <td>15</td>\n",
       "      <td>1</td>\n",
       "      <td>1.0</td>\n",
       "      <td>5</td>\n",
       "    </tr>\n",
       "    <tr>\n",
       "      <th>26</th>\n",
       "      <td>10</td>\n",
       "      <td>10</td>\n",
       "      <td>2</td>\n",
       "      <td>25</td>\n",
       "      <td>4</td>\n",
       "      <td>1</td>\n",
       "      <td>1.0</td>\n",
       "      <td>5</td>\n",
       "    </tr>\n",
       "    <tr>\n",
       "      <th>27</th>\n",
       "      <td>10</td>\n",
       "      <td>10</td>\n",
       "      <td>4</td>\n",
       "      <td>8</td>\n",
       "      <td>15</td>\n",
       "      <td>1</td>\n",
       "      <td>1.0</td>\n",
       "      <td>5</td>\n",
       "    </tr>\n",
       "    <tr>\n",
       "      <th>28</th>\n",
       "      <td>10</td>\n",
       "      <td>5</td>\n",
       "      <td>4</td>\n",
       "      <td>25</td>\n",
       "      <td>15</td>\n",
       "      <td>1</td>\n",
       "      <td>1.0</td>\n",
       "      <td>5</td>\n",
       "    </tr>\n",
       "    <tr>\n",
       "      <th>29</th>\n",
       "      <td>10</td>\n",
       "      <td>5</td>\n",
       "      <td>4</td>\n",
       "      <td>8</td>\n",
       "      <td>15</td>\n",
       "      <td>1</td>\n",
       "      <td>1.0</td>\n",
       "      <td>5</td>\n",
       "    </tr>\n",
       "    <tr>\n",
       "      <th>30</th>\n",
       "      <td>2</td>\n",
       "      <td>10</td>\n",
       "      <td>4</td>\n",
       "      <td>50</td>\n",
       "      <td>20</td>\n",
       "      <td>1</td>\n",
       "      <td>1.0</td>\n",
       "      <td>4</td>\n",
       "    </tr>\n",
       "    <tr>\n",
       "      <th>31</th>\n",
       "      <td>6</td>\n",
       "      <td>2</td>\n",
       "      <td>4</td>\n",
       "      <td>8</td>\n",
       "      <td>4</td>\n",
       "      <td>1</td>\n",
       "      <td>1.0</td>\n",
       "      <td>4</td>\n",
       "    </tr>\n",
       "    <tr>\n",
       "      <th>32</th>\n",
       "      <td>14</td>\n",
       "      <td>4</td>\n",
       "      <td>2</td>\n",
       "      <td>25</td>\n",
       "      <td>4</td>\n",
       "      <td>1</td>\n",
       "      <td>1.0</td>\n",
       "      <td>4</td>\n",
       "    </tr>\n",
       "    <tr>\n",
       "      <th>33</th>\n",
       "      <td>6</td>\n",
       "      <td>20</td>\n",
       "      <td>2</td>\n",
       "      <td>25</td>\n",
       "      <td>4</td>\n",
       "      <td>1</td>\n",
       "      <td>1.0</td>\n",
       "      <td>4</td>\n",
       "    </tr>\n",
       "    <tr>\n",
       "      <th>34</th>\n",
       "      <td>6</td>\n",
       "      <td>2</td>\n",
       "      <td>4</td>\n",
       "      <td>8</td>\n",
       "      <td>8</td>\n",
       "      <td>1</td>\n",
       "      <td>1.0</td>\n",
       "      <td>4</td>\n",
       "    </tr>\n",
       "    <tr>\n",
       "      <th>35</th>\n",
       "      <td>10</td>\n",
       "      <td>15</td>\n",
       "      <td>2</td>\n",
       "      <td>25</td>\n",
       "      <td>4</td>\n",
       "      <td>1</td>\n",
       "      <td>1.0</td>\n",
       "      <td>4</td>\n",
       "    </tr>\n",
       "    <tr>\n",
       "      <th>36</th>\n",
       "      <td>6</td>\n",
       "      <td>10</td>\n",
       "      <td>2</td>\n",
       "      <td>25</td>\n",
       "      <td>4</td>\n",
       "      <td>1</td>\n",
       "      <td>1.0</td>\n",
       "      <td>4</td>\n",
       "    </tr>\n",
       "    <tr>\n",
       "      <th>37</th>\n",
       "      <td>10</td>\n",
       "      <td>20</td>\n",
       "      <td>2</td>\n",
       "      <td>25</td>\n",
       "      <td>4</td>\n",
       "      <td>1</td>\n",
       "      <td>1.0</td>\n",
       "      <td>4</td>\n",
       "    </tr>\n",
       "    <tr>\n",
       "      <th>38</th>\n",
       "      <td>6</td>\n",
       "      <td>4</td>\n",
       "      <td>2</td>\n",
       "      <td>15</td>\n",
       "      <td>4</td>\n",
       "      <td>1</td>\n",
       "      <td>1.0</td>\n",
       "      <td>4</td>\n",
       "    </tr>\n",
       "    <tr>\n",
       "      <th>39</th>\n",
       "      <td>6</td>\n",
       "      <td>2</td>\n",
       "      <td>4</td>\n",
       "      <td>15</td>\n",
       "      <td>8</td>\n",
       "      <td>1</td>\n",
       "      <td>1.0</td>\n",
       "      <td>3</td>\n",
       "    </tr>\n",
       "    <tr>\n",
       "      <th>40</th>\n",
       "      <td>6</td>\n",
       "      <td>2</td>\n",
       "      <td>4</td>\n",
       "      <td>25</td>\n",
       "      <td>8</td>\n",
       "      <td>1</td>\n",
       "      <td>1.0</td>\n",
       "      <td>3</td>\n",
       "    </tr>\n",
       "    <tr>\n",
       "      <th>41</th>\n",
       "      <td>6</td>\n",
       "      <td>5</td>\n",
       "      <td>2</td>\n",
       "      <td>25</td>\n",
       "      <td>4</td>\n",
       "      <td>1</td>\n",
       "      <td>1.0</td>\n",
       "      <td>3</td>\n",
       "    </tr>\n",
       "    <tr>\n",
       "      <th>42</th>\n",
       "      <td>6</td>\n",
       "      <td>5</td>\n",
       "      <td>2</td>\n",
       "      <td>15</td>\n",
       "      <td>4</td>\n",
       "      <td>1</td>\n",
       "      <td>1.0</td>\n",
       "      <td>3</td>\n",
       "    </tr>\n",
       "    <tr>\n",
       "      <th>43</th>\n",
       "      <td>6</td>\n",
       "      <td>15</td>\n",
       "      <td>2</td>\n",
       "      <td>15</td>\n",
       "      <td>4</td>\n",
       "      <td>1</td>\n",
       "      <td>1.0</td>\n",
       "      <td>3</td>\n",
       "    </tr>\n",
       "    <tr>\n",
       "      <th>44</th>\n",
       "      <td>10</td>\n",
       "      <td>20</td>\n",
       "      <td>4</td>\n",
       "      <td>25</td>\n",
       "      <td>15</td>\n",
       "      <td>1</td>\n",
       "      <td>1.0</td>\n",
       "      <td>3</td>\n",
       "    </tr>\n",
       "    <tr>\n",
       "      <th>45</th>\n",
       "      <td>10</td>\n",
       "      <td>20</td>\n",
       "      <td>4</td>\n",
       "      <td>15</td>\n",
       "      <td>15</td>\n",
       "      <td>1</td>\n",
       "      <td>1.0</td>\n",
       "      <td>3</td>\n",
       "    </tr>\n",
       "    <tr>\n",
       "      <th>46</th>\n",
       "      <td>10</td>\n",
       "      <td>2</td>\n",
       "      <td>4</td>\n",
       "      <td>25</td>\n",
       "      <td>15</td>\n",
       "      <td>1</td>\n",
       "      <td>1.0</td>\n",
       "      <td>3</td>\n",
       "    </tr>\n",
       "    <tr>\n",
       "      <th>47</th>\n",
       "      <td>14</td>\n",
       "      <td>15</td>\n",
       "      <td>2</td>\n",
       "      <td>25</td>\n",
       "      <td>4</td>\n",
       "      <td>1</td>\n",
       "      <td>1.0</td>\n",
       "      <td>3</td>\n",
       "    </tr>\n",
       "    <tr>\n",
       "      <th>48</th>\n",
       "      <td>10</td>\n",
       "      <td>20</td>\n",
       "      <td>4</td>\n",
       "      <td>8</td>\n",
       "      <td>15</td>\n",
       "      <td>1</td>\n",
       "      <td>1.0</td>\n",
       "      <td>3</td>\n",
       "    </tr>\n",
       "    <tr>\n",
       "      <th>49</th>\n",
       "      <td>10</td>\n",
       "      <td>10</td>\n",
       "      <td>2</td>\n",
       "      <td>15</td>\n",
       "      <td>4</td>\n",
       "      <td>1</td>\n",
       "      <td>1.0</td>\n",
       "      <td>2</td>\n",
       "    </tr>\n",
       "    <tr>\n",
       "      <th>50</th>\n",
       "      <td>10</td>\n",
       "      <td>2</td>\n",
       "      <td>4</td>\n",
       "      <td>15</td>\n",
       "      <td>15</td>\n",
       "      <td>1</td>\n",
       "      <td>1.0</td>\n",
       "      <td>2</td>\n",
       "    </tr>\n",
       "    <tr>\n",
       "      <th>51</th>\n",
       "      <td>14</td>\n",
       "      <td>10</td>\n",
       "      <td>2</td>\n",
       "      <td>25</td>\n",
       "      <td>4</td>\n",
       "      <td>1</td>\n",
       "      <td>1.0</td>\n",
       "      <td>2</td>\n",
       "    </tr>\n",
       "    <tr>\n",
       "      <th>52</th>\n",
       "      <td>2</td>\n",
       "      <td>5</td>\n",
       "      <td>4</td>\n",
       "      <td>50</td>\n",
       "      <td>20</td>\n",
       "      <td>1</td>\n",
       "      <td>1.0</td>\n",
       "      <td>1</td>\n",
       "    </tr>\n",
       "    <tr>\n",
       "      <th>53</th>\n",
       "      <td>10</td>\n",
       "      <td>15</td>\n",
       "      <td>4</td>\n",
       "      <td>15</td>\n",
       "      <td>15</td>\n",
       "      <td>1</td>\n",
       "      <td>1.0</td>\n",
       "      <td>1</td>\n",
       "    </tr>\n",
       "  </tbody>\n",
       "</table>\n",
       "</div>"
      ],
      "text/plain": [
       "    N_ESTIMATORS  MAX_DEPTH  MAX_FEATURES  ...  RANDOM_STATE  SCORE  COUNTS\n",
       "0             10          4             4  ...             1    1.0      11\n",
       "1             10          4             4  ...             1    1.0      11\n",
       "2              2          2             4  ...             1    1.0      10\n",
       "3              2         15             4  ...             1    1.0       9\n",
       "4              6         15             2  ...             1    1.0       9\n",
       "5              6         20             2  ...             1    1.0       8\n",
       "6             10          5             2  ...             1    1.0       8\n",
       "7             10         10             4  ...             1    1.0       7\n",
       "8              6          2             4  ...             1    1.0       7\n",
       "9              6          4             2  ...             1    1.0       7\n",
       "10            14         20             2  ...             1    1.0       7\n",
       "11            10         15             4  ...             1    1.0       7\n",
       "12             2          4             4  ...             1    1.0       6\n",
       "13            10         15             2  ...             1    1.0       6\n",
       "14            10         10             4  ...             1    1.0       6\n",
       "15             2         20             4  ...             1    1.0       6\n",
       "16            14          5             2  ...             1    1.0       6\n",
       "17             6         10             2  ...             1    1.0       6\n",
       "18            10         15             4  ...             1    1.0       6\n",
       "19            10          4             2  ...             1    1.0       6\n",
       "20            10          2             4  ...             1    1.0       5\n",
       "21            10          5             2  ...             1    1.0       5\n",
       "22            10          4             2  ...             1    1.0       5\n",
       "23            10          4             4  ...             1    1.0       5\n",
       "24            10         20             2  ...             1    1.0       5\n",
       "25            10          5             4  ...             1    1.0       5\n",
       "26            10         10             2  ...             1    1.0       5\n",
       "27            10         10             4  ...             1    1.0       5\n",
       "28            10          5             4  ...             1    1.0       5\n",
       "29            10          5             4  ...             1    1.0       5\n",
       "30             2         10             4  ...             1    1.0       4\n",
       "31             6          2             4  ...             1    1.0       4\n",
       "32            14          4             2  ...             1    1.0       4\n",
       "33             6         20             2  ...             1    1.0       4\n",
       "34             6          2             4  ...             1    1.0       4\n",
       "35            10         15             2  ...             1    1.0       4\n",
       "36             6         10             2  ...             1    1.0       4\n",
       "37            10         20             2  ...             1    1.0       4\n",
       "38             6          4             2  ...             1    1.0       4\n",
       "39             6          2             4  ...             1    1.0       3\n",
       "40             6          2             4  ...             1    1.0       3\n",
       "41             6          5             2  ...             1    1.0       3\n",
       "42             6          5             2  ...             1    1.0       3\n",
       "43             6         15             2  ...             1    1.0       3\n",
       "44            10         20             4  ...             1    1.0       3\n",
       "45            10         20             4  ...             1    1.0       3\n",
       "46            10          2             4  ...             1    1.0       3\n",
       "47            14         15             2  ...             1    1.0       3\n",
       "48            10         20             4  ...             1    1.0       3\n",
       "49            10         10             2  ...             1    1.0       2\n",
       "50            10          2             4  ...             1    1.0       2\n",
       "51            14         10             2  ...             1    1.0       2\n",
       "52             2          5             4  ...             1    1.0       1\n",
       "53            10         15             4  ...             1    1.0       1\n",
       "\n",
       "[54 rows x 8 columns]"
      ]
     },
     "execution_count": 98,
     "metadata": {
      "tags": []
     },
     "output_type": "execute_result"
    }
   ],
   "source": [
    "optimized_data.value_counts().to_frame().reset_index().rename(columns={0:\"COUNTS\"})"
   ]
  },
  {
   "cell_type": "code",
   "execution_count": null,
   "metadata": {
    "colab": {
     "base_uri": "https://localhost:8080/",
     "height": 1000
    },
    "executionInfo": {
     "elapsed": 2088,
     "status": "ok",
     "timestamp": 1612761396869,
     "user": {
      "displayName": "Tomas Fanciotti",
      "photoUrl": "https://lh3.googleusercontent.com/a-/AOh14GgFsYXKyb0ZZgISWHduA_TIwDeRapr5luqhSrvXH_Q=s64",
      "userId": "01644558546552400828"
     },
     "user_tz": 180
    },
    "id": "T7myqaLh1iQ4",
    "outputId": "ffc94f70-17ab-40ea-a5e3-7cff619069d8"
   },
   "outputs": [
    {
     "data": {
      "image/png": "[encoded data removed]",
      "text/plain": [
       "<Figure size 432x288 with 1 Axes>"
      ]
     },
     "metadata": {
      "needs_background": "light",
      "tags": []
     },
     "output_type": "display_data"
    },
    {
     "data": {
      "image/png": "[encoded data removed]",
      "text/plain": [
       "<Figure size 432x288 with 1 Axes>"
      ]
     },
     "metadata": {
      "needs_background": "light",
      "tags": []
     },
     "output_type": "display_data"
    },
    {
     "data": {
      "image/png": "[encoded data removed]",
      "text/plain": [
       "<Figure size 432x288 with 1 Axes>"
      ]
     },
     "metadata": {
      "needs_background": "light",
      "tags": []
     },
     "output_type": "display_data"
    },
    {
     "data": {
      "image/png": "[encoded data removed]",
      "text/plain": [
       "<Figure size 432x288 with 1 Axes>"
      ]
     },
     "metadata": {
      "needs_background": "light",
      "tags": []
     },
     "output_type": "display_data"
    },
    {
     "data": {
      "image/png": "[encoded data removed]",
      "text/plain": [
       "<Figure size 432x288 with 1 Axes>"
      ]
     },
     "metadata": {
      "needs_background": "light",
      "tags": []
     },
     "output_type": "display_data"
    }
   ],
   "source": [
    "import seaborn as sns\n",
    "\n",
    "for column in optimized_data:\n",
    "  if optimized_data[column].value_counts().size == 1:continue\n",
    "  sns.histplot(optimized_data[column])\n",
    "  plt.show()"
   ]
  },
  {
   "cell_type": "code",
   "execution_count": null,
   "metadata": {
    "id": "StSnMcKX56W9"
   },
   "outputs": [],
   "source": [
    "my_model = RandomForestClassifier(10,'gini',5,15,4,max_features=4,random_state=1)\n",
    "my_model.fit(df.loc[:int(len(df)*0.8),features],\\\n",
    "             df.loc[:int(len(df)*0.8),label])\n",
    "\n",
    "my_model.score(df.loc[:int(len(df)*0.8),features],\\\n",
    "             df.loc[:int(len(df)*0.8),label])"
   ]
  },
  {
   "cell_type": "markdown",
   "metadata": {
    "id": "W3BrGHPiHY5C"
   },
   "source": [
    "#### Segundo **tunning**\n",
    "\n"
   ]
  },
  {
   "cell_type": "code",
   "execution_count": null,
   "metadata": {
    "id": "VIBPzM52HcHL"
   },
   "outputs": [],
   "source": [
    "features = [\"sepal length (cm)\",\"sepal width (cm)\",\\\n",
    "            \"petal length (cm)\",\"petal width (cm)\"]\n",
    "label = \"type\"\n",
    "\n",
    "tunner = RandomForestRandomSearch(df.loc[:,features],\\\n",
    "                                  df.loc[:,label])\n",
    "\n",
    "tunner.set_n_estimators([7,8,9,10,11,12,13])\n",
    "tunner.set_max_depth([1,2,3,4,5,6,7])\n",
    "tunner.set_max_features([3,4])\n",
    "tunner.set_min_samples_split([15,17,20,25,27,30,35])\n",
    "tunner.set_min_samples_leaf([4,6,8,11,15,17,20,23,25])\n",
    "tunner.set_seed([1])"
   ]
  },
  {
   "cell_type": "code",
   "execution_count": null,
   "metadata": {
    "colab": {
     "base_uri": "https://localhost:8080/",
     "height": 324
    },
    "executionInfo": {
     "elapsed": 2317,
     "status": "error",
     "timestamp": 1612762770943,
     "user": {
      "displayName": "Tomas Fanciotti",
      "photoUrl": "https://lh3.googleusercontent.com/a-/AOh14GgFsYXKyb0ZZgISWHduA_TIwDeRapr5luqhSrvXH_Q=s64",
      "userId": "01644558546552400828"
     },
     "user_tz": 180
    },
    "id": "Eht1VCS9Hnyb",
    "outputId": "6c756a9f-922f-4f59-9ce4-ef30a08f4583"
   },
   "outputs": [
    {
     "name": "stdout",
     "output_type": "stream",
     "text": [
      " 0% completo..\n"
     ]
    },
    {
     "ename": "KeyboardInterrupt",
     "evalue": "ignored",
     "output_type": "error",
     "traceback": [
      "\u001b[0;31m---------------------------------------------------------------------------\u001b[0m",
      "\u001b[0;31mKeyboardInterrupt\u001b[0m                         Traceback (most recent call last)",
      "\u001b[0;32m<ipython-input-102-f467159752a9>\u001b[0m in \u001b[0;36m<module>\u001b[0;34m()\u001b[0m\n\u001b[0;32m----> 1\u001b[0;31m \u001b[0mtunner\u001b[0m\u001b[0;34m.\u001b[0m\u001b[0mrun\u001b[0m\u001b[0;34m(\u001b[0m\u001b[0;36m30000\u001b[0m\u001b[0;34m)\u001b[0m\u001b[0;34m\u001b[0m\u001b[0;34m\u001b[0m\u001b[0m\n\u001b[0m",
      "\u001b[0;32m<ipython-input-74-c7f539a876c7>\u001b[0m in \u001b[0;36mrun\u001b[0;34m(cls, volumen)\u001b[0m\n\u001b[1;32m     61\u001b[0m \u001b[0;34m\u001b[0m\u001b[0m\n\u001b[1;32m     62\u001b[0m       \u001b[0mself\u001b[0m\u001b[0;34m.\u001b[0m\u001b[0m__build_model\u001b[0m\u001b[0;34m(\u001b[0m\u001b[0mrandom_params\u001b[0m\u001b[0;34m)\u001b[0m\u001b[0;34m\u001b[0m\u001b[0;34m\u001b[0m\u001b[0m\n\u001b[0;32m---> 63\u001b[0;31m       \u001b[0mself\u001b[0m\u001b[0;34m.\u001b[0m\u001b[0m__train_model\u001b[0m\u001b[0;34m(\u001b[0m\u001b[0mX_train\u001b[0m\u001b[0;34m,\u001b[0m\u001b[0my_train\u001b[0m\u001b[0;34m)\u001b[0m\u001b[0;34m\u001b[0m\u001b[0;34m\u001b[0m\u001b[0m\n\u001b[0m\u001b[1;32m     64\u001b[0m       \u001b[0mscore\u001b[0m \u001b[0;34m=\u001b[0m \u001b[0mself\u001b[0m\u001b[0;34m.\u001b[0m\u001b[0m__test_model\u001b[0m\u001b[0;34m(\u001b[0m\u001b[0mX_test\u001b[0m\u001b[0;34m,\u001b[0m\u001b[0my_test\u001b[0m\u001b[0;34m)\u001b[0m\u001b[0;34m\u001b[0m\u001b[0;34m\u001b[0m\u001b[0m\n\u001b[1;32m     65\u001b[0m \u001b[0;34m\u001b[0m\u001b[0m\n",
      "\u001b[0;32m<ipython-input-74-c7f539a876c7>\u001b[0m in \u001b[0;36m__train_model\u001b[0;34m(cls, X, y)\u001b[0m\n\u001b[1;32m     77\u001b[0m \u001b[0;34m\u001b[0m\u001b[0m\n\u001b[1;32m     78\u001b[0m   \u001b[0;32mdef\u001b[0m \u001b[0m__train_model\u001b[0m\u001b[0;34m(\u001b[0m\u001b[0mself\u001b[0m\u001b[0;34m,\u001b[0m\u001b[0mX\u001b[0m\u001b[0;34m,\u001b[0m\u001b[0my\u001b[0m\u001b[0;34m)\u001b[0m\u001b[0;34m:\u001b[0m\u001b[0;34m\u001b[0m\u001b[0;34m\u001b[0m\u001b[0m\n\u001b[0;32m---> 79\u001b[0;31m     \u001b[0mself\u001b[0m\u001b[0;34m.\u001b[0m\u001b[0mmodel\u001b[0m\u001b[0;34m.\u001b[0m\u001b[0mfit\u001b[0m\u001b[0;34m(\u001b[0m\u001b[0mX\u001b[0m\u001b[0;34m,\u001b[0m\u001b[0my\u001b[0m\u001b[0;34m)\u001b[0m\u001b[0;34m\u001b[0m\u001b[0;34m\u001b[0m\u001b[0m\n\u001b[0m\u001b[1;32m     80\u001b[0m \u001b[0;34m\u001b[0m\u001b[0m\n\u001b[1;32m     81\u001b[0m \u001b[0;34m\u001b[0m\u001b[0m\n",
      "\u001b[0;32m/usr/local/lib/python3.6/dist-packages/sklearn/ensemble/_forest.py\u001b[0m in \u001b[0;36mfit\u001b[0;34m(cls, X, y, sample_weight)\u001b[0m\n\u001b[1;32m    293\u001b[0m         \"\"\"\n\u001b[1;32m    294\u001b[0m         \u001b[0;31m# Validate or convert input data\u001b[0m\u001b[0;34m\u001b[0m\u001b[0;34m\u001b[0m\u001b[0;34m\u001b[0m\u001b[0m\n\u001b[0;32m--> 295\u001b[0;31m         \u001b[0mX\u001b[0m \u001b[0;34m=\u001b[0m \u001b[0mcheck_array\u001b[0m\u001b[0;34m(\u001b[0m\u001b[0mX\u001b[0m\u001b[0;34m,\u001b[0m \u001b[0maccept_sparse\u001b[0m\u001b[0;34m=\u001b[0m\u001b[0;34m\"csc\"\u001b[0m\u001b[0;34m,\u001b[0m \u001b[0mdtype\u001b[0m\u001b[0;34m=\u001b[0m\u001b[0mDTYPE\u001b[0m\u001b[0;34m)\u001b[0m\u001b[0;34m\u001b[0m\u001b[0;34m\u001b[0m\u001b[0m\n\u001b[0m\u001b[1;32m    296\u001b[0m         \u001b[0my\u001b[0m \u001b[0;34m=\u001b[0m \u001b[0mcheck_array\u001b[0m\u001b[0;34m(\u001b[0m\u001b[0my\u001b[0m\u001b[0;34m,\u001b[0m \u001b[0maccept_sparse\u001b[0m\u001b[0;34m=\u001b[0m\u001b[0;34m'csc'\u001b[0m\u001b[0;34m,\u001b[0m \u001b[0mensure_2d\u001b[0m\u001b[0;34m=\u001b[0m\u001b[0;32mFalse\u001b[0m\u001b[0;34m,\u001b[0m \u001b[0mdtype\u001b[0m\u001b[0;34m=\u001b[0m\u001b[0;32mNone\u001b[0m\u001b[0;34m)\u001b[0m\u001b[0;34m\u001b[0m\u001b[0;34m\u001b[0m\u001b[0m\n\u001b[1;32m    297\u001b[0m         \u001b[0;32mif\u001b[0m \u001b[0msample_weight\u001b[0m \u001b[0;32mis\u001b[0m \u001b[0;32mnot\u001b[0m \u001b[0;32mNone\u001b[0m\u001b[0;34m:\u001b[0m\u001b[0;34m\u001b[0m\u001b[0;34m\u001b[0m\u001b[0m\n",
      "\u001b[0;32m/usr/local/lib/python3.6/dist-packages/sklearn/utils/validation.py\u001b[0m in \u001b[0;36mcheck_array\u001b[0;34m(array, accept_sparse, accept_large_sparse, dtype, order, copy, force_all_finite, ensure_2d, allow_nd, ensure_min_samples, ensure_min_features, warn_on_dtype, estimator)\u001b[0m\n\u001b[1;32m    466\u001b[0m     \u001b[0mdtypes_orig\u001b[0m \u001b[0;34m=\u001b[0m \u001b[0;32mNone\u001b[0m\u001b[0;34m\u001b[0m\u001b[0;34m\u001b[0m\u001b[0m\n\u001b[1;32m    467\u001b[0m     \u001b[0;32mif\u001b[0m \u001b[0mhasattr\u001b[0m\u001b[0;34m(\u001b[0m\u001b[0marray\u001b[0m\u001b[0;34m,\u001b[0m \u001b[0;34m\"dtypes\"\u001b[0m\u001b[0;34m)\u001b[0m \u001b[0;32mand\u001b[0m \u001b[0mhasattr\u001b[0m\u001b[0;34m(\u001b[0m\u001b[0marray\u001b[0m\u001b[0;34m.\u001b[0m\u001b[0mdtypes\u001b[0m\u001b[0;34m,\u001b[0m \u001b[0;34m'__array__'\u001b[0m\u001b[0;34m)\u001b[0m\u001b[0;34m:\u001b[0m\u001b[0;34m\u001b[0m\u001b[0;34m\u001b[0m\u001b[0m\n\u001b[0;32m--> 468\u001b[0;31m         \u001b[0mdtypes_orig\u001b[0m \u001b[0;34m=\u001b[0m \u001b[0mlist\u001b[0m\u001b[0;34m(\u001b[0m\u001b[0marray\u001b[0m\u001b[0;34m.\u001b[0m\u001b[0mdtypes\u001b[0m\u001b[0;34m)\u001b[0m\u001b[0;34m\u001b[0m\u001b[0;34m\u001b[0m\u001b[0m\n\u001b[0m\u001b[1;32m    469\u001b[0m         \u001b[0;31m# pandas boolean dtype __array__ interface coerces bools to objects\u001b[0m\u001b[0;34m\u001b[0m\u001b[0;34m\u001b[0m\u001b[0;34m\u001b[0m\u001b[0m\n\u001b[1;32m    470\u001b[0m         \u001b[0;32mfor\u001b[0m \u001b[0mi\u001b[0m\u001b[0;34m,\u001b[0m \u001b[0mdtype_iter\u001b[0m \u001b[0;32min\u001b[0m \u001b[0menumerate\u001b[0m\u001b[0;34m(\u001b[0m\u001b[0mdtypes_orig\u001b[0m\u001b[0;34m)\u001b[0m\u001b[0;34m:\u001b[0m\u001b[0;34m\u001b[0m\u001b[0;34m\u001b[0m\u001b[0m\n",
      "\u001b[0;32m/usr/local/lib/python3.6/dist-packages/pandas/core/generic.py\u001b[0m in \u001b[0;36mdtypes\u001b[0;34m(cls)\u001b[0m\n\u001b[1;32m   5379\u001b[0m         \"\"\"\n\u001b[1;32m   5380\u001b[0m         \u001b[0mdata\u001b[0m \u001b[0;34m=\u001b[0m \u001b[0mself\u001b[0m\u001b[0;34m.\u001b[0m\u001b[0m_mgr\u001b[0m\u001b[0;34m.\u001b[0m\u001b[0mget_dtypes\u001b[0m\u001b[0;34m(\u001b[0m\u001b[0;34m)\u001b[0m\u001b[0;34m\u001b[0m\u001b[0;34m\u001b[0m\u001b[0m\n\u001b[0;32m-> 5381\u001b[0;31m         \u001b[0;32mreturn\u001b[0m \u001b[0mself\u001b[0m\u001b[0;34m.\u001b[0m\u001b[0m_constructor_sliced\u001b[0m\u001b[0;34m(\u001b[0m\u001b[0mdata\u001b[0m\u001b[0;34m,\u001b[0m \u001b[0mindex\u001b[0m\u001b[0;34m=\u001b[0m\u001b[0mself\u001b[0m\u001b[0;34m.\u001b[0m\u001b[0m_info_axis\u001b[0m\u001b[0;34m,\u001b[0m \u001b[0mdtype\u001b[0m\u001b[0;34m=\u001b[0m\u001b[0mnp\u001b[0m\u001b[0;34m.\u001b[0m\u001b[0mobject_\u001b[0m\u001b[0;34m)\u001b[0m\u001b[0;34m\u001b[0m\u001b[0;34m\u001b[0m\u001b[0m\n\u001b[0m\u001b[1;32m   5382\u001b[0m \u001b[0;34m\u001b[0m\u001b[0m\n\u001b[1;32m   5383\u001b[0m     \u001b[0;32mdef\u001b[0m \u001b[0m_to_dict_of_blocks\u001b[0m\u001b[0;34m(\u001b[0m\u001b[0mself\u001b[0m\u001b[0;34m,\u001b[0m \u001b[0mcopy\u001b[0m\u001b[0;34m:\u001b[0m \u001b[0mbool_t\u001b[0m \u001b[0;34m=\u001b[0m \u001b[0;32mTrue\u001b[0m\u001b[0;34m)\u001b[0m\u001b[0;34m:\u001b[0m\u001b[0;34m\u001b[0m\u001b[0;34m\u001b[0m\u001b[0m\n",
      "\u001b[0;32m/usr/local/lib/python3.6/dist-packages/pandas/core/series.py\u001b[0m in \u001b[0;36m__init__\u001b[0;34m(cls, data, index, dtype, name, copy, fastpath)\u001b[0m\n\u001b[1;32m    327\u001b[0m                 \u001b[0mdata\u001b[0m \u001b[0;34m=\u001b[0m \u001b[0msanitize_array\u001b[0m\u001b[0;34m(\u001b[0m\u001b[0mdata\u001b[0m\u001b[0;34m,\u001b[0m \u001b[0mindex\u001b[0m\u001b[0;34m,\u001b[0m \u001b[0mdtype\u001b[0m\u001b[0;34m,\u001b[0m \u001b[0mcopy\u001b[0m\u001b[0;34m,\u001b[0m \u001b[0mraise_cast_failure\u001b[0m\u001b[0;34m=\u001b[0m\u001b[0;32mTrue\u001b[0m\u001b[0;34m)\u001b[0m\u001b[0;34m\u001b[0m\u001b[0;34m\u001b[0m\u001b[0m\n\u001b[1;32m    328\u001b[0m \u001b[0;34m\u001b[0m\u001b[0m\n\u001b[0;32m--> 329\u001b[0;31m                 \u001b[0mdata\u001b[0m \u001b[0;34m=\u001b[0m \u001b[0mSingleBlockManager\u001b[0m\u001b[0;34m.\u001b[0m\u001b[0mfrom_array\u001b[0m\u001b[0;34m(\u001b[0m\u001b[0mdata\u001b[0m\u001b[0;34m,\u001b[0m \u001b[0mindex\u001b[0m\u001b[0;34m)\u001b[0m\u001b[0;34m\u001b[0m\u001b[0;34m\u001b[0m\u001b[0m\n\u001b[0m\u001b[1;32m    330\u001b[0m \u001b[0;34m\u001b[0m\u001b[0m\n\u001b[1;32m    331\u001b[0m         \u001b[0mgeneric\u001b[0m\u001b[0;34m.\u001b[0m\u001b[0mNDFrame\u001b[0m\u001b[0;34m.\u001b[0m\u001b[0m__init__\u001b[0m\u001b[0;34m(\u001b[0m\u001b[0mself\u001b[0m\u001b[0;34m,\u001b[0m \u001b[0mdata\u001b[0m\u001b[0;34m)\u001b[0m\u001b[0;34m\u001b[0m\u001b[0;34m\u001b[0m\u001b[0m\n",
      "\u001b[0;32m/usr/local/lib/python3.6/dist-packages/pandas/core/internals/managers.py\u001b[0m in \u001b[0;36mfrom_array\u001b[0;34m(cls, array, index)\u001b[0m\n\u001b[1;32m   1576\u001b[0m         \u001b[0mConstructor\u001b[0m \u001b[0;32mfor\u001b[0m \u001b[0;32mif\u001b[0m \u001b[0mwe\u001b[0m \u001b[0mhave\u001b[0m \u001b[0man\u001b[0m \u001b[0marray\u001b[0m \u001b[0mthat\u001b[0m \u001b[0;32mis\u001b[0m \u001b[0;32mnot\u001b[0m \u001b[0myet\u001b[0m \u001b[0ma\u001b[0m \u001b[0mBlock\u001b[0m\u001b[0;34m.\u001b[0m\u001b[0;34m\u001b[0m\u001b[0;34m\u001b[0m\u001b[0m\n\u001b[1;32m   1577\u001b[0m         \"\"\"\n\u001b[0;32m-> 1578\u001b[0;31m         \u001b[0mblock\u001b[0m \u001b[0;34m=\u001b[0m \u001b[0mmake_block\u001b[0m\u001b[0;34m(\u001b[0m\u001b[0marray\u001b[0m\u001b[0;34m,\u001b[0m \u001b[0mplacement\u001b[0m\u001b[0;34m=\u001b[0m\u001b[0mslice\u001b[0m\u001b[0;34m(\u001b[0m\u001b[0;36m0\u001b[0m\u001b[0;34m,\u001b[0m \u001b[0mlen\u001b[0m\u001b[0;34m(\u001b[0m\u001b[0mindex\u001b[0m\u001b[0;34m)\u001b[0m\u001b[0;34m)\u001b[0m\u001b[0;34m,\u001b[0m \u001b[0mndim\u001b[0m\u001b[0;34m=\u001b[0m\u001b[0;36m1\u001b[0m\u001b[0;34m)\u001b[0m\u001b[0;34m\u001b[0m\u001b[0;34m\u001b[0m\u001b[0m\n\u001b[0m\u001b[1;32m   1579\u001b[0m         \u001b[0;32mreturn\u001b[0m \u001b[0mcls\u001b[0m\u001b[0;34m(\u001b[0m\u001b[0mblock\u001b[0m\u001b[0;34m,\u001b[0m \u001b[0mindex\u001b[0m\u001b[0;34m)\u001b[0m\u001b[0;34m\u001b[0m\u001b[0;34m\u001b[0m\u001b[0m\n\u001b[1;32m   1580\u001b[0m \u001b[0;34m\u001b[0m\u001b[0m\n",
      "\u001b[0;32m/usr/local/lib/python3.6/dist-packages/pandas/core/internals/blocks.py\u001b[0m in \u001b[0;36mmake_block\u001b[0;34m(values, placement, klass, ndim, dtype)\u001b[0m\n\u001b[1;32m   2735\u001b[0m     \u001b[0;32mif\u001b[0m \u001b[0mklass\u001b[0m \u001b[0;32mis\u001b[0m \u001b[0;32mNone\u001b[0m\u001b[0;34m:\u001b[0m\u001b[0;34m\u001b[0m\u001b[0;34m\u001b[0m\u001b[0m\n\u001b[1;32m   2736\u001b[0m         \u001b[0mdtype\u001b[0m \u001b[0;34m=\u001b[0m \u001b[0mdtype\u001b[0m \u001b[0;32mor\u001b[0m \u001b[0mvalues\u001b[0m\u001b[0;34m.\u001b[0m\u001b[0mdtype\u001b[0m\u001b[0;34m\u001b[0m\u001b[0;34m\u001b[0m\u001b[0m\n\u001b[0;32m-> 2737\u001b[0;31m         \u001b[0mklass\u001b[0m \u001b[0;34m=\u001b[0m \u001b[0mget_block_type\u001b[0m\u001b[0;34m(\u001b[0m\u001b[0mvalues\u001b[0m\u001b[0;34m,\u001b[0m \u001b[0mdtype\u001b[0m\u001b[0;34m)\u001b[0m\u001b[0;34m\u001b[0m\u001b[0;34m\u001b[0m\u001b[0m\n\u001b[0m\u001b[1;32m   2738\u001b[0m \u001b[0;34m\u001b[0m\u001b[0m\n\u001b[1;32m   2739\u001b[0m     \u001b[0;32melif\u001b[0m \u001b[0mklass\u001b[0m \u001b[0;32mis\u001b[0m \u001b[0mDatetimeTZBlock\u001b[0m \u001b[0;32mand\u001b[0m \u001b[0;32mnot\u001b[0m \u001b[0mis_datetime64tz_dtype\u001b[0m\u001b[0;34m(\u001b[0m\u001b[0mvalues\u001b[0m\u001b[0;34m.\u001b[0m\u001b[0mdtype\u001b[0m\u001b[0;34m)\u001b[0m\u001b[0;34m:\u001b[0m\u001b[0;34m\u001b[0m\u001b[0;34m\u001b[0m\u001b[0m\n",
      "\u001b[0;32m/usr/local/lib/python3.6/dist-packages/pandas/core/internals/blocks.py\u001b[0m in \u001b[0;36mget_block_type\u001b[0;34m(values, dtype)\u001b[0m\n\u001b[1;32m   2701\u001b[0m     \u001b[0;32melif\u001b[0m \u001b[0mis_datetime64tz_dtype\u001b[0m\u001b[0;34m(\u001b[0m\u001b[0mvalues\u001b[0m\u001b[0;34m.\u001b[0m\u001b[0mdtype\u001b[0m\u001b[0;34m)\u001b[0m\u001b[0;34m:\u001b[0m\u001b[0;34m\u001b[0m\u001b[0;34m\u001b[0m\u001b[0m\n\u001b[1;32m   2702\u001b[0m         \u001b[0mcls\u001b[0m \u001b[0;34m=\u001b[0m \u001b[0mDatetimeTZBlock\u001b[0m\u001b[0;34m\u001b[0m\u001b[0;34m\u001b[0m\u001b[0m\n\u001b[0;32m-> 2703\u001b[0;31m     \u001b[0;32melif\u001b[0m \u001b[0mis_interval_dtype\u001b[0m\u001b[0;34m(\u001b[0m\u001b[0mdtype\u001b[0m\u001b[0;34m)\u001b[0m \u001b[0;32mor\u001b[0m \u001b[0mis_period_dtype\u001b[0m\u001b[0;34m(\u001b[0m\u001b[0mdtype\u001b[0m\u001b[0;34m)\u001b[0m\u001b[0;34m:\u001b[0m\u001b[0;34m\u001b[0m\u001b[0;34m\u001b[0m\u001b[0m\n\u001b[0m\u001b[1;32m   2704\u001b[0m         \u001b[0mcls\u001b[0m \u001b[0;34m=\u001b[0m \u001b[0mObjectValuesExtensionBlock\u001b[0m\u001b[0;34m\u001b[0m\u001b[0;34m\u001b[0m\u001b[0m\n\u001b[1;32m   2705\u001b[0m     \u001b[0;32melif\u001b[0m \u001b[0mis_extension_array_dtype\u001b[0m\u001b[0;34m(\u001b[0m\u001b[0mvalues\u001b[0m\u001b[0;34m.\u001b[0m\u001b[0mdtype\u001b[0m\u001b[0;34m)\u001b[0m\u001b[0;34m:\u001b[0m\u001b[0;34m\u001b[0m\u001b[0;34m\u001b[0m\u001b[0m\n",
      "\u001b[0;32m/usr/local/lib/python3.6/dist-packages/pandas/core/dtypes/common.py\u001b[0m in \u001b[0;36mis_interval_dtype\u001b[0;34m(arr_or_dtype)\u001b[0m\n\u001b[1;32m    525\u001b[0m     \u001b[0;32mif\u001b[0m \u001b[0marr_or_dtype\u001b[0m \u001b[0;32mis\u001b[0m \u001b[0;32mNone\u001b[0m\u001b[0;34m:\u001b[0m\u001b[0;34m\u001b[0m\u001b[0;34m\u001b[0m\u001b[0m\n\u001b[1;32m    526\u001b[0m         \u001b[0;32mreturn\u001b[0m \u001b[0;32mFalse\u001b[0m\u001b[0;34m\u001b[0m\u001b[0;34m\u001b[0m\u001b[0m\n\u001b[0;32m--> 527\u001b[0;31m     \u001b[0;32mreturn\u001b[0m \u001b[0mIntervalDtype\u001b[0m\u001b[0;34m.\u001b[0m\u001b[0mis_dtype\u001b[0m\u001b[0;34m(\u001b[0m\u001b[0marr_or_dtype\u001b[0m\u001b[0;34m)\u001b[0m\u001b[0;34m\u001b[0m\u001b[0;34m\u001b[0m\u001b[0m\n\u001b[0m\u001b[1;32m    528\u001b[0m \u001b[0;34m\u001b[0m\u001b[0m\n\u001b[1;32m    529\u001b[0m \u001b[0;34m\u001b[0m\u001b[0m\n",
      "\u001b[0;32m/usr/local/lib/python3.6/dist-packages/pandas/core/dtypes/dtypes.py\u001b[0m in \u001b[0;36mis_dtype\u001b[0;34m(cls, dtype)\u001b[0m\n\u001b[1;32m   1134\u001b[0m             \u001b[0;32melse\u001b[0m\u001b[0;34m:\u001b[0m\u001b[0;34m\u001b[0m\u001b[0;34m\u001b[0m\u001b[0m\n\u001b[1;32m   1135\u001b[0m                 \u001b[0;32mreturn\u001b[0m \u001b[0;32mFalse\u001b[0m\u001b[0;34m\u001b[0m\u001b[0;34m\u001b[0m\u001b[0m\n\u001b[0;32m-> 1136\u001b[0;31m         \u001b[0;32mreturn\u001b[0m \u001b[0msuper\u001b[0m\u001b[0;34m(\u001b[0m\u001b[0;34m)\u001b[0m\u001b[0;34m.\u001b[0m\u001b[0mis_dtype\u001b[0m\u001b[0;34m(\u001b[0m\u001b[0mdtype\u001b[0m\u001b[0;34m)\u001b[0m\u001b[0;34m\u001b[0m\u001b[0;34m\u001b[0m\u001b[0m\n\u001b[0m\u001b[1;32m   1137\u001b[0m \u001b[0;34m\u001b[0m\u001b[0m\n\u001b[1;32m   1138\u001b[0m     def __from_arrow__(\n",
      "\u001b[0;31mKeyboardInterrupt\u001b[0m: "
     ]
    }
   ],
   "source": [
    "tunner.run(30000)"
   ]
  },
  {
   "cell_type": "code",
   "execution_count": null,
   "metadata": {
    "colab": {
     "base_uri": "https://localhost:8080/",
     "height": 459
    },
    "executionInfo": {
     "elapsed": 822,
     "status": "ok",
     "timestamp": 1612762956188,
     "user": {
      "displayName": "Tomas Fanciotti",
      "photoUrl": "https://lh3.googleusercontent.com/a-/AOh14GgFsYXKyb0ZZgISWHduA_TIwDeRapr5luqhSrvXH_Q=s64",
      "userId": "01644558546552400828"
     },
     "user_tz": 180
    },
    "id": "uI577jM5JuRb",
    "outputId": "1672023c-21b3-4e07-a968-cc50e1bf8cd2"
   },
   "outputs": [
    {
     "name": "stdout",
     "output_type": "stream",
     "text": [
      "<class 'pandas.core.frame.DataFrame'>\n",
      "RangeIndex: 30100 entries, 0 to 30099\n",
      "Data columns (total 7 columns):\n",
      " #   Column             Non-Null Count  Dtype  \n",
      "---  ------             --------------  -----  \n",
      " 0   N_ESTIMATORS       30100 non-null  int64  \n",
      " 1   MAX_DEPTH          30100 non-null  int64  \n",
      " 2   MAX_FEATURES       30100 non-null  int64  \n",
      " 3   MIN_SAMPLES_SPLIT  30100 non-null  int64  \n",
      " 4   MIN_SAMPLES_LEAF   30100 non-null  int64  \n",
      " 5   RANDOM_STATE       30100 non-null  int64  \n",
      " 6   SCORE              30100 non-null  float64\n",
      "dtypes: float64(1), int64(6)\n",
      "memory usage: 1.6 MB\n"
     ]
    },
    {
     "data": {
      "text/plain": [
       "None"
      ]
     },
     "metadata": {
      "tags": []
     },
     "output_type": "display_data"
    },
    {
     "data": {
      "text/html": [
       "<div>\n",
       "<style scoped>\n",
       "    .dataframe tbody tr th:only-of-type {\n",
       "        vertical-align: middle;\n",
       "    }\n",
       "\n",
       "    .dataframe tbody tr th {\n",
       "        vertical-align: top;\n",
       "    }\n",
       "\n",
       "    .dataframe thead th {\n",
       "        text-align: right;\n",
       "    }\n",
       "</style>\n",
       "<table border=\"1\" class=\"dataframe\">\n",
       "  <thead>\n",
       "    <tr style=\"text-align: right;\">\n",
       "      <th></th>\n",
       "      <th>N_ESTIMATORS</th>\n",
       "      <th>MAX_DEPTH</th>\n",
       "      <th>MAX_FEATURES</th>\n",
       "      <th>MIN_SAMPLES_SPLIT</th>\n",
       "      <th>MIN_SAMPLES_LEAF</th>\n",
       "      <th>RANDOM_STATE</th>\n",
       "      <th>SCORE</th>\n",
       "    </tr>\n",
       "  </thead>\n",
       "  <tbody>\n",
       "    <tr>\n",
       "      <th>0</th>\n",
       "      <td>8</td>\n",
       "      <td>1</td>\n",
       "      <td>3</td>\n",
       "      <td>35</td>\n",
       "      <td>25</td>\n",
       "      <td>1</td>\n",
       "      <td>0.000</td>\n",
       "    </tr>\n",
       "    <tr>\n",
       "      <th>1</th>\n",
       "      <td>13</td>\n",
       "      <td>3</td>\n",
       "      <td>4</td>\n",
       "      <td>35</td>\n",
       "      <td>23</td>\n",
       "      <td>1</td>\n",
       "      <td>0.000</td>\n",
       "    </tr>\n",
       "    <tr>\n",
       "      <th>2</th>\n",
       "      <td>13</td>\n",
       "      <td>7</td>\n",
       "      <td>3</td>\n",
       "      <td>35</td>\n",
       "      <td>4</td>\n",
       "      <td>1</td>\n",
       "      <td>0.900</td>\n",
       "    </tr>\n",
       "    <tr>\n",
       "      <th>3</th>\n",
       "      <td>13</td>\n",
       "      <td>7</td>\n",
       "      <td>3</td>\n",
       "      <td>17</td>\n",
       "      <td>17</td>\n",
       "      <td>1</td>\n",
       "      <td>0.933</td>\n",
       "    </tr>\n",
       "    <tr>\n",
       "      <th>4</th>\n",
       "      <td>8</td>\n",
       "      <td>6</td>\n",
       "      <td>4</td>\n",
       "      <td>17</td>\n",
       "      <td>8</td>\n",
       "      <td>1</td>\n",
       "      <td>0.833</td>\n",
       "    </tr>\n",
       "  </tbody>\n",
       "</table>\n",
       "</div>"
      ],
      "text/plain": [
       "   N_ESTIMATORS  MAX_DEPTH  MAX_FEATURES  ...  MIN_SAMPLES_LEAF  RANDOM_STATE  SCORE\n",
       "0             8          1             3  ...                25             1  0.000\n",
       "1            13          3             4  ...                23             1  0.000\n",
       "2            13          7             3  ...                 4             1  0.900\n",
       "3            13          7             3  ...                17             1  0.933\n",
       "4             8          6             4  ...                 8             1  0.833\n",
       "\n",
       "[5 rows x 7 columns]"
      ]
     },
     "execution_count": 109,
     "metadata": {
      "tags": []
     },
     "output_type": "execute_result"
    }
   ],
   "source": [
    "results,columns = tunner.get_results()\n",
    "df_results = pd.DataFrame(results,columns=columns)\n",
    "display(df_results.info())\n",
    "df_results.head(5)"
   ]
  },
  {
   "cell_type": "code",
   "execution_count": null,
   "metadata": {
    "colab": {
     "base_uri": "https://localhost:8080/",
     "height": 390
    },
    "executionInfo": {
     "elapsed": 704,
     "status": "ok",
     "timestamp": 1612763323632,
     "user": {
      "displayName": "Tomas Fanciotti",
      "photoUrl": "https://lh3.googleusercontent.com/a-/AOh14GgFsYXKyb0ZZgISWHduA_TIwDeRapr5luqhSrvXH_Q=s64",
      "userId": "01644558546552400828"
     },
     "user_tz": 180
    },
    "id": "8t_RbeoiKCf3",
    "outputId": "b8ba22ba-8cfb-42b8-e169-77d290036890"
   },
   "outputs": [
    {
     "data": {
      "text/html": [
       "<div>\n",
       "<style scoped>\n",
       "    .dataframe tbody tr th:only-of-type {\n",
       "        vertical-align: middle;\n",
       "    }\n",
       "\n",
       "    .dataframe tbody tr th {\n",
       "        vertical-align: top;\n",
       "    }\n",
       "\n",
       "    .dataframe thead th {\n",
       "        text-align: right;\n",
       "    }\n",
       "</style>\n",
       "<table border=\"1\" class=\"dataframe\">\n",
       "  <thead>\n",
       "    <tr style=\"text-align: right;\">\n",
       "      <th></th>\n",
       "      <th></th>\n",
       "      <th></th>\n",
       "      <th></th>\n",
       "      <th></th>\n",
       "      <th></th>\n",
       "      <th></th>\n",
       "      <th>0</th>\n",
       "    </tr>\n",
       "    <tr>\n",
       "      <th>N_ESTIMATORS</th>\n",
       "      <th>MAX_DEPTH</th>\n",
       "      <th>MAX_FEATURES</th>\n",
       "      <th>MIN_SAMPLES_SPLIT</th>\n",
       "      <th>MIN_SAMPLES_LEAF</th>\n",
       "      <th>RANDOM_STATE</th>\n",
       "      <th>SCORE</th>\n",
       "      <th></th>\n",
       "    </tr>\n",
       "  </thead>\n",
       "  <tbody>\n",
       "    <tr>\n",
       "      <th rowspan=\"2\" valign=\"top\">9</th>\n",
       "      <th>7</th>\n",
       "      <th>4</th>\n",
       "      <th>15</th>\n",
       "      <th>15</th>\n",
       "      <th>1</th>\n",
       "      <th>1.0</th>\n",
       "      <td>10</td>\n",
       "    </tr>\n",
       "    <tr>\n",
       "      <th>4</th>\n",
       "      <th>4</th>\n",
       "      <th>27</th>\n",
       "      <th>15</th>\n",
       "      <th>1</th>\n",
       "      <th>1.0</th>\n",
       "      <td>10</td>\n",
       "    </tr>\n",
       "    <tr>\n",
       "      <th>7</th>\n",
       "      <th>2</th>\n",
       "      <th>4</th>\n",
       "      <th>15</th>\n",
       "      <th>15</th>\n",
       "      <th>1</th>\n",
       "      <th>1.0</th>\n",
       "      <td>9</td>\n",
       "    </tr>\n",
       "    <tr>\n",
       "      <th>10</th>\n",
       "      <th>2</th>\n",
       "      <th>4</th>\n",
       "      <th>35</th>\n",
       "      <th>15</th>\n",
       "      <th>1</th>\n",
       "      <th>1.0</th>\n",
       "      <td>9</td>\n",
       "    </tr>\n",
       "    <tr>\n",
       "      <th>7</th>\n",
       "      <th>3</th>\n",
       "      <th>4</th>\n",
       "      <th>15</th>\n",
       "      <th>15</th>\n",
       "      <th>1</th>\n",
       "      <th>1.0</th>\n",
       "      <td>9</td>\n",
       "    </tr>\n",
       "    <tr>\n",
       "      <th rowspan=\"2\" valign=\"top\">9</th>\n",
       "      <th>7</th>\n",
       "      <th>4</th>\n",
       "      <th>30</th>\n",
       "      <th>15</th>\n",
       "      <th>1</th>\n",
       "      <th>1.0</th>\n",
       "      <td>9</td>\n",
       "    </tr>\n",
       "    <tr>\n",
       "      <th>6</th>\n",
       "      <th>4</th>\n",
       "      <th>35</th>\n",
       "      <th>15</th>\n",
       "      <th>1</th>\n",
       "      <th>1.0</th>\n",
       "      <td>9</td>\n",
       "    </tr>\n",
       "    <tr>\n",
       "      <th rowspan=\"3\" valign=\"top\">10</th>\n",
       "      <th>6</th>\n",
       "      <th>4</th>\n",
       "      <th>25</th>\n",
       "      <th>15</th>\n",
       "      <th>1</th>\n",
       "      <th>1.0</th>\n",
       "      <td>8</td>\n",
       "    </tr>\n",
       "    <tr>\n",
       "      <th rowspan=\"2\" valign=\"top\">5</th>\n",
       "      <th rowspan=\"2\" valign=\"top\">4</th>\n",
       "      <th>20</th>\n",
       "      <th>15</th>\n",
       "      <th>1</th>\n",
       "      <th>1.0</th>\n",
       "      <td>8</td>\n",
       "    </tr>\n",
       "    <tr>\n",
       "      <th>35</th>\n",
       "      <th>4</th>\n",
       "      <th>1</th>\n",
       "      <th>1.0</th>\n",
       "      <td>8</td>\n",
       "    </tr>\n",
       "  </tbody>\n",
       "</table>\n",
       "</div>"
      ],
      "text/plain": [
       "                                                                                            0\n",
       "N_ESTIMATORS MAX_DEPTH MAX_FEATURES MIN_SAMPLES_SPLIT MIN_SAMPLES_LEAF RANDOM_STATE SCORE    \n",
       "9            7         4            15                15               1            1.0    10\n",
       "             4         4            27                15               1            1.0    10\n",
       "7            2         4            15                15               1            1.0     9\n",
       "10           2         4            35                15               1            1.0     9\n",
       "7            3         4            15                15               1            1.0     9\n",
       "9            7         4            30                15               1            1.0     9\n",
       "             6         4            35                15               1            1.0     9\n",
       "10           6         4            25                15               1            1.0     8\n",
       "             5         4            20                15               1            1.0     8\n",
       "                                    35                4                1            1.0     8"
      ]
     },
     "execution_count": 114,
     "metadata": {
      "tags": []
     },
     "output_type": "execute_result"
    }
   ],
   "source": [
    "max_score = df_results[\"SCORE\"].max()\n",
    "optimized_data = df_results[ df_results[\"SCORE\"]==max_score]\n",
    "optimized_data.value_counts().to_frame().head(10)"
   ]
  },
  {
   "cell_type": "code",
   "execution_count": null,
   "metadata": {
    "colab": {
     "base_uri": "https://localhost:8080/",
     "height": 1000
    },
    "executionInfo": {
     "elapsed": 1718,
     "status": "ok",
     "timestamp": 1612763136926,
     "user": {
      "displayName": "Tomas Fanciotti",
      "photoUrl": "https://lh3.googleusercontent.com/a-/AOh14GgFsYXKyb0ZZgISWHduA_TIwDeRapr5luqhSrvXH_Q=s64",
      "userId": "01644558546552400828"
     },
     "user_tz": 180
    },
    "id": "bo4ou8e-K9QZ",
    "outputId": "b5ed92fe-3be0-42fe-b117-900fbb2426d4"
   },
   "outputs": [
    {
     "data": {
      "image/png": "[encoded data removed]",
      "text/plain": [
       "<Figure size 432x288 with 1 Axes>"
      ]
     },
     "metadata": {
      "needs_background": "light",
      "tags": []
     },
     "output_type": "display_data"
    },
    {
     "data": {
      "image/png": "[encoded data removed]",
      "text/plain": [
       "<Figure size 432x288 with 1 Axes>"
      ]
     },
     "metadata": {
      "needs_background": "light",
      "tags": []
     },
     "output_type": "display_data"
    },
    {
     "data": {
      "image/png": "[encoded data removed]",
      "text/plain": [
       "<Figure size 432x288 with 1 Axes>"
      ]
     },
     "metadata": {
      "needs_background": "light",
      "tags": []
     },
     "output_type": "display_data"
    },
    {
     "data": {
      "image/png": "[encoded data removed]",
      "text/plain": [
       "<Figure size 432x288 with 1 Axes>"
      ]
     },
     "metadata": {
      "needs_background": "light",
      "tags": []
     },
     "output_type": "display_data"
    },
    {
     "data": {
      "image/png": "[encoded data removed]",
      "text/plain": [
       "<Figure size 432x288 with 1 Axes>"
      ]
     },
     "metadata": {
      "needs_background": "light",
      "tags": []
     },
     "output_type": "display_data"
    }
   ],
   "source": [
    "import seaborn as sns\n",
    "\n",
    "for column in optimized_data:\n",
    "  if optimized_data[column].value_counts().size == 1:continue\n",
    "  sns.histplot(optimized_data[column])\n",
    "  plt.show()"
   ]
  },
  {
   "cell_type": "code",
   "execution_count": null,
   "metadata": {
    "id": "m0wSygQKJ0IY"
   },
   "outputs": [],
   "source": []
  },
  {
   "cell_type": "markdown",
   "metadata": {
    "id": "k3Jos4bDLawj"
   },
   "source": [
    "#### Tercer tunning\n",
    "\n"
   ]
  },
  {
   "cell_type": "code",
   "execution_count": null,
   "metadata": {
    "id": "IZ_HrD9-Lawk"
   },
   "outputs": [],
   "source": [
    "features = [\"sepal length (cm)\",\"sepal width (cm)\",\\\n",
    "            \"petal length (cm)\",\"petal width (cm)\"]\n",
    "label = \"type\"\n",
    "\n",
    "tunner = RandomForestRandomSearch(df.loc[:,features],\\\n",
    "                                  df.loc[:,label])\n",
    "\n",
    "tunner.set_n_estimators([7,8,9,10,11,12,13])\n",
    "tunner.set_max_depth([1,2,3,4,5,6,7])\n",
    "tunner.set_max_features([3,4])\n",
    "tunner.set_min_samples_split([15,17,20,25,27,30,35])\n",
    "tunner.set_min_samples_leaf([4,6,8,11,15,17,20,23,25])\n",
    "tunner.set_seed([1])"
   ]
  },
  {
   "cell_type": "code",
   "execution_count": null,
   "metadata": {
    "id": "l2bLVmJmLawm"
   },
   "outputs": [],
   "source": [
    "tunner.run(30000)"
   ]
  },
  {
   "cell_type": "code",
   "execution_count": null,
   "metadata": {
    "colab": {
     "base_uri": "https://localhost:8080/",
     "height": 359
    },
    "executionInfo": {
     "elapsed": 786,
     "status": "ok",
     "timestamp": 1612763969250,
     "user": {
      "displayName": "Tomas Fanciotti",
      "photoUrl": "https://lh3.googleusercontent.com/a-/AOh14GgFsYXKyb0ZZgISWHduA_TIwDeRapr5luqhSrvXH_Q=s64",
      "userId": "01644558546552400828"
     },
     "user_tz": 180
    },
    "id": "3ebuZxyDLawn",
    "outputId": "7a8aadd1-cc01-4eba-ce53-a0f255847037"
   },
   "outputs": [
    {
     "data": {
      "text/html": [
       "<div>\n",
       "<style scoped>\n",
       "    .dataframe tbody tr th:only-of-type {\n",
       "        vertical-align: middle;\n",
       "    }\n",
       "\n",
       "    .dataframe tbody tr th {\n",
       "        vertical-align: top;\n",
       "    }\n",
       "\n",
       "    .dataframe thead th {\n",
       "        text-align: right;\n",
       "    }\n",
       "</style>\n",
       "<table border=\"1\" class=\"dataframe\">\n",
       "  <thead>\n",
       "    <tr style=\"text-align: right;\">\n",
       "      <th></th>\n",
       "      <th>N_ESTIMATORS</th>\n",
       "      <th>MAX_DEPTH</th>\n",
       "      <th>MAX_FEATURES</th>\n",
       "      <th>MIN_SAMPLES_SPLIT</th>\n",
       "      <th>MIN_SAMPLES_LEAF</th>\n",
       "      <th>RANDOM_STATE</th>\n",
       "      <th>SCORE</th>\n",
       "    </tr>\n",
       "  </thead>\n",
       "  <tbody>\n",
       "    <tr>\n",
       "      <th>5336</th>\n",
       "      <td>9</td>\n",
       "      <td>6</td>\n",
       "      <td>4</td>\n",
       "      <td>15</td>\n",
       "      <td>15</td>\n",
       "      <td>1</td>\n",
       "      <td>1.0</td>\n",
       "    </tr>\n",
       "    <tr>\n",
       "      <th>15127</th>\n",
       "      <td>7</td>\n",
       "      <td>4</td>\n",
       "      <td>4</td>\n",
       "      <td>27</td>\n",
       "      <td>15</td>\n",
       "      <td>1</td>\n",
       "      <td>1.0</td>\n",
       "    </tr>\n",
       "    <tr>\n",
       "      <th>25725</th>\n",
       "      <td>8</td>\n",
       "      <td>4</td>\n",
       "      <td>4</td>\n",
       "      <td>35</td>\n",
       "      <td>8</td>\n",
       "      <td>1</td>\n",
       "      <td>1.0</td>\n",
       "    </tr>\n",
       "    <tr>\n",
       "      <th>15111</th>\n",
       "      <td>10</td>\n",
       "      <td>4</td>\n",
       "      <td>4</td>\n",
       "      <td>30</td>\n",
       "      <td>15</td>\n",
       "      <td>1</td>\n",
       "      <td>1.0</td>\n",
       "    </tr>\n",
       "    <tr>\n",
       "      <th>10874</th>\n",
       "      <td>9</td>\n",
       "      <td>6</td>\n",
       "      <td>4</td>\n",
       "      <td>27</td>\n",
       "      <td>15</td>\n",
       "      <td>1</td>\n",
       "      <td>1.0</td>\n",
       "    </tr>\n",
       "    <tr>\n",
       "      <th>26100</th>\n",
       "      <td>7</td>\n",
       "      <td>5</td>\n",
       "      <td>4</td>\n",
       "      <td>15</td>\n",
       "      <td>15</td>\n",
       "      <td>1</td>\n",
       "      <td>1.0</td>\n",
       "    </tr>\n",
       "    <tr>\n",
       "      <th>3953</th>\n",
       "      <td>9</td>\n",
       "      <td>3</td>\n",
       "      <td>4</td>\n",
       "      <td>20</td>\n",
       "      <td>15</td>\n",
       "      <td>1</td>\n",
       "      <td>1.0</td>\n",
       "    </tr>\n",
       "    <tr>\n",
       "      <th>2888</th>\n",
       "      <td>7</td>\n",
       "      <td>2</td>\n",
       "      <td>4</td>\n",
       "      <td>17</td>\n",
       "      <td>15</td>\n",
       "      <td>1</td>\n",
       "      <td>1.0</td>\n",
       "    </tr>\n",
       "    <tr>\n",
       "      <th>12206</th>\n",
       "      <td>9</td>\n",
       "      <td>4</td>\n",
       "      <td>4</td>\n",
       "      <td>30</td>\n",
       "      <td>15</td>\n",
       "      <td>1</td>\n",
       "      <td>1.0</td>\n",
       "    </tr>\n",
       "    <tr>\n",
       "      <th>23561</th>\n",
       "      <td>8</td>\n",
       "      <td>7</td>\n",
       "      <td>4</td>\n",
       "      <td>35</td>\n",
       "      <td>4</td>\n",
       "      <td>1</td>\n",
       "      <td>1.0</td>\n",
       "    </tr>\n",
       "  </tbody>\n",
       "</table>\n",
       "</div>"
      ],
      "text/plain": [
       "       N_ESTIMATORS  MAX_DEPTH  ...  RANDOM_STATE  SCORE\n",
       "5336              9          6  ...             1    1.0\n",
       "15127             7          4  ...             1    1.0\n",
       "25725             8          4  ...             1    1.0\n",
       "15111            10          4  ...             1    1.0\n",
       "10874             9          6  ...             1    1.0\n",
       "26100             7          5  ...             1    1.0\n",
       "3953              9          3  ...             1    1.0\n",
       "2888              7          2  ...             1    1.0\n",
       "12206             9          4  ...             1    1.0\n",
       "23561             8          7  ...             1    1.0\n",
       "\n",
       "[10 rows x 7 columns]"
      ]
     },
     "execution_count": 121,
     "metadata": {
      "tags": []
     },
     "output_type": "execute_result"
    }
   ],
   "source": [
    "results,columns = tunner.get_results()\n",
    "df_results = pd.DataFrame(results,columns=columns)\n",
    "df_results.sort_values(\"SCORE\",ascending=False).head(10)"
   ]
  },
  {
   "cell_type": "code",
   "execution_count": null,
   "metadata": {
    "colab": {
     "base_uri": "https://localhost:8080/",
     "height": 266
    },
    "executionInfo": {
     "elapsed": 652,
     "status": "ok",
     "timestamp": 1612764076660,
     "user": {
      "displayName": "Tomas Fanciotti",
      "photoUrl": "https://lh3.googleusercontent.com/a-/AOh14GgFsYXKyb0ZZgISWHduA_TIwDeRapr5luqhSrvXH_Q=s64",
      "userId": "01644558546552400828"
     },
     "user_tz": 180
    },
    "id": "1B_Id3cmLawo",
    "outputId": "9648ae6f-5368-40f7-b8b9-6f9277f1bdd3"
   },
   "outputs": [
    {
     "data": {
      "text/html": [
       "<div>\n",
       "<style scoped>\n",
       "    .dataframe tbody tr th:only-of-type {\n",
       "        vertical-align: middle;\n",
       "    }\n",
       "\n",
       "    .dataframe tbody tr th {\n",
       "        vertical-align: top;\n",
       "    }\n",
       "\n",
       "    .dataframe thead th {\n",
       "        text-align: right;\n",
       "    }\n",
       "</style>\n",
       "<table border=\"1\" class=\"dataframe\">\n",
       "  <thead>\n",
       "    <tr style=\"text-align: right;\">\n",
       "      <th></th>\n",
       "      <th>N_ESTIMATORS</th>\n",
       "      <th>MAX_DEPTH</th>\n",
       "      <th>MAX_FEATURES</th>\n",
       "      <th>MIN_SAMPLES_SPLIT</th>\n",
       "      <th>MIN_SAMPLES_LEAF</th>\n",
       "      <th>RANDOM_STATE</th>\n",
       "      <th>SCORE</th>\n",
       "    </tr>\n",
       "  </thead>\n",
       "  <tbody>\n",
       "    <tr>\n",
       "      <th>N_ESTIMATORS</th>\n",
       "      <td>1.000000</td>\n",
       "      <td>0.000231</td>\n",
       "      <td>0.005985</td>\n",
       "      <td>-0.001396</td>\n",
       "      <td>0.006637</td>\n",
       "      <td>NaN</td>\n",
       "      <td>-0.019330</td>\n",
       "    </tr>\n",
       "    <tr>\n",
       "      <th>MAX_DEPTH</th>\n",
       "      <td>0.000231</td>\n",
       "      <td>1.000000</td>\n",
       "      <td>-0.001354</td>\n",
       "      <td>-0.002675</td>\n",
       "      <td>-0.005090</td>\n",
       "      <td>NaN</td>\n",
       "      <td>0.359113</td>\n",
       "    </tr>\n",
       "    <tr>\n",
       "      <th>MAX_FEATURES</th>\n",
       "      <td>0.005985</td>\n",
       "      <td>-0.001354</td>\n",
       "      <td>1.000000</td>\n",
       "      <td>-0.004218</td>\n",
       "      <td>-0.005419</td>\n",
       "      <td>NaN</td>\n",
       "      <td>0.024919</td>\n",
       "    </tr>\n",
       "    <tr>\n",
       "      <th>MIN_SAMPLES_SPLIT</th>\n",
       "      <td>-0.001396</td>\n",
       "      <td>-0.002675</td>\n",
       "      <td>-0.004218</td>\n",
       "      <td>1.000000</td>\n",
       "      <td>-0.004684</td>\n",
       "      <td>NaN</td>\n",
       "      <td>0.000019</td>\n",
       "    </tr>\n",
       "    <tr>\n",
       "      <th>MIN_SAMPLES_LEAF</th>\n",
       "      <td>0.006637</td>\n",
       "      <td>-0.005090</td>\n",
       "      <td>-0.005419</td>\n",
       "      <td>-0.004684</td>\n",
       "      <td>1.000000</td>\n",
       "      <td>NaN</td>\n",
       "      <td>-0.503814</td>\n",
       "    </tr>\n",
       "    <tr>\n",
       "      <th>RANDOM_STATE</th>\n",
       "      <td>NaN</td>\n",
       "      <td>NaN</td>\n",
       "      <td>NaN</td>\n",
       "      <td>NaN</td>\n",
       "      <td>NaN</td>\n",
       "      <td>NaN</td>\n",
       "      <td>NaN</td>\n",
       "    </tr>\n",
       "    <tr>\n",
       "      <th>SCORE</th>\n",
       "      <td>-0.019330</td>\n",
       "      <td>0.359113</td>\n",
       "      <td>0.024919</td>\n",
       "      <td>0.000019</td>\n",
       "      <td>-0.503814</td>\n",
       "      <td>NaN</td>\n",
       "      <td>1.000000</td>\n",
       "    </tr>\n",
       "  </tbody>\n",
       "</table>\n",
       "</div>"
      ],
      "text/plain": [
       "                   N_ESTIMATORS  MAX_DEPTH  ...  RANDOM_STATE     SCORE\n",
       "N_ESTIMATORS           1.000000   0.000231  ...           NaN -0.019330\n",
       "MAX_DEPTH              0.000231   1.000000  ...           NaN  0.359113\n",
       "MAX_FEATURES           0.005985  -0.001354  ...           NaN  0.024919\n",
       "MIN_SAMPLES_SPLIT     -0.001396  -0.002675  ...           NaN  0.000019\n",
       "MIN_SAMPLES_LEAF       0.006637  -0.005090  ...           NaN -0.503814\n",
       "RANDOM_STATE                NaN        NaN  ...           NaN       NaN\n",
       "SCORE                 -0.019330   0.359113  ...           NaN  1.000000\n",
       "\n",
       "[7 rows x 7 columns]"
      ]
     },
     "execution_count": 122,
     "metadata": {
      "tags": []
     },
     "output_type": "execute_result"
    }
   ],
   "source": [
    "df_results.corr()"
   ]
  },
  {
   "cell_type": "code",
   "execution_count": null,
   "metadata": {
    "colab": {
     "base_uri": "https://localhost:8080/",
     "height": 1000
    },
    "executionInfo": {
     "elapsed": 1406,
     "status": "ok",
     "timestamp": 1612764823377,
     "user": {
      "displayName": "Tomas Fanciotti",
      "photoUrl": "https://lh3.googleusercontent.com/a-/AOh14GgFsYXKyb0ZZgISWHduA_TIwDeRapr5luqhSrvXH_Q=s64",
      "userId": "01644558546552400828"
     },
     "user_tz": 180
    },
    "id": "a6u9QWKeLawo",
    "outputId": "2eddfa65-dc80-47fd-e7b8-7fc3ea06a936"
   },
   "outputs": [
    {
     "data": {
      "image/png": "[encoded data removed]",
      "text/plain": [
       "<Figure size 432x288 with 1 Axes>"
      ]
     },
     "metadata": {
      "needs_background": "light",
      "tags": []
     },
     "output_type": "display_data"
    },
    {
     "data": {
      "image/png": "[encoded data removed]",
      "text/plain": [
       "<Figure size 432x288 with 1 Axes>"
      ]
     },
     "metadata": {
      "needs_background": "light",
      "tags": []
     },
     "output_type": "display_data"
    },
    {
     "data": {
      "image/png": "[encoded data removed]",
      "text/plain": [
       "<Figure size 432x288 with 1 Axes>"
      ]
     },
     "metadata": {
      "needs_background": "light",
      "tags": []
     },
     "output_type": "display_data"
    },
    {
     "data": {
      "image/png": "[encoded data removed]",
      "text/plain": [
       "<Figure size 432x288 with 1 Axes>"
      ]
     },
     "metadata": {
      "needs_background": "light",
      "tags": []
     },
     "output_type": "display_data"
    },
    {
     "data": {
      "image/png": "[encoded data removed]",
      "text/plain": [
       "<Figure size 432x288 with 1 Axes>"
      ]
     },
     "metadata": {
      "needs_background": "light",
      "tags": []
     },
     "output_type": "display_data"
    }
   ],
   "source": [
    "import seaborn as sns\n",
    "\n",
    "best_results = df_results[df_results[\"SCORE\"] == 1 ]\n",
    "for column in best_results:\n",
    "  if best_results[column].value_counts().size == 1:continue\n",
    "  sns.histplot(best_results[column])\n",
    "  plt.show()\n"
   ]
  },
  {
   "cell_type": "code",
   "execution_count": null,
   "metadata": {
    "colab": {
     "base_uri": "https://localhost:8080/",
     "height": 1000
    },
    "executionInfo": {
     "elapsed": 1980,
     "status": "ok",
     "timestamp": 1612764760093,
     "user": {
      "displayName": "Tomas Fanciotti",
      "photoUrl": "https://lh3.googleusercontent.com/a-/AOh14GgFsYXKyb0ZZgISWHduA_TIwDeRapr5luqhSrvXH_Q=s64",
      "userId": "01644558546552400828"
     },
     "user_tz": 180
    },
    "id": "mbh8yH5TQg2z",
    "outputId": "c1dee489-b1ca-48db-ee7f-956d9db34a1e"
   },
   "outputs": [
    {
     "data": {
      "image/png": "[encoded data removed]",
      "text/plain": [
       "<Figure size 432x288 with 1 Axes>"
      ]
     },
     "metadata": {
      "needs_background": "light",
      "tags": []
     },
     "output_type": "display_data"
    },
    {
     "data": {
      "image/png": "[encoded data removed]",
      "text/plain": [
       "<Figure size 432x288 with 1 Axes>"
      ]
     },
     "metadata": {
      "needs_background": "light",
      "tags": []
     },
     "output_type": "display_data"
    },
    {
     "data": {
      "image/png": "[encoded data removed]",
      "text/plain": [
       "<Figure size 432x288 with 1 Axes>"
      ]
     },
     "metadata": {
      "needs_background": "light",
      "tags": []
     },
     "output_type": "display_data"
    },
    {
     "data": {
      "image/png": "[encoded data removed]",
      "text/plain": [
       "<Figure size 432x288 with 1 Axes>"
      ]
     },
     "metadata": {
      "needs_background": "light",
      "tags": []
     },
     "output_type": "display_data"
    },
    {
     "data": {
      "image/png": "[encoded data removed]",
      "text/plain": [
       "<Figure size 432x288 with 1 Axes>"
      ]
     },
     "metadata": {
      "needs_background": "light",
      "tags": []
     },
     "output_type": "display_data"
    }
   ],
   "source": [
    "worst_results = df_results[df_results[\"SCORE\"]  < 0.2]\n",
    "\n",
    "for column in worst_results:\n",
    "  if worst_results[column].value_counts().size == 1:continue\n",
    "  sns.histplot(worst_results[column])\n",
    "  plt.show()"
   ]
  },
  {
   "cell_type": "code",
   "execution_count": null,
   "metadata": {
    "colab": {
     "base_uri": "https://localhost:8080/",
     "height": 296
    },
    "executionInfo": {
     "elapsed": 1013,
     "status": "ok",
     "timestamp": 1612765224756,
     "user": {
      "displayName": "Tomas Fanciotti",
      "photoUrl": "https://lh3.googleusercontent.com/a-/AOh14GgFsYXKyb0ZZgISWHduA_TIwDeRapr5luqhSrvXH_Q=s64",
      "userId": "01644558546552400828"
     },
     "user_tz": 180
    },
    "id": "IZKfld-0Lawp",
    "outputId": "2ce5eb35-5632-4087-c8c5-3d10ca0c88a0"
   },
   "outputs": [
    {
     "data": {
      "text/plain": [
       "<matplotlib.axes._subplots.AxesSubplot at 0x7f3d53941da0>"
      ]
     },
     "execution_count": 140,
     "metadata": {
      "tags": []
     },
     "output_type": "execute_result"
    },
    {
     "data": {
      "image/png": "[encoded data removed]",
      "text/plain": [
       "<Figure size 432x288 with 1 Axes>"
      ]
     },
     "metadata": {
      "needs_background": "light",
      "tags": []
     },
     "output_type": "display_data"
    }
   ],
   "source": [
    "sns.histplot(df_results[\"SCORE\"])"
   ]
  },
  {
   "cell_type": "code",
   "execution_count": null,
   "metadata": {
    "colab": {
     "base_uri": "https://localhost:8080/",
     "height": 330
    },
    "executionInfo": {
     "elapsed": 1263,
     "status": "ok",
     "timestamp": 1612765587898,
     "user": {
      "displayName": "Tomas Fanciotti",
      "photoUrl": "https://lh3.googleusercontent.com/a-/AOh14GgFsYXKyb0ZZgISWHduA_TIwDeRapr5luqhSrvXH_Q=s64",
      "userId": "01644558546552400828"
     },
     "user_tz": 180
    },
    "id": "_Z5mHbNgTFq3",
    "outputId": "cd0e311d-3a2e-4abc-9a55-617822ffe270"
   },
   "outputs": [
    {
     "name": "stdout",
     "output_type": "stream",
     "text": [
      "0.0\n",
      "0.0\n"
     ]
    },
    {
     "data": {
      "text/plain": [
       "<matplotlib.axes._subplots.AxesSubplot at 0x7f3d53d87278>"
      ]
     },
     "execution_count": 155,
     "metadata": {
      "tags": []
     },
     "output_type": "execute_result"
    },
    {
     "data": {
      "image/png": "[encoded data removed]",
      "text/plain": [
       "<Figure size 432x288 with 1 Axes>"
      ]
     },
     "metadata": {
      "needs_background": "light",
      "tags": []
     },
     "output_type": "display_data"
    }
   ],
   "source": [
    "print( df_results[df_results[\"MAX_DEPTH\"]<2].SCORE.mean())\n",
    "print(df_results[df_results[\"MIN_SAMPLES_LEAF\"] > 23].SCORE.mean())\n",
    "filtered = df_results[ (df_results[\"MAX_DEPTH\"] >= 2) & (df_results[\"MIN_SAMPLES_LEAF\"] <= 23)]\n",
    "sns.histplot(filtered[\"SCORE\"])"
   ]
  },
  {
   "cell_type": "code",
   "execution_count": null,
   "metadata": {
    "colab": {
     "base_uri": "https://localhost:8080/",
     "height": 1000
    },
    "executionInfo": {
     "elapsed": 1907,
     "status": "ok",
     "timestamp": 1612765944956,
     "user": {
      "displayName": "Tomas Fanciotti",
      "photoUrl": "https://lh3.googleusercontent.com/a-/AOh14GgFsYXKyb0ZZgISWHduA_TIwDeRapr5luqhSrvXH_Q=s64",
      "userId": "01644558546552400828"
     },
     "user_tz": 180
    },
    "id": "FY_6n09eUePT",
    "outputId": "724a6e13-60b7-43ba-c0d5-703151206809"
   },
   "outputs": [
    {
     "data": {
      "image/png": "[encoded data removed]",
      "text/plain": [
       "<Figure size 432x288 with 1 Axes>"
      ]
     },
     "metadata": {
      "needs_background": "light",
      "tags": []
     },
     "output_type": "display_data"
    },
    {
     "data": {
      "image/png": "[encoded data removed]",
      "text/plain": [
       "<Figure size 432x288 with 1 Axes>"
      ]
     },
     "metadata": {
      "needs_background": "light",
      "tags": []
     },
     "output_type": "display_data"
    },
    {
     "data": {
      "image/png": "[encoded data removed]",
      "text/plain": [
       "<Figure size 432x288 with 1 Axes>"
      ]
     },
     "metadata": {
      "needs_background": "light",
      "tags": []
     },
     "output_type": "display_data"
    },
    {
     "data": {
      "image/png": "[encoded data removed]",
      "text/plain": [
       "<Figure size 432x288 with 1 Axes>"
      ]
     },
     "metadata": {
      "needs_background": "light",
      "tags": []
     },
     "output_type": "display_data"
    }
   ],
   "source": [
    "worst_results = filtered[filtered.SCORE < 0.5]\n",
    "for column in worst_results:\n",
    "  if worst_results[column].value_counts().size == 1:continue\n",
    "  sns.histplot(worst_results[column])\n",
    "  plt.show()"
   ]
  },
  {
   "cell_type": "code",
   "execution_count": null,
   "metadata": {
    "colab": {
     "base_uri": "https://localhost:8080/",
     "height": 541
    },
    "executionInfo": {
     "elapsed": 632,
     "status": "ok",
     "timestamp": 1612765999541,
     "user": {
      "displayName": "Tomas Fanciotti",
      "photoUrl": "https://lh3.googleusercontent.com/a-/AOh14GgFsYXKyb0ZZgISWHduA_TIwDeRapr5luqhSrvXH_Q=s64",
      "userId": "01644558546552400828"
     },
     "user_tz": 180
    },
    "id": "W0CIFgCWVz0e",
    "outputId": "eae2f30f-e2e9-4333-8857-caceb829a129"
   },
   "outputs": [
    {
     "name": "stderr",
     "output_type": "stream",
     "text": [
      "/usr/local/lib/python3.6/dist-packages/ipykernel_launcher.py:2: SettingWithCopyWarning: \n",
      "A value is trying to be set on a copy of a slice from a DataFrame.\n",
      "Try using .loc[row_indexer,col_indexer] = value instead\n",
      "\n",
      "See the caveats in the documentation: https://pandas.pydata.org/pandas-docs/stable/user_guide/indexing.html#returning-a-view-versus-a-copy\n",
      "  \n"
     ]
    },
    {
     "data": {
      "text/html": [
       "<div>\n",
       "<style scoped>\n",
       "    .dataframe tbody tr th:only-of-type {\n",
       "        vertical-align: middle;\n",
       "    }\n",
       "\n",
       "    .dataframe tbody tr th {\n",
       "        vertical-align: top;\n",
       "    }\n",
       "\n",
       "    .dataframe thead th {\n",
       "        text-align: right;\n",
       "    }\n",
       "</style>\n",
       "<table border=\"1\" class=\"dataframe\">\n",
       "  <thead>\n",
       "    <tr style=\"text-align: right;\">\n",
       "      <th></th>\n",
       "      <th>N_ESTIMATORS</th>\n",
       "      <th>MAX_DEPTH</th>\n",
       "      <th>MAX_FEATURES</th>\n",
       "      <th>MIN_SAMPLES_SPLIT</th>\n",
       "      <th>MIN_SAMPLES_LEAF</th>\n",
       "      <th>RANDOM_STATE</th>\n",
       "      <th>SCORE</th>\n",
       "      <th>group</th>\n",
       "    </tr>\n",
       "  </thead>\n",
       "  <tbody>\n",
       "    <tr>\n",
       "      <th>1</th>\n",
       "      <td>13</td>\n",
       "      <td>3</td>\n",
       "      <td>4</td>\n",
       "      <td>35</td>\n",
       "      <td>23</td>\n",
       "      <td>1</td>\n",
       "      <td>0.0</td>\n",
       "      <td>True</td>\n",
       "    </tr>\n",
       "    <tr>\n",
       "      <th>5</th>\n",
       "      <td>9</td>\n",
       "      <td>5</td>\n",
       "      <td>4</td>\n",
       "      <td>17</td>\n",
       "      <td>23</td>\n",
       "      <td>1</td>\n",
       "      <td>0.0</td>\n",
       "      <td>True</td>\n",
       "    </tr>\n",
       "    <tr>\n",
       "      <th>10</th>\n",
       "      <td>11</td>\n",
       "      <td>2</td>\n",
       "      <td>3</td>\n",
       "      <td>25</td>\n",
       "      <td>23</td>\n",
       "      <td>1</td>\n",
       "      <td>0.0</td>\n",
       "      <td>True</td>\n",
       "    </tr>\n",
       "    <tr>\n",
       "      <th>12</th>\n",
       "      <td>11</td>\n",
       "      <td>3</td>\n",
       "      <td>4</td>\n",
       "      <td>17</td>\n",
       "      <td>23</td>\n",
       "      <td>1</td>\n",
       "      <td>0.0</td>\n",
       "      <td>True</td>\n",
       "    </tr>\n",
       "    <tr>\n",
       "      <th>16</th>\n",
       "      <td>11</td>\n",
       "      <td>5</td>\n",
       "      <td>4</td>\n",
       "      <td>30</td>\n",
       "      <td>23</td>\n",
       "      <td>1</td>\n",
       "      <td>0.0</td>\n",
       "      <td>True</td>\n",
       "    </tr>\n",
       "    <tr>\n",
       "      <th>...</th>\n",
       "      <td>...</td>\n",
       "      <td>...</td>\n",
       "      <td>...</td>\n",
       "      <td>...</td>\n",
       "      <td>...</td>\n",
       "      <td>...</td>\n",
       "      <td>...</td>\n",
       "      <td>...</td>\n",
       "    </tr>\n",
       "    <tr>\n",
       "      <th>30047</th>\n",
       "      <td>7</td>\n",
       "      <td>3</td>\n",
       "      <td>3</td>\n",
       "      <td>25</td>\n",
       "      <td>23</td>\n",
       "      <td>1</td>\n",
       "      <td>0.0</td>\n",
       "      <td>True</td>\n",
       "    </tr>\n",
       "    <tr>\n",
       "      <th>30066</th>\n",
       "      <td>11</td>\n",
       "      <td>4</td>\n",
       "      <td>4</td>\n",
       "      <td>17</td>\n",
       "      <td>23</td>\n",
       "      <td>1</td>\n",
       "      <td>0.0</td>\n",
       "      <td>True</td>\n",
       "    </tr>\n",
       "    <tr>\n",
       "      <th>30070</th>\n",
       "      <td>9</td>\n",
       "      <td>4</td>\n",
       "      <td>3</td>\n",
       "      <td>20</td>\n",
       "      <td>23</td>\n",
       "      <td>1</td>\n",
       "      <td>0.0</td>\n",
       "      <td>True</td>\n",
       "    </tr>\n",
       "    <tr>\n",
       "      <th>30083</th>\n",
       "      <td>10</td>\n",
       "      <td>2</td>\n",
       "      <td>4</td>\n",
       "      <td>35</td>\n",
       "      <td>23</td>\n",
       "      <td>1</td>\n",
       "      <td>0.0</td>\n",
       "      <td>True</td>\n",
       "    </tr>\n",
       "    <tr>\n",
       "      <th>30088</th>\n",
       "      <td>12</td>\n",
       "      <td>2</td>\n",
       "      <td>4</td>\n",
       "      <td>25</td>\n",
       "      <td>23</td>\n",
       "      <td>1</td>\n",
       "      <td>0.0</td>\n",
       "      <td>True</td>\n",
       "    </tr>\n",
       "  </tbody>\n",
       "</table>\n",
       "<p>2788 rows × 8 columns</p>\n",
       "</div>"
      ],
      "text/plain": [
       "       N_ESTIMATORS  MAX_DEPTH  MAX_FEATURES  ...  RANDOM_STATE  SCORE  group\n",
       "1                13          3             4  ...             1    0.0   True\n",
       "5                 9          5             4  ...             1    0.0   True\n",
       "10               11          2             3  ...             1    0.0   True\n",
       "12               11          3             4  ...             1    0.0   True\n",
       "16               11          5             4  ...             1    0.0   True\n",
       "...             ...        ...           ...  ...           ...    ...    ...\n",
       "30047             7          3             3  ...             1    0.0   True\n",
       "30066            11          4             4  ...             1    0.0   True\n",
       "30070             9          4             3  ...             1    0.0   True\n",
       "30083            10          2             4  ...             1    0.0   True\n",
       "30088            12          2             4  ...             1    0.0   True\n",
       "\n",
       "[2788 rows x 8 columns]"
      ]
     },
     "execution_count": 170,
     "metadata": {
      "tags": []
     },
     "output_type": "execute_result"
    }
   ],
   "source": [
    "refiltered= filtered[filtered.MIN_SAMPLES_LEAF == 23]\n",
    "refiltered[\"group\"] = refiltered.SCORE == 0\n",
    "refiltered"
   ]
  },
  {
   "cell_type": "code",
   "execution_count": null,
   "metadata": {
    "colab": {
     "base_uri": "https://localhost:8080/",
     "height": 1000
    },
    "executionInfo": {
     "elapsed": 2632,
     "status": "ok",
     "timestamp": 1612766555689,
     "user": {
      "displayName": "Tomas Fanciotti",
      "photoUrl": "https://lh3.googleusercontent.com/a-/AOh14GgFsYXKyb0ZZgISWHduA_TIwDeRapr5luqhSrvXH_Q=s64",
      "userId": "01644558546552400828"
     },
     "user_tz": 180
    },
    "id": "bCHMsad7WBLJ",
    "outputId": "f4e3dae3-1696-4b49-9cf2-bafb8f79dd1c"
   },
   "outputs": [
    {
     "data": {
      "image/png": "[encoded data removed]",
      "text/plain": [
       "<Figure size 432x288 with 1 Axes>"
      ]
     },
     "metadata": {
      "needs_background": "light",
      "tags": []
     },
     "output_type": "display_data"
    },
    {
     "data": {
      "image/png": "[encoded data removed]",
      "text/plain": [
       "<Figure size 432x288 with 1 Axes>"
      ]
     },
     "metadata": {
      "needs_background": "light",
      "tags": []
     },
     "output_type": "display_data"
    },
    {
     "data": {
      "image/png": "[encoded data removed]",
      "text/plain": [
       "<Figure size 432x288 with 1 Axes>"
      ]
     },
     "metadata": {
      "needs_background": "light",
      "tags": []
     },
     "output_type": "display_data"
    },
    {
     "data": {
      "image/png": "[encoded data removed]",
      "text/plain": [
       "<Figure size 432x288 with 1 Axes>"
      ]
     },
     "metadata": {
      "needs_background": "light",
      "tags": []
     },
     "output_type": "display_data"
    },
    {
     "data": {
      "image/png": "[encoded data removed]",
      "text/plain": [
       "<Figure size 432x288 with 1 Axes>"
      ]
     },
     "metadata": {
      "needs_background": "light",
      "tags": []
     },
     "output_type": "display_data"
    },
    {
     "data": {
      "image/png": "[encoded data removed]",
      "text/plain": [
       "<Figure size 432x288 with 1 Axes>"
      ]
     },
     "metadata": {
      "needs_background": "light",
      "tags": []
     },
     "output_type": "display_data"
    },
    {
     "data": {
      "image/png": "[encoded data removed]",
      "text/plain": [
       "<Figure size 432x288 with 1 Axes>"
      ]
     },
     "metadata": {
      "needs_background": "light",
      "tags": []
     },
     "output_type": "display_data"
    },
    {
     "data": {
      "image/png": "[encoded data removed]",
      "text/plain": [
       "<Figure size 432x288 with 1 Axes>"
      ]
     },
     "metadata": {
      "needs_background": "light",
      "tags": []
     },
     "output_type": "display_data"
    },
    {
     "data": {
      "image/png": "[encoded data removed]",
      "text/plain": [
       "<Figure size 432x288 with 1 Axes>"
      ]
     },
     "metadata": {
      "needs_background": "light",
      "tags": []
     },
     "output_type": "display_data"
    },
    {
     "data": {
      "image/png": "[encoded data removed]",
      "text/plain": [
       "<Figure size 432x288 with 1 Axes>"
      ]
     },
     "metadata": {
      "needs_background": "light",
      "tags": []
     },
     "output_type": "display_data"
    },
    {
     "name": "stdout",
     "output_type": "stream",
     "text": [
      "0.8669999999999981\n"
     ]
    }
   ],
   "source": [
    "\n",
    "for column in refiltered:\n",
    "  if column not in [\"group\",\"SCORE\",\"RANDOM_STATE\"]:\n",
    "\n",
    "\n",
    "    sns.histplot(refiltered.loc[refiltered.group == True,column],color=\"red\")\n",
    "    plt.show()\n",
    "\n",
    "    sns.histplot(refiltered.loc[refiltered.group == False,column],color=\"yellow\")\n",
    "    plt.show()\n",
    "\n",
    "print(refiltered.loc[refiltered.group == False,\"SCORE\"].mean())"
   ]
  },
  {
   "cell_type": "code",
   "execution_count": null,
   "metadata": {
    "id": "1-1L1c4gU1kH"
   },
   "outputs": [],
   "source": []
  },
  {
   "cell_type": "code",
   "execution_count": null,
   "metadata": {
    "id": "WLI5tiDaHhES"
   },
   "outputs": [],
   "source": [
    "### "
   ]
  },
  {
   "cell_type": "markdown",
   "metadata": {
    "id": "nJU-msCoHkQY"
   },
   "source": [
    "## Bayesian Optimization"
   ]
  },
  {
   "cell_type": "code",
   "execution_count": 15,
   "metadata": {
    "executionInfo": {
     "elapsed": 799,
     "status": "ok",
     "timestamp": 1612780543153,
     "user": {
      "displayName": "Tomas Fanciotti",
      "photoUrl": "https://lh3.googleusercontent.com/a-/AOh14GgFsYXKyb0ZZgISWHduA_TIwDeRapr5luqhSrvXH_Q=s64",
      "userId": "01644558546552400828"
     },
     "user_tz": 180
    },
    "id": "M0qy8zY6Hofk"
   },
   "outputs": [],
   "source": [
    "from sklearn.model_selection import cross_val_score\n",
    "\n",
    "dataset = datasets.load_iris()\n",
    "X,y = dataset.data, dataset.target\n",
    "\n",
    "def my_scorer(model,X,y):\n",
    "  return model.score(X,y)\n",
    "\n",
    "def objective(params):\n",
    "  n_estimators = params[0]\n",
    "  max_depth = params[1]\n",
    "  max_features = params[2]\n",
    "  min_samples_split = params[3]\n",
    "  min_samples_leaf = params[4]\n",
    "\n",
    "  model = RandomForestClassifier(n_estimators=n_estimators,\\\n",
    "                                     max_depth = max_depth,\\\n",
    "                                     max_features = max_features,\\\n",
    "                                     min_samples_split = min_samples_split,\\\n",
    "                                     min_samples_leaf = min_samples_leaf,\\\n",
    "                                     random_state=1)\n",
    "  \n",
    "  return -np.mean(cross_val_score(model,X,y,cv=1+int(len(X)/15),scoring= my_scorer))"
   ]
  },
  {
   "cell_type": "code",
   "execution_count": 6,
   "metadata": {
    "colab": {
     "base_uri": "https://localhost:8080/"
    },
    "executionInfo": {
     "elapsed": 3462,
     "status": "ok",
     "timestamp": 1612780118278,
     "user": {
      "displayName": "Tomas Fanciotti",
      "photoUrl": "https://lh3.googleusercontent.com/a-/AOh14GgFsYXKyb0ZZgISWHduA_TIwDeRapr5luqhSrvXH_Q=s64",
      "userId": "01644558546552400828"
     },
     "user_tz": 180
    },
    "id": "6mt4QTeWJAn-",
    "outputId": "80742dcf-81fd-4d60-f131-d9b21bf3f31b"
   },
   "outputs": [
    {
     "name": "stdout",
     "output_type": "stream",
     "text": [
      "Requirement already satisfied: scikit-optimize in /usr/local/lib/python3.6/dist-packages (0.8.1)\n",
      "Requirement already satisfied: numpy>=1.13.3 in /usr/local/lib/python3.6/dist-packages (from scikit-optimize) (1.19.5)\n",
      "Requirement already satisfied: scikit-learn>=0.20.0 in /usr/local/lib/python3.6/dist-packages (from scikit-optimize) (0.22.2.post1)\n",
      "Requirement already satisfied: pyaml>=16.9 in /usr/local/lib/python3.6/dist-packages (from scikit-optimize) (20.4.0)\n",
      "Requirement already satisfied: scipy>=0.19.1 in /usr/local/lib/python3.6/dist-packages (from scikit-optimize) (1.4.1)\n",
      "Requirement already satisfied: joblib>=0.11 in /usr/local/lib/python3.6/dist-packages (from scikit-optimize) (1.0.0)\n",
      "Requirement already satisfied: PyYAML in /usr/local/lib/python3.6/dist-packages (from pyaml>=16.9->scikit-optimize) (3.13)\n"
     ]
    }
   ],
   "source": [
    "!pip install scikit-optimize\n"
   ]
  },
  {
   "cell_type": "code",
   "execution_count": 16,
   "metadata": {
    "colab": {
     "base_uri": "https://localhost:8080/"
    },
    "executionInfo": {
     "elapsed": 37837,
     "status": "ok",
     "timestamp": 1612780583665,
     "user": {
      "displayName": "Tomas Fanciotti",
      "photoUrl": "https://lh3.googleusercontent.com/a-/AOh14GgFsYXKyb0ZZgISWHduA_TIwDeRapr5luqhSrvXH_Q=s64",
      "userId": "01644558546552400828"
     },
     "user_tz": 180
    },
    "id": "yp8fxSrsL5MA",
    "outputId": "380f6cce-e2e1-4bb4-84e8-0809b741a038"
   },
   "outputs": [
    {
     "name": "stderr",
     "output_type": "stream",
     "text": [
      "/usr/local/lib/python3.6/dist-packages/skopt/optimizer/optimizer.py:449: UserWarning: The objective has been evaluated at this point before.\n",
      "  warnings.warn(\"The objective has been evaluated \"\n",
      "/usr/local/lib/python3.6/dist-packages/skopt/optimizer/optimizer.py:449: UserWarning: The objective has been evaluated at this point before.\n",
      "  warnings.warn(\"The objective has been evaluated \"\n",
      "/usr/local/lib/python3.6/dist-packages/skopt/optimizer/optimizer.py:449: UserWarning: The objective has been evaluated at this point before.\n",
      "  warnings.warn(\"The objective has been evaluated \"\n",
      "/usr/local/lib/python3.6/dist-packages/skopt/optimizer/optimizer.py:449: UserWarning: The objective has been evaluated at this point before.\n",
      "  warnings.warn(\"The objective has been evaluated \"\n",
      "/usr/local/lib/python3.6/dist-packages/skopt/optimizer/optimizer.py:449: UserWarning: The objective has been evaluated at this point before.\n",
      "  warnings.warn(\"The objective has been evaluated \"\n",
      "/usr/local/lib/python3.6/dist-packages/skopt/optimizer/optimizer.py:449: UserWarning: The objective has been evaluated at this point before.\n",
      "  warnings.warn(\"The objective has been evaluated \"\n",
      "/usr/local/lib/python3.6/dist-packages/skopt/optimizer/optimizer.py:449: UserWarning: The objective has been evaluated at this point before.\n",
      "  warnings.warn(\"The objective has been evaluated \"\n",
      "/usr/local/lib/python3.6/dist-packages/skopt/optimizer/optimizer.py:449: UserWarning: The objective has been evaluated at this point before.\n",
      "  warnings.warn(\"The objective has been evaluated \"\n"
     ]
    }
   ],
   "source": [
    "from skopt import gp_minimize\n",
    "\n",
    "space = [ [2,30],\n",
    "          [2,20],\n",
    "          [2,4],\n",
    "          [8,60],\n",
    "          [4,25]\n",
    "        ]\n",
    "\n",
    "r = gp_minimize(objective,space,n_calls=50,random_state=1)"
   ]
  },
  {
   "cell_type": "code",
   "execution_count": 19,
   "metadata": {
    "colab": {
     "base_uri": "https://localhost:8080/"
    },
    "executionInfo": {
     "elapsed": 630,
     "status": "ok",
     "timestamp": 1612780629212,
     "user": {
      "displayName": "Tomas Fanciotti",
      "photoUrl": "https://lh3.googleusercontent.com/a-/AOh14GgFsYXKyb0ZZgISWHduA_TIwDeRapr5luqhSrvXH_Q=s64",
      "userId": "01644558546552400828"
     },
     "user_tz": 180
    },
    "id": "ogvxsfAYL8KN",
    "outputId": "551c5054-54c6-4b91-cab1-13b17eac3009"
   },
   "outputs": [
    {
     "data": {
      "text/plain": [
       "[9, 3, 4, 11, 4]"
      ]
     },
     "execution_count": 19,
     "metadata": {
      "tags": []
     },
     "output_type": "execute_result"
    }
   ],
   "source": [
    "r.x"
   ]
  },
  {
   "cell_type": "code",
   "execution_count": 21,
   "metadata": {
    "colab": {
     "base_uri": "https://localhost:8080/"
    },
    "executionInfo": {
     "elapsed": 765,
     "status": "ok",
     "timestamp": 1612780647542,
     "user": {
      "displayName": "Tomas Fanciotti",
      "photoUrl": "https://lh3.googleusercontent.com/a-/AOh14GgFsYXKyb0ZZgISWHduA_TIwDeRapr5luqhSrvXH_Q=s64",
      "userId": "01644558546552400828"
     },
     "user_tz": 180
    },
    "id": "uKnwh66JN2nt",
    "outputId": "d7c4d810-4de5-4f92-ac20-4b087fe00ba0"
   },
   "outputs": [
    {
     "data": {
      "text/plain": [
       "-0.9670329670329672"
      ]
     },
     "execution_count": 21,
     "metadata": {
      "tags": []
     },
     "output_type": "execute_result"
    }
   ],
   "source": [
    "r.fun"
   ]
  },
  {
   "cell_type": "code",
   "execution_count": null,
   "metadata": {
    "id": "zqqsQ1VSN66R"
   },
   "outputs": [],
   "source": []
  },
  {
   "cell_type": "code",
   "execution_count": null,
   "metadata": {
    "id": "LBXN6HuoN5tg"
   },
   "outputs": [],
   "source": []
  },
  {
   "cell_type": "markdown",
   "metadata": {
    "id": "-pbeGRRQO2Ne"
   },
   "source": [
    "#### Testing the result"
   ]
  },
  {
   "cell_type": "code",
   "execution_count": 26,
   "metadata": {
    "colab": {
     "base_uri": "https://localhost:8080/"
    },
    "executionInfo": {
     "elapsed": 731,
     "status": "ok",
     "timestamp": 1612781181475,
     "user": {
      "displayName": "Tomas Fanciotti",
      "photoUrl": "https://lh3.googleusercontent.com/a-/AOh14GgFsYXKyb0ZZgISWHduA_TIwDeRapr5luqhSrvXH_Q=s64",
      "userId": "01644558546552400828"
     },
     "user_tz": 180
    },
    "id": "8_e-CMqtO4UA",
    "outputId": "218dbe23-ede1-4075-b76c-5f42665910da"
   },
   "outputs": [
    {
     "name": "stdout",
     "output_type": "stream",
     "text": [
      "The score for this model is:  0.9333333333333333\n"
     ]
    }
   ],
   "source": [
    "train_rate = 0.8\n",
    "separator = int(len(X)*train_rate)\n",
    "X,y = pd.DataFrame(dataset.data), pd.Series(dataset.target)\n",
    "\n",
    "\n",
    "X_train, y_train = X.loc[:separator],\\\n",
    "                   y.loc[:separator],\n",
    "\n",
    "X_test, y_test = X.loc[separator:],\\\n",
    "                 y.loc[separator:],\n",
    "\n",
    "model = RandomForestClassifier(n_estimators=9,\\\n",
    "                                     max_depth = 3,\\\n",
    "                                     max_features = 4,\\\n",
    "                                     min_samples_split = 11,\\\n",
    "                                     min_samples_leaf = 4,\\\n",
    "                                     random_state=1)\n",
    "model.fit(X_train,y_train)\n",
    "score = model.score(X_test,y_test)\n",
    "print(\"The score for this model is: \", score)"
   ]
  }
 ],
 "metadata": {
  "colab": {
   "authorship_tag": "ABX9TyNUW/k3UeWm8h1RTVVUWrFu",
   "collapsed_sections": [
    "SXAEOPR9Ht1H",
    "W3BrGHPiHY5C",
    "k3Jos4bDLawj"
   ],
   "name": "Arboles de desición.ipynb",
   "provenance": []
  },
  "kernelspec": {
   "display_name": "Python 3",
   "language": "python",
   "name": "python3"
  },
  "language_info": {
   "codemirror_mode": {
    "name": "ipython",
    "version": 3
   },
   "file_extension": ".py",
   "mimetype": "text/x-python",
   "name": "python",
   "nbconvert_exporter": "python",
   "pygments_lexer": "ipython3",
   "version": "3.7.7"
  }
 },
 "nbformat": 4,
 "nbformat_minor": 4
}
