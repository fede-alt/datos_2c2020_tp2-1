{
 "cells": [
  {
   "cell_type": "code",
   "execution_count": 3,
   "metadata": {},
   "outputs": [],
   "source": [
    "import lightgbm as lgb\n",
    "import pandas as pd\n",
    "import numpy as np\n",
    "import matplotlib.pyplot as plt\n",
    "from sklearn.model_selection import GridSearchCV, RandomizedSearchCV"
   ]
  },
  {
   "cell_type": "code",
   "execution_count": 4,
   "metadata": {},
   "outputs": [],
   "source": [
    "from sklearn.model_selection import train_test_split\n",
    "from sklearn.metrics import mean_absolute_error\n",
    "seed = 42"
   ]
  },
  {
   "cell_type": "code",
   "execution_count": 5,
   "metadata": {},
   "outputs": [],
   "source": [
    "def reduce_mem_usage(df):\n",
    "    \"\"\" iterate through all the columns of a dataframe and modify the data type\n",
    "        to reduce memory usage.        \n",
    "    \"\"\"\n",
    "    start_mem = df.memory_usage().sum() / 1024**2\n",
    "    print('Memory usage of dataframe is {:.2f} MB'.format(start_mem))\n",
    "    \n",
    "    for col in df.columns:\n",
    "        col_type = df[col].dtype\n",
    "        \n",
    "        if col_type != object:\n",
    "            c_min = df[col].min()\n",
    "            c_max = df[col].max()\n",
    "            if str(col_type)[:3] == 'int':\n",
    "                if c_min > np.iinfo(np.int8).min and c_max < np.iinfo(np.int8).max:\n",
    "                    df[col] = df[col].astype(np.int8)\n",
    "                elif c_min > np.iinfo(np.int16).min and c_max < np.iinfo(np.int16).max:\n",
    "                    df[col] = df[col].astype(np.int16)\n",
    "                elif c_min > np.iinfo(np.int32).min and c_max < np.iinfo(np.int32).max:\n",
    "                    df[col] = df[col].astype(np.int32)\n",
    "                elif c_min > np.iinfo(np.int64).min and c_max < np.iinfo(np.int64).max:\n",
    "                    df[col] = df[col].astype(np.int64)  \n",
    "            else:\n",
    "                if c_min > np.finfo(np.float16).min and c_max < np.finfo(np.float16).max:\n",
    "                    df[col] = df[col].astype(np.float16)\n",
    "                elif c_min > np.finfo(np.float32).min and c_max < np.finfo(np.float32).max:\n",
    "                    df[col] = df[col].astype(np.float32)\n",
    "                else:\n",
    "                    df[col] = df[col].astype(np.float64)\n",
    "        else:\n",
    "            df[col] = df[col].astype('category')\n",
    "\n",
    "    end_mem = df.memory_usage().sum() / 1024**2\n",
    "    print('Memory usage after optimization is: {:.2f} MB'.format(end_mem))\n",
    "    print('Decreased by {:.1f}%'.format(100 * (start_mem - end_mem) / start_mem))\n",
    "    \n",
    "    return df\n",
    "\n",
    "\n",
    "def import_data(file):\n",
    "    \"\"\"create a dataframe and optimize its memory usage\"\"\"\n",
    "    df = pd.read_csv(file, parse_dates=True, keep_date_col=True)\n",
    "    df = reduce_mem_usage(df)\n",
    "    return df"
   ]
  },
  {
   "cell_type": "markdown",
   "metadata": {},
   "source": [
    "Uso los dataframe de train y test que salen de data prepocesing."
   ]
  },
  {
   "cell_type": "code",
   "execution_count": 6,
   "metadata": {},
   "outputs": [
    {
     "name": "stdout",
     "output_type": "stream",
     "text": [
      "Memory usage of dataframe is 6.91 MB\n",
      "Memory usage after optimization is: 1.13 MB\n",
      "Decreased by 83.7%\n",
      "Memory usage of dataframe is 1.09 MB\n",
      "Memory usage after optimization is: 0.17 MB\n",
      "Decreased by 84.1%\n"
     ]
    }
   ],
   "source": [
    "train = import_data(\"../datasets/featureEngineering-train.csv\")\n",
    "test = import_data(\"../datasets/featureEngineering-test.csv\")"
   ]
  },
  {
   "cell_type": "code",
   "execution_count": 30,
   "metadata": {},
   "outputs": [],
   "source": [
    "import re\n",
    "train = train.rename(columns = lambda x:re.sub('[^A-Za-z0-9_]+', '', x))\n",
    "test = test.rename(columns = lambda x:re.sub('[^A-Za-z0-9_]+', '', x))"
   ]
  },
  {
   "cell_type": "code",
   "execution_count": 18,
   "metadata": {
    "collapsed": true
   },
   "outputs": [
    {
     "name": "stdout",
     "output_type": "stream",
     "text": [
      "Index(['Pricing, Delivery_Terms_Quote_Appr',\n",
      "       'Pricing, Delivery_Terms_Approved', 'Bureaucratic_Code_0_Approval',\n",
      "       'Bureaucratic_Code_0_Approved', 'Opportunity_ID', 'Sales_Contract_No',\n",
      "       'USD_factor', 'Total_Amount_USD', 'Total_Taxable_Amount_USD',\n",
      "       'Family_group_mean', 'Product_group_mean', 'Items', 'Total_Amount_mean',\n",
      "       'ASP_(converted)_mean', 'TRF_min', 'TRF_max', 'Planned_min_range',\n",
      "       'Planned_max_range', 'Territory_TRF_mean', 'Territory_TRF_count',\n",
      "       'Territory_TRF_max', 'QuoteExpiry-OppCreated', 'OppCreated-AccCreated',\n",
      "       'OppCreated-LastMod', 'PlanStart-OppCreated', 'target',\n",
      "       'Account_Name_0', 'Account_Name_1', 'Account_Name_2', 'Account_Name_3',\n",
      "       'Account_Name_4', 'Account_Name_5', 'Account_Name_6', 'Account_Name_7',\n",
      "       'Account_Name_8', 'Account_Name_9', 'Account_Name_10',\n",
      "       'Account_Owner_0', 'Account_Owner_1', 'Account_Owner_2',\n",
      "       'Account_Owner_3', 'Account_Owner_4', 'Account_Owner_5',\n",
      "       'Delivery_Terms_0', 'Delivery_Terms_1', 'Delivery_Terms_2',\n",
      "       'Delivery_Terms_3', 'Last_Modified_By_0', 'Last_Modified_By_1',\n",
      "       'Last_Modified_By_2', 'Last_Modified_By_3', 'Last_Modified_By_4',\n",
      "       'Last_Modified_By_5', 'Bureaucratic_Code_0', 'Bureaucratic_Code_1',\n",
      "       'Bureaucratic_Code_2', 'ASP_Currency_0', 'ASP_Currency_1',\n",
      "       'ASP_Currency_2', 'Billing_Country_0', 'Billing_Country_1',\n",
      "       'Billing_Country_2', 'Billing_Country_3', 'Billing_Country_4',\n",
      "       'Billing_Country_5', 'Billing_Country_6', 'Quote_Type_0',\n",
      "       'Quote_Type_1', 'Total_Amount_Currency_0', 'Total_Amount_Currency_1',\n",
      "       'Total_Amount_Currency_2', 'Region_0', 'Region_1', 'Region_2',\n",
      "       'Opportunity_Type_0', 'Opportunity_Type_1', 'Opportunity_Type_2',\n",
      "       'Opportunity_Type_3', 'Opportunity_Type_4', 'Opportunity_Owner_0',\n",
      "       'Opportunity_Owner_1', 'Opportunity_Owner_2', 'Opportunity_Owner_3',\n",
      "       'Opportunity_Owner_4', 'Opportunity_Owner_5', 'Source_0', 'Source_1',\n",
      "       'Source_2', 'Source_3', 'Account_Type_0', 'Account_Type_1',\n",
      "       'Account_Type_2'],\n",
      "      dtype='object')\n"
     ]
    }
   ],
   "source": [
    "print(train.columns)\n"
   ]
  },
  {
   "cell_type": "code",
   "execution_count": 47,
   "metadata": {},
   "outputs": [],
   "source": [
    "train.drop(columns=\"Sales_Contract_No\",inplace=True)"
   ]
  },
  {
   "cell_type": "code",
   "execution_count": 48,
   "metadata": {},
   "outputs": [],
   "source": [
    "test.drop(columns=\"Sales_Contract_No\",inplace=True)"
   ]
  },
  {
   "cell_type": "code",
   "execution_count": 49,
   "metadata": {},
   "outputs": [
    {
     "name": "stdout",
     "output_type": "stream",
     "text": [
      "Memory usage of train increases from 1.11 to 1.10 MB\n",
      "Memory usage of test increases from 0.17 to 0.17 MB\n"
     ]
    }
   ],
   "source": [
    "def cat_to_dummy(train, test):\n",
    "    train_d = pd.get_dummies(train, drop_first=False)\n",
    "    test_d = pd.get_dummies(test, drop_first=False)\n",
    "    # make sure that the number of features in train and test should be same\n",
    "    for i in train_d.columns:\n",
    "        if i not in test_d.columns:\n",
    "            if i!='TARGET':\n",
    "                train_d = train_d.drop(i, axis=1)\n",
    "    for j in test_d.columns:\n",
    "        if j not in train_d.columns:\n",
    "            if j!='TARGET':\n",
    "                test_d = test_d.drop(i, axis=1)\n",
    "    print('Memory usage of train increases from {:.2f} to {:.2f} MB'.format(train.memory_usage().sum() / 1024**2, \n",
    "                                                                            train_d.memory_usage().sum() / 1024**2))\n",
    "    print('Memory usage of test increases from {:.2f} to {:.2f} MB'.format(test.memory_usage().sum() / 1024**2, \n",
    "                                                                            test_d.memory_usage().sum() / 1024**2))\n",
    "    return train_d, test_d\n",
    "\n",
    "application_train_ohe, application_test_ohe = cat_to_dummy(train, test)"
   ]
  },
  {
   "cell_type": "code",
   "execution_count": 50,
   "metadata": {},
   "outputs": [],
   "source": [
    "def cat_to_int(train, test):\n",
    "    mem_orig_train = train.memory_usage().sum() / 1024**2\n",
    "    mem_orig_test  = test .memory_usage().sum() / 1024**2\n",
    "    categorical_feats = [ f for f in train.columns if train[f].dtype == 'object' or train[f].dtype.name == 'category' ]\n",
    "    print('---------------------')\n",
    "    print(categorical_feats)\n",
    "    for f_ in categorical_feats:\n",
    "        train[f_], indexer = pd.factorize(train[f_])\n",
    "        test[f_] = indexer.get_indexer(test[f_])\n",
    "    print('Memory usage of train increases from {:.2f} to {:.2f} MB'.format(mem_orig_train, \n",
    "                                                                            train.memory_usage().sum() / 1024**2))\n",
    "    print('Memory usage of test increases from {:.2f} to {:.2f} MB'.format(mem_orig_test, \n",
    "                                                                            test.memory_usage().sum() / 1024**2))\n",
    "    return categorical_feats, train, test"
   ]
  },
  {
   "cell_type": "code",
   "execution_count": 51,
   "metadata": {},
   "outputs": [
    {
     "name": "stdout",
     "output_type": "stream",
     "text": [
      "Index(['PricingDelivery_Terms_Quote_Appr', 'PricingDelivery_Terms_Approved',\n",
      "       'Bureaucratic_Code_0_Approval', 'Bureaucratic_Code_0_Approved',\n",
      "       'Opportunity_ID', 'USD_factor', 'Total_Amount_USD',\n",
      "       'Total_Taxable_Amount_USD', 'Family_group_mean', 'Product_group_mean',\n",
      "       'Items', 'Total_Amount_mean', 'ASP_converted_mean', 'TRF_min',\n",
      "       'TRF_max', 'Planned_min_range', 'Planned_max_range',\n",
      "       'Territory_TRF_mean', 'Territory_TRF_count', 'Territory_TRF_max',\n",
      "       'QuoteExpiryOppCreated', 'OppCreatedAccCreated', 'OppCreatedLastMod',\n",
      "       'PlanStartOppCreated', 'Account_Name_0', 'Account_Name_1',\n",
      "       'Account_Name_2', 'Account_Name_3', 'Account_Name_4', 'Account_Name_5',\n",
      "       'Account_Name_6', 'Account_Name_7', 'Account_Name_8', 'Account_Name_9',\n",
      "       'Account_Name_10', 'Account_Owner_0', 'Account_Owner_1',\n",
      "       'Account_Owner_2', 'Account_Owner_3', 'Account_Owner_4',\n",
      "       'Account_Owner_5', 'Delivery_Terms_0', 'Delivery_Terms_1',\n",
      "       'Delivery_Terms_2', 'Delivery_Terms_3', 'Last_Modified_By_0',\n",
      "       'Last_Modified_By_1', 'Last_Modified_By_2', 'Last_Modified_By_3',\n",
      "       'Last_Modified_By_4', 'Last_Modified_By_5', 'Bureaucratic_Code_0',\n",
      "       'Bureaucratic_Code_1', 'Bureaucratic_Code_2', 'ASP_Currency_0',\n",
      "       'ASP_Currency_1', 'ASP_Currency_2', 'Billing_Country_0',\n",
      "       'Billing_Country_1', 'Billing_Country_2', 'Billing_Country_3',\n",
      "       'Billing_Country_4', 'Billing_Country_5', 'Billing_Country_6',\n",
      "       'Quote_Type_0', 'Quote_Type_1', 'Total_Amount_Currency_0',\n",
      "       'Total_Amount_Currency_1', 'Total_Amount_Currency_2', 'Region_0',\n",
      "       'Region_1', 'Region_2', 'Opportunity_Type_0', 'Opportunity_Type_1',\n",
      "       'Opportunity_Type_2', 'Opportunity_Type_3', 'Opportunity_Type_4',\n",
      "       'Opportunity_Owner_0', 'Opportunity_Owner_1', 'Opportunity_Owner_2',\n",
      "       'Opportunity_Owner_3', 'Opportunity_Owner_4', 'Opportunity_Owner_5',\n",
      "       'Source_0', 'Source_1', 'Source_2', 'Source_3', 'Account_Type_0',\n",
      "       'Account_Type_1', 'Account_Type_2'],\n",
      "      dtype='object')\n"
     ]
    }
   ],
   "source": [
    "print(application_train_ohe.columns)"
   ]
  },
  {
   "cell_type": "code",
   "execution_count": 52,
   "metadata": {},
   "outputs": [],
   "source": [
    "X_rus, y_rus = (train.drop(['Opportunity_ID', 'target'], axis=1),\n",
    "                train['target'])"
   ]
  },
  {
   "cell_type": "code",
   "execution_count": 53,
   "metadata": {},
   "outputs": [],
   "source": [
    "from sklearn.model_selection import train_test_split\n",
    "X_train, X_test, y_train, y_test = train_test_split(X_rus, y_rus, test_size=0.20, random_state=314, stratify=y_rus)"
   ]
  },
  {
   "cell_type": "code",
   "execution_count": 54,
   "metadata": {},
   "outputs": [],
   "source": [
    "def learning_rate_010_decay_power_099(current_iter):\n",
    "    base_learning_rate = 0.1\n",
    "    lr = base_learning_rate  * np.power(.99, current_iter)\n",
    "    return lr if lr > 1e-3 else 1e-3\n",
    "\n",
    "def learning_rate_010_decay_power_0995(current_iter):\n",
    "    base_learning_rate = 0.1\n",
    "    lr = base_learning_rate  * np.power(.995, current_iter)\n",
    "    return lr if lr > 1e-3 else 1e-3\n",
    "\n",
    "def learning_rate_005_decay_power_099(current_iter):\n",
    "    base_learning_rate = 0.05\n",
    "    lr = base_learning_rate  * np.power(.99, current_iter)\n",
    "    return lr if lr > 1e-3 else 1e-3"
   ]
  },
  {
   "cell_type": "code",
   "execution_count": 55,
   "metadata": {},
   "outputs": [],
   "source": [
    "fit_params={\"early_stopping_rounds\":30, \n",
    "            \"eval_metric\" : 'auc', \n",
    "            \"eval_set\" : [(X_test,y_test)],\n",
    "            'eval_names': ['valid'],\n",
    "            #'callbacks': [lgb.reset_parameter(learning_rate=learning_rate_010_decay_power_099)],\n",
    "            'verbose': 100,\n",
    "            'categorical_feature': 'auto'}"
   ]
  },
  {
   "cell_type": "code",
   "execution_count": 56,
   "metadata": {},
   "outputs": [],
   "source": [
    "from scipy.stats import randint as sp_randint\n",
    "from scipy.stats import uniform as sp_uniform\n",
    "param_test ={'num_leaves': sp_randint(6, 50), \n",
    "             'min_child_samples': sp_randint(100, 500), \n",
    "             'min_child_weight': [1e-5, 1e-3, 1e-2, 1e-1, 1, 1e1, 1e2, 1e3, 1e4],\n",
    "             'subsample': sp_uniform(loc=0.2, scale=0.8), \n",
    "             'colsample_bytree': sp_uniform(loc=0.4, scale=0.6),\n",
    "             'reg_alpha': [0, 1e-1, 1, 2, 5, 7, 10, 50, 100],\n",
    "             'reg_lambda': [0, 1e-1, 1, 5, 10, 20, 50, 100]}"
   ]
  },
  {
   "cell_type": "code",
   "execution_count": 57,
   "metadata": {},
   "outputs": [],
   "source": [
    "from sklearn.model_selection import RandomizedSearchCV, GridSearchCV\n",
    "n_HP_points_to_test = 100\n",
    "#n_estimators is set to a \"large value\". The actual number of trees build will depend on early stopping and 5000 define only the absolute maximum\n",
    "clf = lgb.LGBMClassifier(max_depth=-1, random_state=314, silent=True, metric='None', n_jobs=4, n_estimators=5000)\n",
    "gs = RandomizedSearchCV(\n",
    "    estimator=clf, param_distributions=param_test, \n",
    "    n_iter=n_HP_points_to_test,\n",
    "    scoring='roc_auc',\n",
    "    cv=3,\n",
    "    refit=True,\n",
    "    random_state=314,\n",
    "    verbose=True)"
   ]
  },
  {
   "cell_type": "code",
   "execution_count": 58,
   "metadata": {},
   "outputs": [],
   "source": [
    "param_grid = {\n",
    "    'num_leaves': [55, 60, 65],\n",
    "    'max_depth': [8,10,12],\n",
    "    'min_gain_to_split':[0.1, 0.2], \n",
    "    'max_bin':[50, 100, 150],\n",
    "    'min_data_in_leaf':[3000, 5000, 7000],\n",
    "    'bagging_freq':[4,5,6],\n",
    "    'bagging_fraction':[0.65, 0.7, 0.75],\n",
    "    'feature_fraction':[0.7]\n",
    "}"
   ]
  },
  {
   "cell_type": "code",
   "execution_count": 59,
   "metadata": {},
   "outputs": [],
   "source": [
    "opt_parameters = {'colsample_bytree': 0.9234, 'min_child_samples': 399, 'min_child_weight': 0.1, 'num_leaves': 13, 'reg_alpha': 2, 'reg_lambda': 5, 'subsample': 0.855}"
   ]
  },
  {
   "cell_type": "code",
   "execution_count": 60,
   "metadata": {},
   "outputs": [
    {
     "data": {
      "text/plain": [
       "LGBMClassifier(colsample_bytree=0.9234, metric='None', min_child_samples=399,\n",
       "               min_child_weight=0.1, n_estimators=5000, n_jobs=4, num_leaves=13,\n",
       "               random_state=314, reg_alpha=2, reg_lambda=5, subsample=0.855)"
      ]
     },
     "execution_count": 60,
     "metadata": {},
     "output_type": "execute_result"
    }
   ],
   "source": [
    "clf_sw = lgb.LGBMClassifier(**clf.get_params())\n",
    "#set optimal parameters\n",
    "clf_sw.set_params(**opt_parameters)"
   ]
  },
  {
   "cell_type": "code",
   "execution_count": 61,
   "metadata": {},
   "outputs": [],
   "source": [
    "gs_sample_weight = GridSearchCV(estimator=clf_sw, \n",
    "                                param_grid={'scale_pos_weight':[1,2,6,12]},\n",
    "                                scoring='roc_auc',\n",
    "                                cv=5,\n",
    "                                refit=True,\n",
    "                                verbose=True)"
   ]
  },
  {
   "cell_type": "code",
   "execution_count": 64,
   "metadata": {},
   "outputs": [
    {
     "name": "stdout",
     "output_type": "stream",
     "text": [
      "Fitting 5 folds for each of 4 candidates, totalling 20 fits\n",
      "Training until validation scores don't improve for 30 rounds\n"
     ]
    },
    {
     "name": "stderr",
     "output_type": "stream",
     "text": [
      "[Parallel(n_jobs=1)]: Using backend SequentialBackend with 1 concurrent workers.\n"
     ]
    },
    {
     "name": "stdout",
     "output_type": "stream",
     "text": [
      "[100]\tvalid's auc: 0.909541\n",
      "[200]\tvalid's auc: 0.915969\n",
      "[300]\tvalid's auc: 0.919392\n",
      "[400]\tvalid's auc: 0.920978\n",
      "[500]\tvalid's auc: 0.921671\n",
      "Early stopping, best iteration is:\n",
      "[517]\tvalid's auc: 0.921944\n",
      "Training until validation scores don't improve for 30 rounds\n",
      "[100]\tvalid's auc: 0.907758\n",
      "[200]\tvalid's auc: 0.915492\n",
      "[300]\tvalid's auc: 0.916437\n",
      "Early stopping, best iteration is:\n",
      "[290]\tvalid's auc: 0.916688\n",
      "Training until validation scores don't improve for 30 rounds\n",
      "[100]\tvalid's auc: 0.910104\n",
      "[200]\tvalid's auc: 0.917148\n",
      "[300]\tvalid's auc: 0.919972\n",
      "Early stopping, best iteration is:\n",
      "[301]\tvalid's auc: 0.92\n",
      "Training until validation scores don't improve for 30 rounds\n",
      "[100]\tvalid's auc: 0.907692\n",
      "[200]\tvalid's auc: 0.913634\n",
      "[300]\tvalid's auc: 0.916487\n",
      "[400]\tvalid's auc: 0.918317\n",
      "Early stopping, best iteration is:\n",
      "[436]\tvalid's auc: 0.918489\n",
      "Training until validation scores don't improve for 30 rounds\n",
      "[100]\tvalid's auc: 0.910313\n",
      "[200]\tvalid's auc: 0.916112\n",
      "[300]\tvalid's auc: 0.918924\n",
      "[400]\tvalid's auc: 0.919975\n",
      "[500]\tvalid's auc: 0.920887\n",
      "Early stopping, best iteration is:\n",
      "[501]\tvalid's auc: 0.920974\n",
      "Training until validation scores don't improve for 30 rounds\n",
      "[100]\tvalid's auc: 0.909033\n",
      "[200]\tvalid's auc: 0.917522\n",
      "[300]\tvalid's auc: 0.920477\n",
      "Early stopping, best iteration is:\n",
      "[333]\tvalid's auc: 0.921636\n",
      "Training until validation scores don't improve for 30 rounds\n",
      "[100]\tvalid's auc: 0.90898\n",
      "[200]\tvalid's auc: 0.915098\n",
      "[300]\tvalid's auc: 0.918725\n",
      "Early stopping, best iteration is:\n",
      "[328]\tvalid's auc: 0.918996\n",
      "Training until validation scores don't improve for 30 rounds\n",
      "[100]\tvalid's auc: 0.91021\n",
      "[200]\tvalid's auc: 0.916833\n",
      "[300]\tvalid's auc: 0.918847\n",
      "Early stopping, best iteration is:\n",
      "[276]\tvalid's auc: 0.919\n",
      "Training until validation scores don't improve for 30 rounds\n",
      "[100]\tvalid's auc: 0.907499\n",
      "[200]\tvalid's auc: 0.91596\n",
      "[300]\tvalid's auc: 0.91904\n",
      "[400]\tvalid's auc: 0.920389\n",
      "[500]\tvalid's auc: 0.921391\n",
      "Early stopping, best iteration is:\n",
      "[514]\tvalid's auc: 0.921648\n",
      "Training until validation scores don't improve for 30 rounds\n",
      "[100]\tvalid's auc: 0.908171\n",
      "[200]\tvalid's auc: 0.91737\n",
      "[300]\tvalid's auc: 0.919961\n",
      "[400]\tvalid's auc: 0.920633\n",
      "[500]\tvalid's auc: 0.920785\n",
      "Early stopping, best iteration is:\n",
      "[479]\tvalid's auc: 0.921071\n",
      "Training until validation scores don't improve for 30 rounds\n",
      "[100]\tvalid's auc: 0.908298\n",
      "[200]\tvalid's auc: 0.917205\n",
      "[300]\tvalid's auc: 0.919322\n",
      "Early stopping, best iteration is:\n",
      "[277]\tvalid's auc: 0.919803\n",
      "Training until validation scores don't improve for 30 rounds\n",
      "[100]\tvalid's auc: 0.905925\n",
      "[200]\tvalid's auc: 0.913794\n",
      "[300]\tvalid's auc: 0.917073\n",
      "Early stopping, best iteration is:\n",
      "[299]\tvalid's auc: 0.917331\n",
      "Training until validation scores don't improve for 30 rounds\n",
      "[100]\tvalid's auc: 0.908225\n",
      "[200]\tvalid's auc: 0.91495\n",
      "[300]\tvalid's auc: 0.918188\n",
      "[400]\tvalid's auc: 0.919583\n",
      "Early stopping, best iteration is:\n",
      "[455]\tvalid's auc: 0.920219\n",
      "Training until validation scores don't improve for 30 rounds\n",
      "[100]\tvalid's auc: 0.907972\n",
      "[200]\tvalid's auc: 0.915609\n",
      "[300]\tvalid's auc: 0.91902\n",
      "[400]\tvalid's auc: 0.92106\n",
      "[500]\tvalid's auc: 0.921764\n",
      "Early stopping, best iteration is:\n",
      "[491]\tvalid's auc: 0.921929\n",
      "Training until validation scores don't improve for 30 rounds\n",
      "[100]\tvalid's auc: 0.905782\n",
      "[200]\tvalid's auc: 0.915031\n",
      "[300]\tvalid's auc: 0.918469\n",
      "[400]\tvalid's auc: 0.920045\n",
      "[500]\tvalid's auc: 0.921047\n",
      "Early stopping, best iteration is:\n",
      "[491]\tvalid's auc: 0.921166\n",
      "Training until validation scores don't improve for 30 rounds\n",
      "[100]\tvalid's auc: 0.907739\n",
      "[200]\tvalid's auc: 0.916894\n",
      "[300]\tvalid's auc: 0.919798\n",
      "[400]\tvalid's auc: 0.921276\n",
      "Early stopping, best iteration is:\n",
      "[420]\tvalid's auc: 0.92183\n",
      "Training until validation scores don't improve for 30 rounds\n",
      "[100]\tvalid's auc: 0.904766\n",
      "[200]\tvalid's auc: 0.912874\n",
      "[300]\tvalid's auc: 0.916533\n",
      "[400]\tvalid's auc: 0.917807\n",
      "[500]\tvalid's auc: 0.918618\n",
      "Early stopping, best iteration is:\n",
      "[470]\tvalid's auc: 0.918876\n",
      "Training until validation scores don't improve for 30 rounds\n",
      "[100]\tvalid's auc: 0.904433\n",
      "[200]\tvalid's auc: 0.911324\n",
      "[300]\tvalid's auc: 0.9143\n",
      "[400]\tvalid's auc: 0.916703\n",
      "[500]\tvalid's auc: 0.918311\n",
      "[600]\tvalid's auc: 0.918519\n",
      "Early stopping, best iteration is:\n",
      "[572]\tvalid's auc: 0.918742\n",
      "Training until validation scores don't improve for 30 rounds\n",
      "[100]\tvalid's auc: 0.905963\n",
      "[200]\tvalid's auc: 0.914364\n",
      "[300]\tvalid's auc: 0.917772\n",
      "[400]\tvalid's auc: 0.919512\n",
      "Early stopping, best iteration is:\n",
      "[387]\tvalid's auc: 0.919619\n",
      "Training until validation scores don't improve for 30 rounds\n",
      "[100]\tvalid's auc: 0.907767\n",
      "[200]\tvalid's auc: 0.916847\n",
      "[300]\tvalid's auc: 0.91998\n",
      "Early stopping, best iteration is:\n",
      "[333]\tvalid's auc: 0.921025\n"
     ]
    },
    {
     "name": "stderr",
     "output_type": "stream",
     "text": [
      "[Parallel(n_jobs=1)]: Done  20 out of  20 | elapsed:   19.4s finished\n"
     ]
    },
    {
     "name": "stdout",
     "output_type": "stream",
     "text": [
      "Training until validation scores don't improve for 30 rounds\n",
      "[100]\tvalid's auc: 0.910583\n",
      "[200]\tvalid's auc: 0.918532\n",
      "[300]\tvalid's auc: 0.92225\n",
      "[400]\tvalid's auc: 0.924373\n",
      "[500]\tvalid's auc: 0.925468\n",
      "Early stopping, best iteration is:\n",
      "[494]\tvalid's auc: 0.925549\n",
      "Best score reached: 0.9288270473698843 with params: {'scale_pos_weight': 6} \n"
     ]
    }
   ],
   "source": [
    "gs_sample_weight.fit(X_train, y_train, **fit_params)\n",
    "print('Best score reached: {} with params: {} '.format(gs_sample_weight.best_score_, gs_sample_weight.best_params_))"
   ]
  },
  {
   "cell_type": "code",
   "execution_count": 65,
   "metadata": {},
   "outputs": [
    {
     "name": "stdout",
     "output_type": "stream",
     "text": [
      "Valid+-Std     Train  :   Parameters\n"
     ]
    },
    {
     "ename": "KeyError",
     "evalue": "'mean_train_score'",
     "output_type": "error",
     "traceback": [
      "\u001b[0;31m---------------------------------------------------------------------------\u001b[0m",
      "\u001b[0;31mKeyError\u001b[0m                                  Traceback (most recent call last)",
      "\u001b[0;32m<ipython-input-65-47f9e691e9af>\u001b[0m in \u001b[0;36m<module>\u001b[0;34m\u001b[0m\n\u001b[1;32m      3\u001b[0m     print('{1:.3f}+-{3:.3f}     {2:.3f}   :  {0}'.format(gs_sample_weight.cv_results_['params'][i], \n\u001b[1;32m      4\u001b[0m                                     \u001b[0mgs_sample_weight\u001b[0m\u001b[0;34m.\u001b[0m\u001b[0mcv_results_\u001b[0m\u001b[0;34m[\u001b[0m\u001b[0;34m'mean_test_score'\u001b[0m\u001b[0;34m]\u001b[0m\u001b[0;34m[\u001b[0m\u001b[0mi\u001b[0m\u001b[0;34m]\u001b[0m\u001b[0;34m,\u001b[0m\u001b[0;34m\u001b[0m\u001b[0;34m\u001b[0m\u001b[0m\n\u001b[0;32m----> 5\u001b[0;31m                                     \u001b[0mgs_sample_weight\u001b[0m\u001b[0;34m.\u001b[0m\u001b[0mcv_results_\u001b[0m\u001b[0;34m[\u001b[0m\u001b[0;34m'mean_train_score'\u001b[0m\u001b[0;34m]\u001b[0m\u001b[0;34m[\u001b[0m\u001b[0mi\u001b[0m\u001b[0;34m]\u001b[0m\u001b[0;34m,\u001b[0m\u001b[0;34m\u001b[0m\u001b[0;34m\u001b[0m\u001b[0m\n\u001b[0m\u001b[1;32m      6\u001b[0m                                     gs_sample_weight.cv_results_['std_test_score'][i]))\n",
      "\u001b[0;31mKeyError\u001b[0m: 'mean_train_score'"
     ]
    }
   ],
   "source": [
    "print(\"Valid+-Std     Train  :   Parameters\")\n",
    "for i in np.argsort(gs_sample_weight.cv_results_['mean_test_score'])[-5:]:\n",
    "    print('{1:.3f}+-{3:.3f}     {2:.3f}   :  {0}'.format(gs_sample_weight.cv_results_['params'][i], \n",
    "                                    gs_sample_weight.cv_results_['mean_test_score'][i], \n",
    "                                    gs_sample_weight.cv_results_['mean_train_score'][i],\n",
    "                                    gs_sample_weight.cv_results_['std_test_score'][i]))"
   ]
  },
  {
   "cell_type": "code",
   "execution_count": 66,
   "metadata": {},
   "outputs": [
    {
     "name": "stdout",
     "output_type": "stream",
     "text": [
      "Training until validation scores don't improve for 30 rounds\n",
      "[100]\tvalid's auc: 0.910664\n",
      "[200]\tvalid's auc: 0.916661\n",
      "[300]\tvalid's auc: 0.919334\n",
      "[400]\tvalid's auc: 0.920541\n",
      "[500]\tvalid's auc: 0.921152\n",
      "[600]\tvalid's auc: 0.921458\n",
      "[700]\tvalid's auc: 0.921622\n",
      "[800]\tvalid's auc: 0.921724\n",
      "[900]\tvalid's auc: 0.921782\n",
      "Early stopping, best iteration is:\n",
      "[884]\tvalid's auc: 0.9218\n"
     ]
    },
    {
     "data": {
      "text/plain": [
       "LGBMClassifier(colsample_bytree=0.9234, metric='None', min_child_samples=399,\n",
       "               min_child_weight=0.1, n_estimators=5000, n_jobs=4, num_leaves=13,\n",
       "               random_state=314, reg_alpha=2, reg_lambda=5, subsample=0.855)"
      ]
     },
     "execution_count": 66,
     "metadata": {},
     "output_type": "execute_result"
    }
   ],
   "source": [
    "#Configure from the HP optimisation\n",
    "#clf_final = lgb.LGBMClassifier(**gs.best_estimator_.get_params())\n",
    "\n",
    "#Configure locally from hardcoded values\n",
    "clf_final = lgb.LGBMClassifier(**clf.get_params())\n",
    "#set optimal parameters\n",
    "clf_final.set_params(**opt_parameters)\n",
    "\n",
    "#Train the final model with learning rate decay\n",
    "clf_final.fit(X_train, y_train, **fit_params, callbacks=[lgb.reset_parameter(learning_rate=learning_rate_010_decay_power_0995)])"
   ]
  },
  {
   "cell_type": "code",
   "execution_count": 67,
   "metadata": {},
   "outputs": [
    {
     "data": {
      "text/plain": [
       "<matplotlib.axes._subplots.AxesSubplot at 0x7fcebc00ea30>"
      ]
     },
     "execution_count": 67,
     "metadata": {},
     "output_type": "execute_result"
    },
    {
     "data": {
      "image/png": "[encoded data removed]",
      "text/plain": [
       "<Figure size 576x720 with 1 Axes>"
      ]
     },
     "metadata": {
      "needs_background": "light"
     },
     "output_type": "display_data"
    }
   ],
   "source": [
    "feat_imp = pd.Series(clf_final.feature_importances_, index=train.drop(['Opportunity_ID', 'target'], axis=1).columns)\n",
    "feat_imp.nlargest(20).plot(kind='barh', figsize=(8,10))"
   ]
  },
  {
   "cell_type": "code",
   "execution_count": 73,
   "metadata": {},
   "outputs": [
    {
     "data": {
      "text/html": [
       "<div>\n",
       "<style scoped>\n",
       "    .dataframe tbody tr th:only-of-type {\n",
       "        vertical-align: middle;\n",
       "    }\n",
       "\n",
       "    .dataframe tbody tr th {\n",
       "        vertical-align: top;\n",
       "    }\n",
       "\n",
       "    .dataframe thead th {\n",
       "        text-align: right;\n",
       "    }\n",
       "</style>\n",
       "<table border=\"1\" class=\"dataframe\">\n",
       "  <thead>\n",
       "    <tr style=\"text-align: right;\">\n",
       "      <th></th>\n",
       "      <th>Opportunity_ID</th>\n",
       "      <th>Target</th>\n",
       "    </tr>\n",
       "  </thead>\n",
       "  <tbody>\n",
       "    <tr>\n",
       "      <th>0</th>\n",
       "      <td>10689</td>\n",
       "      <td>0.738531</td>\n",
       "    </tr>\n",
       "    <tr>\n",
       "      <th>1</th>\n",
       "      <td>10690</td>\n",
       "      <td>0.292652</td>\n",
       "    </tr>\n",
       "    <tr>\n",
       "      <th>2</th>\n",
       "      <td>10691</td>\n",
       "      <td>0.562243</td>\n",
       "    </tr>\n",
       "    <tr>\n",
       "      <th>3</th>\n",
       "      <td>10692</td>\n",
       "      <td>0.268020</td>\n",
       "    </tr>\n",
       "    <tr>\n",
       "      <th>4</th>\n",
       "      <td>10693</td>\n",
       "      <td>0.956054</td>\n",
       "    </tr>\n",
       "    <tr>\n",
       "      <th>...</th>\n",
       "      <td>...</td>\n",
       "      <td>...</td>\n",
       "    </tr>\n",
       "    <tr>\n",
       "      <th>1562</th>\n",
       "      <td>12364</td>\n",
       "      <td>0.984564</td>\n",
       "    </tr>\n",
       "    <tr>\n",
       "      <th>1563</th>\n",
       "      <td>12365</td>\n",
       "      <td>0.194555</td>\n",
       "    </tr>\n",
       "    <tr>\n",
       "      <th>1564</th>\n",
       "      <td>12366</td>\n",
       "      <td>0.109087</td>\n",
       "    </tr>\n",
       "    <tr>\n",
       "      <th>1565</th>\n",
       "      <td>12367</td>\n",
       "      <td>0.421152</td>\n",
       "    </tr>\n",
       "    <tr>\n",
       "      <th>1566</th>\n",
       "      <td>12368</td>\n",
       "      <td>0.128280</td>\n",
       "    </tr>\n",
       "  </tbody>\n",
       "</table>\n",
       "<p>1567 rows × 2 columns</p>\n",
       "</div>"
      ],
      "text/plain": [
       "      Opportunity_ID    Target\n",
       "0              10689  0.738531\n",
       "1              10690  0.292652\n",
       "2              10691  0.562243\n",
       "3              10692  0.268020\n",
       "4              10693  0.956054\n",
       "...              ...       ...\n",
       "1562           12364  0.984564\n",
       "1563           12365  0.194555\n",
       "1564           12366  0.109087\n",
       "1565           12367  0.421152\n",
       "1566           12368  0.128280\n",
       "\n",
       "[1567 rows x 2 columns]"
      ]
     },
     "execution_count": 73,
     "metadata": {},
     "output_type": "execute_result"
    }
   ],
   "source": [
    "probabilities = clf_final.predict_proba(test.drop(['Opportunity_ID'], axis=1))\n",
    "submission = pd.DataFrame({\n",
    "    'Opportunity_ID': test['Opportunity_ID'],\n",
    "    'Target':     [ row[1] for row in probabilities]\n",
    "})\n",
    "submission[[\"Opportunity_ID\",\"Target\"]].to_csv(\"../submits/lgm-optimizacionhiper.csv\",index=False)\n",
    "#submission.to_csv(\"submission.csv\", index=False)\n",
    "submission[[\"Opportunity_ID\",\"Target\"]]"
   ]
  },
  {
   "cell_type": "code",
   "execution_count": 69,
   "metadata": {},
   "outputs": [
    {
     "data": {
      "text/plain": [
       "0       0.994320\n",
       "1       0.990209\n",
       "2       0.669885\n",
       "3       0.829021\n",
       "4       0.998438\n",
       "          ...   \n",
       "1562    0.997522\n",
       "1563    0.932449\n",
       "1564    0.914969\n",
       "1565    0.978395\n",
       "1566    0.852016\n",
       "Name: Target, Length: 1567, dtype: float64"
      ]
     },
     "execution_count": 69,
     "metadata": {},
     "output_type": "execute_result"
    }
   ],
   "source": [
    "y_true = pd.read_csv(\"../datasets/Y_TRUE.csv\")\n",
    "A = y_true[\"Target\"]\n",
    "A"
   ]
  },
  {
   "cell_type": "code",
   "execution_count": 70,
   "metadata": {},
   "outputs": [
    {
     "data": {
      "text/plain": [
       "array([0.73853091, 0.29265245, 0.5622429 , ..., 0.10908749, 0.42115171,\n",
       "       0.12828045])"
      ]
     },
     "execution_count": 70,
     "metadata": {},
     "output_type": "execute_result"
    }
   ],
   "source": [
    "B = submission[\"Target\"].astype('float').values\n",
    "B"
   ]
  },
  {
   "cell_type": "code",
   "execution_count": 71,
   "metadata": {},
   "outputs": [
    {
     "data": {
      "text/plain": [
       "0.9853161770801437"
      ]
     },
     "execution_count": 71,
     "metadata": {},
     "output_type": "execute_result"
    }
   ],
   "source": [
    "from sklearn.metrics import log_loss\n",
    "log_loss(round(A),B)"
   ]
  },
  {
   "cell_type": "code",
   "execution_count": null,
   "metadata": {},
   "outputs": [],
   "source": []
  }
 ],
 "metadata": {
  "kernelspec": {
   "display_name": "Python 3",
   "language": "python",
   "name": "python3"
  },
  "language_info": {
   "codemirror_mode": {
    "name": "ipython",
    "version": 3
   },
   "file_extension": ".py",
   "mimetype": "text/x-python",
   "name": "python",
   "nbconvert_exporter": "python",
   "pygments_lexer": "ipython3",
   "version": "3.8.3"
  }
 },
 "nbformat": 4,
 "nbformat_minor": 4
}
