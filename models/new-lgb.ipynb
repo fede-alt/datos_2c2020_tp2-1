{
 "cells": [
  {
   "cell_type": "code",
   "execution_count": 1,
   "metadata": {},
   "outputs": [],
   "source": [
    "import lightgbm as lgb\n",
    "import pandas as pd\n",
    "import numpy as np\n",
    "import matplotlib.pyplot as plt\n",
    "from sklearn.model_selection import GridSearchCV, RandomizedSearchCV"
   ]
  },
  {
   "cell_type": "code",
   "execution_count": 2,
   "metadata": {},
   "outputs": [],
   "source": [
    "from sklearn.model_selection import train_test_split\n",
    "from sklearn.metrics import mean_absolute_error\n",
    "seed = 42"
   ]
  },
  {
   "cell_type": "markdown",
   "metadata": {},
   "source": [
    "Uso los dataframe de train y test que salen de data prepocesing."
   ]
  },
  {
   "cell_type": "code",
   "execution_count": 3,
   "metadata": {},
   "outputs": [],
   "source": [
    "train = pd.read_csv(\"../datasets/xgb-train.csv\")\n",
    "test = pd.read_csv(\"../datasets/xgb-test.csv\")"
   ]
  },
  {
   "cell_type": "code",
   "execution_count": 4,
   "metadata": {},
   "outputs": [
    {
     "data": {
      "text/html": [
       "<div>\n",
       "<style scoped>\n",
       "    .dataframe tbody tr th:only-of-type {\n",
       "        vertical-align: middle;\n",
       "    }\n",
       "\n",
       "    .dataframe tbody tr th {\n",
       "        vertical-align: top;\n",
       "    }\n",
       "\n",
       "    .dataframe thead th {\n",
       "        text-align: right;\n",
       "    }\n",
       "</style>\n",
       "<table border=\"1\" class=\"dataframe\">\n",
       "  <thead>\n",
       "    <tr style=\"text-align: right;\">\n",
       "      <th></th>\n",
       "      <th>Pricing, Delivery_Terms_Quote_Appr</th>\n",
       "      <th>Pricing, Delivery_Terms_Approved</th>\n",
       "      <th>Bureaucratic_Code_0_Approval</th>\n",
       "      <th>Bureaucratic_Code_0_Approved</th>\n",
       "      <th>Opportunity_ID</th>\n",
       "      <th>ASP</th>\n",
       "      <th>ASP_(converted)</th>\n",
       "      <th>Month</th>\n",
       "      <th>Delivery_Year</th>\n",
       "      <th>TRF</th>\n",
       "      <th>...</th>\n",
       "      <th>Source _0</th>\n",
       "      <th>Source _1</th>\n",
       "      <th>Source _2</th>\n",
       "      <th>Source _3</th>\n",
       "      <th>Account_Type_0</th>\n",
       "      <th>Account_Type_1</th>\n",
       "      <th>Account_Type_2</th>\n",
       "      <th>Total_Amount_Currency_0</th>\n",
       "      <th>Total_Amount_Currency_1</th>\n",
       "      <th>Total_Amount_Currency_2</th>\n",
       "    </tr>\n",
       "  </thead>\n",
       "  <tbody>\n",
       "    <tr>\n",
       "      <th>16942</th>\n",
       "      <td>1</td>\n",
       "      <td>1</td>\n",
       "      <td>1</td>\n",
       "      <td>1</td>\n",
       "      <td>12801</td>\n",
       "      <td>0.5200</td>\n",
       "      <td>0.58817</td>\n",
       "      <td>12</td>\n",
       "      <td>2016</td>\n",
       "      <td>0</td>\n",
       "      <td>...</td>\n",
       "      <td>1</td>\n",
       "      <td>0</td>\n",
       "      <td>1</td>\n",
       "      <td>1</td>\n",
       "      <td>1</td>\n",
       "      <td>0</td>\n",
       "      <td>0</td>\n",
       "      <td>0</td>\n",
       "      <td>0</td>\n",
       "      <td>1</td>\n",
       "    </tr>\n",
       "    <tr>\n",
       "      <th>16943</th>\n",
       "      <td>1</td>\n",
       "      <td>1</td>\n",
       "      <td>1</td>\n",
       "      <td>1</td>\n",
       "      <td>12801</td>\n",
       "      <td>0.5200</td>\n",
       "      <td>0.58817</td>\n",
       "      <td>12</td>\n",
       "      <td>2016</td>\n",
       "      <td>0</td>\n",
       "      <td>...</td>\n",
       "      <td>1</td>\n",
       "      <td>0</td>\n",
       "      <td>1</td>\n",
       "      <td>1</td>\n",
       "      <td>1</td>\n",
       "      <td>0</td>\n",
       "      <td>0</td>\n",
       "      <td>0</td>\n",
       "      <td>0</td>\n",
       "      <td>1</td>\n",
       "    </tr>\n",
       "    <tr>\n",
       "      <th>16944</th>\n",
       "      <td>1</td>\n",
       "      <td>1</td>\n",
       "      <td>1</td>\n",
       "      <td>1</td>\n",
       "      <td>12801</td>\n",
       "      <td>0.5200</td>\n",
       "      <td>0.58817</td>\n",
       "      <td>12</td>\n",
       "      <td>2016</td>\n",
       "      <td>0</td>\n",
       "      <td>...</td>\n",
       "      <td>1</td>\n",
       "      <td>0</td>\n",
       "      <td>1</td>\n",
       "      <td>1</td>\n",
       "      <td>1</td>\n",
       "      <td>0</td>\n",
       "      <td>0</td>\n",
       "      <td>0</td>\n",
       "      <td>0</td>\n",
       "      <td>1</td>\n",
       "    </tr>\n",
       "    <tr>\n",
       "      <th>16945</th>\n",
       "      <td>1</td>\n",
       "      <td>1</td>\n",
       "      <td>1</td>\n",
       "      <td>1</td>\n",
       "      <td>12802</td>\n",
       "      <td>0.6375</td>\n",
       "      <td>0.63750</td>\n",
       "      <td>12</td>\n",
       "      <td>2016</td>\n",
       "      <td>4</td>\n",
       "      <td>...</td>\n",
       "      <td>1</td>\n",
       "      <td>1</td>\n",
       "      <td>0</td>\n",
       "      <td>1</td>\n",
       "      <td>1</td>\n",
       "      <td>0</td>\n",
       "      <td>0</td>\n",
       "      <td>1</td>\n",
       "      <td>0</td>\n",
       "      <td>0</td>\n",
       "    </tr>\n",
       "    <tr>\n",
       "      <th>16946</th>\n",
       "      <td>1</td>\n",
       "      <td>1</td>\n",
       "      <td>1</td>\n",
       "      <td>1</td>\n",
       "      <td>12803</td>\n",
       "      <td>0.6400</td>\n",
       "      <td>0.64000</td>\n",
       "      <td>12</td>\n",
       "      <td>2016</td>\n",
       "      <td>40</td>\n",
       "      <td>...</td>\n",
       "      <td>1</td>\n",
       "      <td>1</td>\n",
       "      <td>0</td>\n",
       "      <td>1</td>\n",
       "      <td>1</td>\n",
       "      <td>0</td>\n",
       "      <td>0</td>\n",
       "      <td>1</td>\n",
       "      <td>0</td>\n",
       "      <td>0</td>\n",
       "    </tr>\n",
       "  </tbody>\n",
       "</table>\n",
       "<p>5 rows × 126 columns</p>\n",
       "</div>"
      ],
      "text/plain": [
       "       Pricing, Delivery_Terms_Quote_Appr  Pricing, Delivery_Terms_Approved  \\\n",
       "16942                                   1                                 1   \n",
       "16943                                   1                                 1   \n",
       "16944                                   1                                 1   \n",
       "16945                                   1                                 1   \n",
       "16946                                   1                                 1   \n",
       "\n",
       "       Bureaucratic_Code_0_Approval  Bureaucratic_Code_0_Approved  \\\n",
       "16942                             1                             1   \n",
       "16943                             1                             1   \n",
       "16944                             1                             1   \n",
       "16945                             1                             1   \n",
       "16946                             1                             1   \n",
       "\n",
       "       Opportunity_ID     ASP  ASP_(converted)  Month  Delivery_Year  TRF  \\\n",
       "16942           12801  0.5200          0.58817     12           2016    0   \n",
       "16943           12801  0.5200          0.58817     12           2016    0   \n",
       "16944           12801  0.5200          0.58817     12           2016    0   \n",
       "16945           12802  0.6375          0.63750     12           2016    4   \n",
       "16946           12803  0.6400          0.64000     12           2016   40   \n",
       "\n",
       "       ...  Source _0  Source _1  Source _2  Source _3  Account_Type_0  \\\n",
       "16942  ...          1          0          1          1               1   \n",
       "16943  ...          1          0          1          1               1   \n",
       "16944  ...          1          0          1          1               1   \n",
       "16945  ...          1          1          0          1               1   \n",
       "16946  ...          1          1          0          1               1   \n",
       "\n",
       "       Account_Type_1  Account_Type_2  Total_Amount_Currency_0  \\\n",
       "16942               0               0                        0   \n",
       "16943               0               0                        0   \n",
       "16944               0               0                        0   \n",
       "16945               0               0                        1   \n",
       "16946               0               0                        1   \n",
       "\n",
       "       Total_Amount_Currency_1  Total_Amount_Currency_2  \n",
       "16942                        0                        1  \n",
       "16943                        0                        1  \n",
       "16944                        0                        1  \n",
       "16945                        0                        0  \n",
       "16946                        0                        0  \n",
       "\n",
       "[5 rows x 126 columns]"
      ]
     },
     "execution_count": 4,
     "metadata": {},
     "output_type": "execute_result"
    }
   ],
   "source": [
    "train.tail()"
   ]
  },
  {
   "cell_type": "code",
   "execution_count": 5,
   "metadata": {},
   "outputs": [],
   "source": [
    "X = train.drop('target', axis=1).values\n",
    "Y = train['target'].values\n",
    "\n",
    "X_train, X_val, Y_train, Y_val = train_test_split(X, Y, test_size=0.2, random_state=seed)"
   ]
  },
  {
   "cell_type": "code",
   "execution_count": 6,
   "metadata": {},
   "outputs": [],
   "source": [
    "param_grid = {\n",
    "    'num_leaves': [55, 60, 65],\n",
    "    'max_depth': [8,10,12],\n",
    "    'min_gain_to_split':[0.1, 0.2], \n",
    "    'max_bin':[50, 100, 150],\n",
    "    'min_data_in_leaf':[3000, 5000, 7000],\n",
    "    'bagging_freq':[4,5,6],\n",
    "    'bagging_fraction':[0.65, 0.7, 0.75],\n",
    "    'feature_fraction':[0.7]\n",
    "}"
   ]
  },
  {
   "cell_type": "code",
   "execution_count": 7,
   "metadata": {},
   "outputs": [],
   "source": [
    "reg = lgb.LGBMRegressor(boosting_type='gbdt',  objective='regression', metric='mae', num_boost_round=5000,\n",
    "                       verbose=0, learning_rate=0.1)"
   ]
  },
  {
   "cell_type": "code",
   "execution_count": 8,
   "metadata": {},
   "outputs": [],
   "source": [
    "#gridsearch = GridSearchCV(reg, param_grid, cv=4, scoring = 'neg_mean_absolute_error')\n",
    "gridsearch = RandomizedSearchCV(reg, param_grid, n_iter=120, n_jobs=3, cv=4, scoring = 'neg_mean_absolute_error')"
   ]
  },
  {
   "cell_type": "code",
   "execution_count": null,
   "metadata": {},
   "outputs": [],
   "source": [
    "%%time\n",
    "gridsearch.fit(X,Y)"
   ]
  },
  {
   "cell_type": "code",
   "execution_count": null,
   "metadata": {},
   "outputs": [],
   "source": [
    "gridsearch.best_params_"
   ]
  },
  {
   "cell_type": "code",
   "execution_count": null,
   "metadata": {},
   "outputs": [],
   "source": [
    "def get_best_params():\n",
    "    return {\n",
    "        'lightgbm':{\n",
    "            'num_leaves': 65,\n",
    "            'min_gain_to_split': 0.1,\n",
    "            'min_data_in_leaf': 1000,\n",
    "            'max_depth': 10,\n",
    "            'max_bin': 150,\n",
    "            'feature_fraction': 0.7,\n",
    "            'bagging_freq': 6,\n",
    "            'bagging_fraction': 0.65,\n",
    "            'learning_rate': 0.05,\n",
    "            'num_boost_round':10000\n",
    "        }\n",
    "    }"
   ]
  },
  {
   "cell_type": "code",
   "execution_count": null,
   "metadata": {},
   "outputs": [],
   "source": [
    "params = get_best_params()['lightgbm']"
   ]
  },
  {
   "cell_type": "code",
   "execution_count": null,
   "metadata": {},
   "outputs": [],
   "source": [
    "params\n"
   ]
  },
  {
   "cell_type": "code",
   "execution_count": null,
   "metadata": {},
   "outputs": [],
   "source": [
    "%%time\n",
    "d_train = lgb.Dataset(X_train.values, label=Y_train.values)\n",
    "d_valid = lgb.Dataset(X_val.values, label=Y_val.values)\n",
    "watchlist = [d_valid, d_train]\n",
    "reg = lgb.train(params, train_set = d_train, valid_sets = watchlist, verbose_eval=500)"
   ]
  },
  {
   "cell_type": "code",
   "execution_count": null,
   "metadata": {},
   "outputs": [],
   "source": [
    "Y_pred = reg.predict(X_val.values)\n",
    "\n",
    "f = np.vectorize(math.exp)\n",
    "Y_pred = f(Y_pred)\n",
    "Y_val = f(Y_val.values)\n",
    "mean_absolute_error(Y_val,Y_pred)"
   ]
  },
  {
   "cell_type": "code",
   "execution_count": null,
   "metadata": {},
   "outputs": [],
   "source": [
    "\n",
    "ids = test_selected.index.values\n",
    "X_test = test_selected.values\n",
    "test_predict = reg.predict(X_test)\n",
    "f = np.vectorize(math.exp)\n",
    "test_predict = f(test_predict)\n",
    "escribir_respuesta(ids, test_predict)"
   ]
  },
  {
   "cell_type": "code",
   "execution_count": null,
   "metadata": {},
   "outputs": [],
   "source": []
  },
  {
   "cell_type": "code",
   "execution_count": null,
   "metadata": {},
   "outputs": [],
   "source": []
  }
 ],
 "metadata": {
  "kernelspec": {
   "display_name": "Python 3",
   "language": "python",
   "name": "python3"
  },
  "language_info": {
   "codemirror_mode": {
    "name": "ipython",
    "version": 3
   },
   "file_extension": ".py",
   "mimetype": "text/x-python",
   "name": "python",
   "nbconvert_exporter": "python",
   "pygments_lexer": "ipython3",
   "version": "3.8.3"
  }
 },
 "nbformat": 4,
 "nbformat_minor": 4
}
