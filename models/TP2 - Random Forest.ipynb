{
 "cells": [
  {
   "cell_type": "code",
   "execution_count": 1,
   "metadata": {},
   "outputs": [],
   "source": [
    "# !pip install -U scikit-learn"
   ]
  },
  {
   "cell_type": "code",
   "execution_count": 2,
   "metadata": {},
   "outputs": [],
   "source": [
    "from sklearn.ensemble import RandomForestClassifier,RandomForestRegressor\n",
    "from sklearn.metrics import mean_squared_error\n",
    "import pandas as pd\n",
    "import numpy as np\n",
    "%matplotlib inline\n",
    "import matplotlib.pyplot as plt\n",
    "\n",
    "from sklearn.model_selection import cross_val_score\n",
    "from sklearn.metrics import log_loss\n",
    "from sklearn.metrics import make_scorer\n",
    "\n",
    "import seaborn as sns\n",
    "import matplotlib.pyplot as plt"
   ]
  },
  {
   "cell_type": "markdown",
   "metadata": {},
   "source": [
    "# TP2 - Random Forest Model\n",
    "\n",
    "El objetivo es crear un primer modelo básico de random forest, sin feature engineering ni hyperparameters tunning, para poder tener un primer resultado local. Luego, realizar un primer submit en kaggle y en base a eso ir mejorando el modelo "
   ]
  },
  {
   "cell_type": "code",
   "execution_count": 3,
   "metadata": {},
   "outputs": [],
   "source": [
    "train = pd.read_csv(\"../datasets/first-rf-model-train.csv\")\n",
    "test = pd.read_csv(\"../datasets/first-rf-model-test.csv\")\n",
    "\n",
    "train['Month'] = pd.to_datetime(train['Month']).dt.month\n",
    "test['Month'] = pd.to_datetime(test['Month']).dt.month"
   ]
  },
  {
   "cell_type": "code",
   "execution_count": 4,
   "metadata": {},
   "outputs": [
    {
     "data": {
      "text/html": [
       "<div>\n",
       "<style scoped>\n",
       "    .dataframe tbody tr th:only-of-type {\n",
       "        vertical-align: middle;\n",
       "    }\n",
       "\n",
       "    .dataframe tbody tr th {\n",
       "        vertical-align: top;\n",
       "    }\n",
       "\n",
       "    .dataframe thead th {\n",
       "        text-align: right;\n",
       "    }\n",
       "</style>\n",
       "<table border=\"1\" class=\"dataframe\">\n",
       "  <thead>\n",
       "    <tr style=\"text-align: right;\">\n",
       "      <th></th>\n",
       "      <th>Pricing, Delivery_Terms_Quote_Appr</th>\n",
       "      <th>Pricing, Delivery_Terms_Approved</th>\n",
       "      <th>Bureaucratic_Code_0_Approval</th>\n",
       "      <th>Bureaucratic_Code_0_Approved</th>\n",
       "      <th>Opportunity_ID</th>\n",
       "      <th>Sales_Contract_No</th>\n",
       "      <th>ASP</th>\n",
       "      <th>ASP_(converted)</th>\n",
       "      <th>Month</th>\n",
       "      <th>Delivery_Year</th>\n",
       "      <th>...</th>\n",
       "      <th>Last_Modified_By_2</th>\n",
       "      <th>Last_Modified_By_3</th>\n",
       "      <th>Last_Modified_By_4</th>\n",
       "      <th>Last_Modified_By_5</th>\n",
       "      <th>Total_Taxable_Amount_Currency_0</th>\n",
       "      <th>Total_Taxable_Amount_Currency_1</th>\n",
       "      <th>Total_Taxable_Amount_Currency_2</th>\n",
       "      <th>Total_Amount_Currency_0</th>\n",
       "      <th>Total_Amount_Currency_1</th>\n",
       "      <th>Total_Amount_Currency_2</th>\n",
       "    </tr>\n",
       "  </thead>\n",
       "  <tbody>\n",
       "    <tr>\n",
       "      <th>0</th>\n",
       "      <td>1</td>\n",
       "      <td>1</td>\n",
       "      <td>1</td>\n",
       "      <td>1</td>\n",
       "      <td>10689</td>\n",
       "      <td>6436</td>\n",
       "      <td>0.325</td>\n",
       "      <td>0.36761</td>\n",
       "      <td>5</td>\n",
       "      <td>2019</td>\n",
       "      <td>...</td>\n",
       "      <td>0</td>\n",
       "      <td>1</td>\n",
       "      <td>0</td>\n",
       "      <td>0</td>\n",
       "      <td>0</td>\n",
       "      <td>0</td>\n",
       "      <td>1</td>\n",
       "      <td>0</td>\n",
       "      <td>0</td>\n",
       "      <td>1</td>\n",
       "    </tr>\n",
       "    <tr>\n",
       "      <th>1</th>\n",
       "      <td>1</td>\n",
       "      <td>1</td>\n",
       "      <td>1</td>\n",
       "      <td>1</td>\n",
       "      <td>10689</td>\n",
       "      <td>6436</td>\n",
       "      <td>0.320</td>\n",
       "      <td>0.36195</td>\n",
       "      <td>5</td>\n",
       "      <td>2019</td>\n",
       "      <td>...</td>\n",
       "      <td>0</td>\n",
       "      <td>1</td>\n",
       "      <td>0</td>\n",
       "      <td>0</td>\n",
       "      <td>0</td>\n",
       "      <td>0</td>\n",
       "      <td>1</td>\n",
       "      <td>0</td>\n",
       "      <td>0</td>\n",
       "      <td>1</td>\n",
       "    </tr>\n",
       "  </tbody>\n",
       "</table>\n",
       "<p>2 rows × 110 columns</p>\n",
       "</div>"
      ],
      "text/plain": [
       "   Pricing, Delivery_Terms_Quote_Appr  Pricing, Delivery_Terms_Approved  \\\n",
       "0                                   1                                 1   \n",
       "1                                   1                                 1   \n",
       "\n",
       "   Bureaucratic_Code_0_Approval  Bureaucratic_Code_0_Approved  Opportunity_ID  \\\n",
       "0                             1                             1           10689   \n",
       "1                             1                             1           10689   \n",
       "\n",
       "   Sales_Contract_No    ASP  ASP_(converted)  Month  Delivery_Year  ...  \\\n",
       "0               6436  0.325          0.36761      5           2019  ...   \n",
       "1               6436  0.320          0.36195      5           2019  ...   \n",
       "\n",
       "   Last_Modified_By_2  Last_Modified_By_3  Last_Modified_By_4  \\\n",
       "0                   0                   1                   0   \n",
       "1                   0                   1                   0   \n",
       "\n",
       "   Last_Modified_By_5  Total_Taxable_Amount_Currency_0  \\\n",
       "0                   0                                0   \n",
       "1                   0                                0   \n",
       "\n",
       "   Total_Taxable_Amount_Currency_1  Total_Taxable_Amount_Currency_2  \\\n",
       "0                                0                                1   \n",
       "1                                0                                1   \n",
       "\n",
       "   Total_Amount_Currency_0  Total_Amount_Currency_1  Total_Amount_Currency_2  \n",
       "0                        0                        0                        1  \n",
       "1                        0                        0                        1  \n",
       "\n",
       "[2 rows x 110 columns]"
      ]
     },
     "execution_count": 4,
     "metadata": {},
     "output_type": "execute_result"
    }
   ],
   "source": [
    "test.head(2)"
   ]
  },
  {
   "cell_type": "code",
   "execution_count": null,
   "metadata": {},
   "outputs": [],
   "source": []
  },
  {
   "cell_type": "code",
   "execution_count": 5,
   "metadata": {},
   "outputs": [
    {
     "data": {
      "text/plain": [
       "110"
      ]
     },
     "execution_count": 5,
     "metadata": {},
     "output_type": "execute_result"
    }
   ],
   "source": [
    "target = \"target\"\n",
    "features = list(train.columns)\n",
    "features.remove(target)\n",
    "len(features)"
   ]
  },
  {
   "cell_type": "code",
   "execution_count": 6,
   "metadata": {},
   "outputs": [],
   "source": [
    "X_train, y_train = train.loc[:,features],train.loc[:,target]\n",
    "X_test = test"
   ]
  },
  {
   "cell_type": "code",
   "execution_count": 7,
   "metadata": {},
   "outputs": [
    {
     "name": "stdout",
     "output_type": "stream",
     "text": [
      "(16947, 110)\n",
      "(2551, 110)\n"
     ]
    }
   ],
   "source": [
    "print(X_train.shape)\n",
    "print(X_test.shape)"
   ]
  },
  {
   "cell_type": "code",
   "execution_count": 8,
   "metadata": {},
   "outputs": [],
   "source": [
    "num_of_trees = 25\n",
    "max_depth = 6\n",
    "max_features = 10\n",
    "min_to_split = 15\n",
    "min_to_leaf = 1\n",
    "\n",
    "rf_model = RandomForestClassifier(n_estimators=num_of_trees,\\\n",
    "                                     max_depth = max_depth,\\\n",
    "                                     max_features = max_features,\\\n",
    "                                     min_samples_split = min_to_split,\\\n",
    "                                     min_samples_leaf = min_to_leaf,\\\n",
    "                                     random_state=1\n",
    "                                 )\n",
    "\n",
    "\n"
   ]
  },
  {
   "cell_type": "code",
   "execution_count": 9,
   "metadata": {},
   "outputs": [
    {
     "data": {
      "text/plain": [
       "count    1.130000e+03\n",
       "mean     1.575741e+00\n",
       "std      3.221097e+00\n",
       "min      9.992007e-16\n",
       "25%      9.992007e-16\n",
       "50%      9.992007e-16\n",
       "75%      2.302638e+00\n",
       "max      1.842073e+01\n",
       "dtype: float64"
      ]
     },
     "execution_count": 9,
     "metadata": {},
     "output_type": "execute_result"
    }
   ],
   "source": [
    "run = cross_val_score(rf_model,X_train,y_train,cv=1+int(len(X_train)/15),scoring= make_scorer(log_loss))\n",
    "run_df = pd.Series(run)\n",
    "run_df.describe()"
   ]
  },
  {
   "cell_type": "code",
   "execution_count": 10,
   "metadata": {},
   "outputs": [
    {
     "data": {
      "text/plain": [
       "0.00     788\n",
       "2.30     164\n",
       "4.61      72\n",
       "6.91      42\n",
       "11.51     20\n",
       "9.21      17\n",
       "16.12     13\n",
       "13.82     10\n",
       "18.42      2\n",
       "7.40       1\n",
       "2.47       1\n",
       "dtype: int64"
      ]
     },
     "execution_count": 10,
     "metadata": {},
     "output_type": "execute_result"
    }
   ],
   "source": [
    "round(run_df,2).value_counts()"
   ]
  },
  {
   "cell_type": "markdown",
   "metadata": {},
   "source": [
    " "
   ]
  },
  {
   "cell_type": "code",
   "execution_count": 11,
   "metadata": {},
   "outputs": [
    {
     "data": {
      "text/plain": [
       "<AxesSubplot:ylabel='Density'>"
      ]
     },
     "execution_count": 11,
     "metadata": {},
     "output_type": "execute_result"
    },
    {
     "data": {
      "image/png": "[encoded data removed]",
      "text/plain": [
       "<Figure size 432x288 with 1 Axes>"
      ]
     },
     "metadata": {
      "needs_background": "light"
     },
     "output_type": "display_data"
    }
   ],
   "source": [
    "sns.kdeplot(run_df)"
   ]
  },
  {
   "cell_type": "code",
   "execution_count": 12,
   "metadata": {},
   "outputs": [
    {
     "data": {
      "text/plain": [
       "array([[0.21777733, 0.78222267],\n",
       "       [0.19504876, 0.80495124],\n",
       "       [0.23204041, 0.76795959],\n",
       "       ...,\n",
       "       [0.2970197 , 0.7029803 ],\n",
       "       [0.70846705, 0.29153295],\n",
       "       [0.85634469, 0.14365531]])"
      ]
     },
     "execution_count": 12,
     "metadata": {},
     "output_type": "execute_result"
    }
   ],
   "source": [
    "rf_model.fit(X_train,y_train)\n",
    "pred = rf_model.predict_proba(X_test)\n",
    "pred"
   ]
  },
  {
   "cell_type": "code",
   "execution_count": 13,
   "metadata": {},
   "outputs": [
    {
     "data": {
      "text/html": [
       "<div>\n",
       "<style scoped>\n",
       "    .dataframe tbody tr th:only-of-type {\n",
       "        vertical-align: middle;\n",
       "    }\n",
       "\n",
       "    .dataframe tbody tr th {\n",
       "        vertical-align: top;\n",
       "    }\n",
       "\n",
       "    .dataframe thead th {\n",
       "        text-align: right;\n",
       "    }\n",
       "</style>\n",
       "<table border=\"1\" class=\"dataframe\">\n",
       "  <thead>\n",
       "    <tr style=\"text-align: right;\">\n",
       "      <th></th>\n",
       "      <th>Opportunity_ID</th>\n",
       "      <th>Target</th>\n",
       "    </tr>\n",
       "  </thead>\n",
       "  <tbody>\n",
       "    <tr>\n",
       "      <th>0</th>\n",
       "      <td>10689</td>\n",
       "      <td>0.782223</td>\n",
       "    </tr>\n",
       "    <tr>\n",
       "      <th>3</th>\n",
       "      <td>10690</td>\n",
       "      <td>0.723561</td>\n",
       "    </tr>\n",
       "    <tr>\n",
       "      <th>8</th>\n",
       "      <td>10691</td>\n",
       "      <td>0.752074</td>\n",
       "    </tr>\n",
       "    <tr>\n",
       "      <th>9</th>\n",
       "      <td>10692</td>\n",
       "      <td>0.663150</td>\n",
       "    </tr>\n",
       "    <tr>\n",
       "      <th>15</th>\n",
       "      <td>10693</td>\n",
       "      <td>0.849281</td>\n",
       "    </tr>\n",
       "    <tr>\n",
       "      <th>...</th>\n",
       "      <td>...</td>\n",
       "      <td>...</td>\n",
       "    </tr>\n",
       "    <tr>\n",
       "      <th>2545</th>\n",
       "      <td>12364</td>\n",
       "      <td>0.759630</td>\n",
       "    </tr>\n",
       "    <tr>\n",
       "      <th>2547</th>\n",
       "      <td>12365</td>\n",
       "      <td>0.713170</td>\n",
       "    </tr>\n",
       "    <tr>\n",
       "      <th>2548</th>\n",
       "      <td>12366</td>\n",
       "      <td>0.702980</td>\n",
       "    </tr>\n",
       "    <tr>\n",
       "      <th>2549</th>\n",
       "      <td>12367</td>\n",
       "      <td>0.291533</td>\n",
       "    </tr>\n",
       "    <tr>\n",
       "      <th>2550</th>\n",
       "      <td>12368</td>\n",
       "      <td>0.143655</td>\n",
       "    </tr>\n",
       "  </tbody>\n",
       "</table>\n",
       "<p>1567 rows × 2 columns</p>\n",
       "</div>"
      ],
      "text/plain": [
       "      Opportunity_ID    Target\n",
       "0              10689  0.782223\n",
       "3              10690  0.723561\n",
       "8              10691  0.752074\n",
       "9              10692  0.663150\n",
       "15             10693  0.849281\n",
       "...              ...       ...\n",
       "2545           12364  0.759630\n",
       "2547           12365  0.713170\n",
       "2548           12366  0.702980\n",
       "2549           12367  0.291533\n",
       "2550           12368  0.143655\n",
       "\n",
       "[1567 rows x 2 columns]"
      ]
     },
     "execution_count": 13,
     "metadata": {},
     "output_type": "execute_result"
    }
   ],
   "source": [
    "pred_df = pd.DataFrame(X_test[\"Opportunity_ID\"])\n",
    "pred_df[[\"Other\",\"Target\"]] = pred\n",
    "pred_df.drop(columns=\"Other\",inplace=True)\n",
    "pred_df = pred_df.drop_duplicates(\"Opportunity_ID\")\n",
    "pred_df"
   ]
  },
  {
   "cell_type": "code",
   "execution_count": 14,
   "metadata": {},
   "outputs": [],
   "source": [
    "# Exportamos el resultado para hacer un submit\n",
    "\n",
    "pred_df.to_csv(\"../submits/rf_model1.csv\", index=False)\n"
   ]
  },
  {
   "cell_type": "code",
   "execution_count": 15,
   "metadata": {},
   "outputs": [
    {
     "name": "stdout",
     "output_type": "stream",
     "text": [
      "Model logged successfully\n"
     ]
    }
   ],
   "source": [
    "from log.Logger import Logger\n",
    "\n",
    "model_name = \"RandomForest\"\n",
    "score = 1.5\n",
    "kaggle_score = 0.30216\n",
    "notas = \"intento1 - set filtrado y features encodeadas\"\n",
    "dataset_name = \"first-rf-model-train.csv\"\n",
    "hyperparm = {\"n_estimators\": num_of_trees,\n",
    "              \"max_depth\" : max_depth,\n",
    "              \"max_features\" : max_features,\n",
    "              \"min_samples_split\" : min_to_split,\n",
    "              \"min_samples_leaf\" : min_to_leaf,\n",
    "              \"random_state\" : 1\n",
    "            }\n",
    "\n",
    "Logger.log_model(model_name,score,kaggle_score,notas,dataset_name,hyperparm)"
   ]
  },
  {
   "cell_type": "code",
   "execution_count": 16,
   "metadata": {},
   "outputs": [
    {
     "name": "stdout",
     "output_type": "stream",
     "text": [
      "Suma de importancias:  1.0\n"
     ]
    },
    {
     "data": {
      "text/html": [
       "<div>\n",
       "<style scoped>\n",
       "    .dataframe tbody tr th:only-of-type {\n",
       "        vertical-align: middle;\n",
       "    }\n",
       "\n",
       "    .dataframe tbody tr th {\n",
       "        vertical-align: top;\n",
       "    }\n",
       "\n",
       "    .dataframe thead th {\n",
       "        text-align: right;\n",
       "    }\n",
       "</style>\n",
       "<table border=\"1\" class=\"dataframe\">\n",
       "  <thead>\n",
       "    <tr style=\"text-align: right;\">\n",
       "      <th></th>\n",
       "      <th>Column</th>\n",
       "      <th>Importance</th>\n",
       "    </tr>\n",
       "  </thead>\n",
       "  <tbody>\n",
       "    <tr>\n",
       "      <th>5</th>\n",
       "      <td>Sales_Contract_No</td>\n",
       "      <td>0.481355</td>\n",
       "    </tr>\n",
       "    <tr>\n",
       "      <th>82</th>\n",
       "      <td>Bureaucratic_Code_2</td>\n",
       "      <td>0.084305</td>\n",
       "    </tr>\n",
       "    <tr>\n",
       "      <th>10</th>\n",
       "      <td>TRF</td>\n",
       "      <td>0.053711</td>\n",
       "    </tr>\n",
       "    <tr>\n",
       "      <th>11</th>\n",
       "      <td>Total_Amount</td>\n",
       "      <td>0.049053</td>\n",
       "    </tr>\n",
       "    <tr>\n",
       "      <th>76</th>\n",
       "      <td>Opportunity_Type_1</td>\n",
       "      <td>0.038405</td>\n",
       "    </tr>\n",
       "  </tbody>\n",
       "</table>\n",
       "</div>"
      ],
      "text/plain": [
       "                 Column  Importance\n",
       "5     Sales_Contract_No    0.481355\n",
       "82  Bureaucratic_Code_2    0.084305\n",
       "10                  TRF    0.053711\n",
       "11         Total_Amount    0.049053\n",
       "76   Opportunity_Type_1    0.038405"
      ]
     },
     "execution_count": 16,
     "metadata": {},
     "output_type": "execute_result"
    }
   ],
   "source": [
    "to_plot = pd.DataFrame(zip(X_train,rf_model.feature_importances_),columns=[\"Column\",\"Importance\"])\\\n",
    "            .sort_values(\"Importance\", ascending= False)\n",
    "            \n",
    "print(\"Suma de importancias: \", to_plot[\"Importance\"].sum())\n",
    "\n",
    "to_plot= to_plot.nlargest(15,\"Importance\")\n",
    "to_plot.head()"
   ]
  },
  {
   "cell_type": "code",
   "execution_count": null,
   "metadata": {},
   "outputs": [],
   "source": []
  },
  {
   "cell_type": "code",
   "execution_count": 17,
   "metadata": {},
   "outputs": [
    {
     "data": {
      "image/png": "[encoded data removed]",
      "text/plain": [
       "<Figure size 432x288 with 1 Axes>"
      ]
     },
     "metadata": {
      "needs_background": "light"
     },
     "output_type": "display_data"
    }
   ],
   "source": [
    "sns.barplot(x=(to_plot[\"Importance\"]*100),y=to_plot[\"Column\"],orient=\"h\")\n",
    "plt.xticks(rotation=45)\n",
    "plt.show()"
   ]
  },
  {
   "cell_type": "code",
   "execution_count": null,
   "metadata": {},
   "outputs": [],
   "source": [
    "\n"
   ]
  },
  {
   "cell_type": "code",
   "execution_count": null,
   "metadata": {},
   "outputs": [],
   "source": []
  },
  {
   "cell_type": "code",
   "execution_count": null,
   "metadata": {},
   "outputs": [],
   "source": []
  }
 ],
 "metadata": {
  "kernelspec": {
   "display_name": "Python 3",
   "language": "python",
   "name": "python3"
  },
  "language_info": {
   "codemirror_mode": {
    "name": "ipython",
    "version": 3
   },
   "file_extension": ".py",
   "mimetype": "text/x-python",
   "name": "python",
   "nbconvert_exporter": "python",
   "pygments_lexer": "ipython3",
   "version": "3.7.9"
  }
 },
 "nbformat": 4,
 "nbformat_minor": 4
}
