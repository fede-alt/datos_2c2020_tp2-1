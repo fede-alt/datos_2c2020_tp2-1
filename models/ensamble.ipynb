{
 "cells": [
  {
   "cell_type": "code",
   "execution_count": 54,
   "metadata": {
    "collapsed": true
   },
   "outputs": [],
   "source": [
    "\n",
    "from sklearn.metrics import mean_squared_error\n",
    "import pandas as pd\n",
    "import numpy as np\n",
    "import matplotlib.pyplot as plt"
   ]
  },
  {
   "cell_type": "code",
   "execution_count": 55,
   "outputs": [
    {
     "data": {
      "text/plain": "      Opportunity_ID    Target\n0              10689  0.929982\n1              10690  0.697446\n2              10691  0.428577\n3              10692  0.281747\n4              10693  0.967341\n...              ...       ...\n1562           12364  0.985580\n1563           12365  0.055137\n1564           12366  0.027312\n1565           12367  0.763994\n1566           12368  0.018994\n\n[1567 rows x 2 columns]",
      "text/html": "<div>\n<style scoped>\n    .dataframe tbody tr th:only-of-type {\n        vertical-align: middle;\n    }\n\n    .dataframe tbody tr th {\n        vertical-align: top;\n    }\n\n    .dataframe thead th {\n        text-align: right;\n    }\n</style>\n<table border=\"1\" class=\"dataframe\">\n  <thead>\n    <tr style=\"text-align: right;\">\n      <th></th>\n      <th>Opportunity_ID</th>\n      <th>Target</th>\n    </tr>\n  </thead>\n  <tbody>\n    <tr>\n      <th>0</th>\n      <td>10689</td>\n      <td>0.929982</td>\n    </tr>\n    <tr>\n      <th>1</th>\n      <td>10690</td>\n      <td>0.697446</td>\n    </tr>\n    <tr>\n      <th>2</th>\n      <td>10691</td>\n      <td>0.428577</td>\n    </tr>\n    <tr>\n      <th>3</th>\n      <td>10692</td>\n      <td>0.281747</td>\n    </tr>\n    <tr>\n      <th>4</th>\n      <td>10693</td>\n      <td>0.967341</td>\n    </tr>\n    <tr>\n      <th>...</th>\n      <td>...</td>\n      <td>...</td>\n    </tr>\n    <tr>\n      <th>1562</th>\n      <td>12364</td>\n      <td>0.985580</td>\n    </tr>\n    <tr>\n      <th>1563</th>\n      <td>12365</td>\n      <td>0.055137</td>\n    </tr>\n    <tr>\n      <th>1564</th>\n      <td>12366</td>\n      <td>0.027312</td>\n    </tr>\n    <tr>\n      <th>1565</th>\n      <td>12367</td>\n      <td>0.763994</td>\n    </tr>\n    <tr>\n      <th>1566</th>\n      <td>12368</td>\n      <td>0.018994</td>\n    </tr>\n  </tbody>\n</table>\n<p>1567 rows × 2 columns</p>\n</div>"
     },
     "execution_count": 55,
     "metadata": {},
     "output_type": "execute_result"
    }
   ],
   "source": [
    "lgm = pd.read_csv(\"../submits/lgm_tunned_classifier.csv\")\n",
    "lgm\n"
   ],
   "metadata": {
    "collapsed": false,
    "pycharm": {
     "name": "#%%\n"
    }
   }
  },
  {
   "cell_type": "code",
   "execution_count": 56,
   "outputs": [
    {
     "data": {
      "text/plain": "      Opportunity_ID    Target\n0              10689  0.966305\n1              10690  0.693322\n2              10691  0.390785\n3              10692  0.359057\n4              10693  0.974250\n...              ...       ...\n1562           12364  0.966379\n1563           12365  0.247117\n1564           12366  0.172353\n1565           12367  0.659700\n1566           12368  0.101691\n\n[1567 rows x 2 columns]",
      "text/html": "<div>\n<style scoped>\n    .dataframe tbody tr th:only-of-type {\n        vertical-align: middle;\n    }\n\n    .dataframe tbody tr th {\n        vertical-align: top;\n    }\n\n    .dataframe thead th {\n        text-align: right;\n    }\n</style>\n<table border=\"1\" class=\"dataframe\">\n  <thead>\n    <tr style=\"text-align: right;\">\n      <th></th>\n      <th>Opportunity_ID</th>\n      <th>Target</th>\n    </tr>\n  </thead>\n  <tbody>\n    <tr>\n      <th>0</th>\n      <td>10689</td>\n      <td>0.966305</td>\n    </tr>\n    <tr>\n      <th>1</th>\n      <td>10690</td>\n      <td>0.693322</td>\n    </tr>\n    <tr>\n      <th>2</th>\n      <td>10691</td>\n      <td>0.390785</td>\n    </tr>\n    <tr>\n      <th>3</th>\n      <td>10692</td>\n      <td>0.359057</td>\n    </tr>\n    <tr>\n      <th>4</th>\n      <td>10693</td>\n      <td>0.974250</td>\n    </tr>\n    <tr>\n      <th>...</th>\n      <td>...</td>\n      <td>...</td>\n    </tr>\n    <tr>\n      <th>1562</th>\n      <td>12364</td>\n      <td>0.966379</td>\n    </tr>\n    <tr>\n      <th>1563</th>\n      <td>12365</td>\n      <td>0.247117</td>\n    </tr>\n    <tr>\n      <th>1564</th>\n      <td>12366</td>\n      <td>0.172353</td>\n    </tr>\n    <tr>\n      <th>1565</th>\n      <td>12367</td>\n      <td>0.659700</td>\n    </tr>\n    <tr>\n      <th>1566</th>\n      <td>12368</td>\n      <td>0.101691</td>\n    </tr>\n  </tbody>\n</table>\n<p>1567 rows × 2 columns</p>\n</div>"
     },
     "execution_count": 56,
     "metadata": {},
     "output_type": "execute_result"
    }
   ],
   "source": [
    "xgb = pd.read_csv(\"../submits/xgb-clf-tunned-beta2.csv\")\n",
    "xgb"
   ],
   "metadata": {
    "collapsed": false,
    "pycharm": {
     "name": "#%%\n"
    }
   }
  },
  {
   "cell_type": "code",
   "execution_count": 57,
   "outputs": [],
   "source": [
    "ensamble1 = xgb.join(lgm, lsuffix=\"_XGB\", rsuffix=\"_LGM\")\n",
    "ensamble1[\"ensamble_average\"] = ensamble1.apply(lambda x: (x['Target_XGB']+x[\"Target_LGM\"])*0.5, axis=1)\n",
    "ensamble1 = ensamble1.drop([\"Target_XGB\", \"Opportunity_ID_LGM\", \"Target_LGM\"], axis=1)\n",
    "ensamble1.columns = ['Opportunity_ID', 'Target']\n",
    "ensamble1.to_csv(\"ensamble-XGB-LGBM.csv\", index = False)\n"
   ],
   "metadata": {
    "collapsed": false,
    "pycharm": {
     "name": "#%%\n"
    }
   }
  },
  {
   "cell_type": "code",
   "execution_count": null,
   "outputs": [],
   "source": [],
   "metadata": {
    "collapsed": false,
    "pycharm": {
     "name": "#%%\n"
    }
   }
  },
  {
   "cell_type": "code",
   "execution_count": 58,
   "outputs": [
    {
     "data": {
      "text/plain": "      Opportunity_ID    Target\n0              10689  0.979048\n1              10690  0.686194\n2              10691  0.271285\n3              10692  0.277032\n4              10693  0.988002\n...              ...       ...\n1562           12364  0.990097\n1563           12365  0.117171\n1564           12366  0.086925\n1565           12367  0.863993\n1566           12368  0.164749\n\n[1567 rows x 2 columns]",
      "text/html": "<div>\n<style scoped>\n    .dataframe tbody tr th:only-of-type {\n        vertical-align: middle;\n    }\n\n    .dataframe tbody tr th {\n        vertical-align: top;\n    }\n\n    .dataframe thead th {\n        text-align: right;\n    }\n</style>\n<table border=\"1\" class=\"dataframe\">\n  <thead>\n    <tr style=\"text-align: right;\">\n      <th></th>\n      <th>Opportunity_ID</th>\n      <th>Target</th>\n    </tr>\n  </thead>\n  <tbody>\n    <tr>\n      <th>0</th>\n      <td>10689</td>\n      <td>0.979048</td>\n    </tr>\n    <tr>\n      <th>1</th>\n      <td>10690</td>\n      <td>0.686194</td>\n    </tr>\n    <tr>\n      <th>2</th>\n      <td>10691</td>\n      <td>0.271285</td>\n    </tr>\n    <tr>\n      <th>3</th>\n      <td>10692</td>\n      <td>0.277032</td>\n    </tr>\n    <tr>\n      <th>4</th>\n      <td>10693</td>\n      <td>0.988002</td>\n    </tr>\n    <tr>\n      <th>...</th>\n      <td>...</td>\n      <td>...</td>\n    </tr>\n    <tr>\n      <th>1562</th>\n      <td>12364</td>\n      <td>0.990097</td>\n    </tr>\n    <tr>\n      <th>1563</th>\n      <td>12365</td>\n      <td>0.117171</td>\n    </tr>\n    <tr>\n      <th>1564</th>\n      <td>12366</td>\n      <td>0.086925</td>\n    </tr>\n    <tr>\n      <th>1565</th>\n      <td>12367</td>\n      <td>0.863993</td>\n    </tr>\n    <tr>\n      <th>1566</th>\n      <td>12368</td>\n      <td>0.164749</td>\n    </tr>\n  </tbody>\n</table>\n<p>1567 rows × 2 columns</p>\n</div>"
     },
     "execution_count": 58,
     "metadata": {},
     "output_type": "execute_result"
    }
   ],
   "source": [
    "xgb2 = pd.read_csv(\"../submits/xgb-clf-tunned-beta28.csv\")\n",
    "xgb2"
   ],
   "metadata": {
    "collapsed": false,
    "pycharm": {
     "name": "#%%\n"
    }
   }
  },
  {
   "cell_type": "code",
   "execution_count": 61,
   "outputs": [],
   "source": [
    "ensamble2 = xgb2.join(lgm, lsuffix=\"_XGB\", rsuffix=\"_LGM\")\n",
    "ensamble2[\"ensamble_average\"] = ensamble2.apply(lambda x: (x['Target_XGB']+x[\"Target_LGM\"])*0.5, axis=1)\n",
    "ensamble2 = ensamble2.drop([\"Target_XGB\", \"Opportunity_ID_LGM\", \"Target_LGM\"], axis=1)\n",
    "ensamble2.columns = ['Opportunity_ID', 'Target']\n",
    "ensamble2.to_csv(\"ensamble-XGB-LGBM-v2.csv\", index = False)"
   ],
   "metadata": {
    "collapsed": false,
    "pycharm": {
     "name": "#%%\n"
    }
   }
  }
 ],
 "metadata": {
  "kernelspec": {
   "display_name": "Python 3",
   "language": "python",
   "name": "python3"
  },
  "language_info": {
   "codemirror_mode": {
    "name": "ipython",
    "version": 2
   },
   "file_extension": ".py",
   "mimetype": "text/x-python",
   "name": "python",
   "nbconvert_exporter": "python",
   "pygments_lexer": "ipython2",
   "version": "2.7.6"
  }
 },
 "nbformat": 4,
 "nbformat_minor": 0
}